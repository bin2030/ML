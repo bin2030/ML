{
  "nbformat": 4,
  "nbformat_minor": 0,
  "metadata": {
    "kernelspec": {
      "display_name": "Python 3",
      "language": "python",
      "name": "python3"
    },
    "language_info": {
      "codemirror_mode": {
        "name": "ipython",
        "version": 3
      },
      "file_extension": ".py",
      "mimetype": "text/x-python",
      "name": "python",
      "nbconvert_exporter": "python",
      "pygments_lexer": "ipython3",
      "version": "3.6.9"
    },
    "colab": {
      "provenance": []
    }
  },
  "cells": [
    {
      "cell_type": "markdown",
      "metadata": {
        "id": "aHg-RCF9jzX0"
      },
      "source": [
        "# 實作03：劃出二變數函數的3D曲面函數圖"
      ]
    },
    {
      "cell_type": "markdown",
      "metadata": {
        "id": "i8wPhurmj2sp"
      },
      "source": [
        "### (0)掛載雲端硬碟"
      ]
    },
    {
      "cell_type": "code",
      "metadata": {
        "id": "uXIc5znJkBRq",
        "colab": {
          "base_uri": "https://localhost:8080/"
        },
        "outputId": "ff789818-e8c5-469f-90fe-a908b33b54c5"
      },
      "source": [
        "from google.colab import drive\n",
        "drive.mount('/content/drive')"
      ],
      "execution_count": null,
      "outputs": [
        {
          "output_type": "stream",
          "name": "stdout",
          "text": [
            "Mounted at /content/drive\n"
          ]
        }
      ]
    },
    {
      "cell_type": "markdown",
      "metadata": {
        "id": "5ltZC-hmjzX2"
      },
      "source": [
        "### (1)import必要的套件"
      ]
    },
    {
      "cell_type": "code",
      "metadata": {
        "id": "z6BTkow0jzX3"
      },
      "source": [
        "import numpy as np\n",
        "import matplotlib.pyplot as plt\n",
        "import matplotlib.font_manager as plt_font\n",
        "twfont1 = plt_font.FontProperties(fname=\n",
        "        #?加程式碼)"
      ],
      "execution_count": null,
      "outputs": []
    },
    {
      "cell_type": "markdown",
      "metadata": {
        "id": "p63dv1TljzX8"
      },
      "source": [
        "### (2)定義二變數函數f(x,y)=x<sup>2</sup>+y<sup>2</sup>\n",
        "\n",
        "\n"
      ]
    },
    {
      "cell_type": "code",
      "metadata": {
        "id": "ZRZ4iM0yjzX-"
      },
      "source": [
        "def F(x,y):\n",
        "    #回傳函數運算值\n",
        "    #?加程式碼"
      ],
      "execution_count": null,
      "outputs": []
    },
    {
      "cell_type": "markdown",
      "metadata": {
        "id": "epiNhrOijzYC"
      },
      "source": [
        "### (3)鋪設繪圖的底圖網格"
      ]
    },
    {
      "cell_type": "code",
      "metadata": {
        "id": "A2zs4n6WjzYD"
      },
      "source": [
        "#產生橫軸、縱軸座標的數據點矩陣(在-5和5之間，間隔0.1)\n",
        "#?加程式碼\n",
        "#?加程式碼\n",
        "#x=np.arange(-5,5,0.1)\n",
        "#y=np.arange(-5,5,0.1)\n",
        "#利用橫軸、縱軸座標的數據點鋪設網點\n",
        "#?加程式碼"
      ],
      "execution_count": null,
      "outputs": []
    },
    {
      "cell_type": "markdown",
      "metadata": {
        "id": "9YVbq_eNjzYJ"
      },
      "source": [
        "### (4)劃出曲面圖"
      ]
    },
    {
      "cell_type": "code",
      "metadata": {
        "id": "Emg8e6w-jzYJ"
      },
      "source": [
        "#開啟繪圖區域\n",
        "fig=plt.figure(figsize=(12,9))\n",
        "#設定為 3D 繪圖\n",
        "#?加程式碼\n",
        "#設定z軸範圍\n",
        "#?加程式碼\n",
        "#設定坐標軸名稱\n",
        "ax.set_xlabel('X軸',fontproperties=twfont1)\n",
        "ax.set_ylabel('Y軸',fontproperties=twfont1)\n",
        "ax.set_zlabel('Z軸',fontproperties=twfont1)\n",
        "#畫出3D曲面,cmap為數值及色階對應方式,\n",
        "#antialiased=Fasle可以加快繪圖速度\n",
        "#?加程式碼\n",
        "#顯示數值及色階對應方式,shrink設定colorbar長度為圖片高度的幾倍,\n",
        "#預設值1.0,aspect設定colorbar寬、高比,預設值20\n",
        "#?加程式碼\n",
        "#elev=20設定視線和水平面的夾20度，azim=30設定立體圖順時針旋轉30度\n",
        "#?加程式碼"
      ],
      "execution_count": null,
      "outputs": []
    },
    {
      "cell_type": "code",
      "metadata": {
        "id": "Mit06fOlbLJK"
      },
      "source": [
        "#開啟繪圖區域\n",
        "fig=plt.figure(figsize=(12,9))\n",
        "#設定為 3D 繪圖\n",
        "ax = fig.add_subplot(projection = '3d')\n",
        "#設定z軸範圍\n",
        "ax.set_zlim(0,40)\n",
        "#設定坐標軸名稱\n",
        "ax.set_xlabel('X軸',fontproperties=twfont1)\n",
        "ax.set_ylabel('Y軸',fontproperties=twfont1)\n",
        "ax.set_zlabel('Z軸',fontproperties=twfont1)\n",
        "#畫出3D曲面,cmap為數值及色階對應方式,\n",
        "#antialiased=Fasle可以加快繪圖速度\n",
        "surf=#?加程式碼\n",
        "                     #?加程式碼\n",
        "                     antialiased=False)\n",
        "#顯示數值及色階對應方式,shrink設定colorbar長度為圖片高度的幾倍,\n",
        "#預設值1.0,aspect設定colorbar寬、高比,預設值20\n",
        "fig.colorbar(surf,shrink=0.5,aspect=5)\n",
        "#elev=20設定視線和水平面的夾20度，azim=30設定立體圖順時針旋轉30度\n",
        "#?加程式碼"
      ],
      "execution_count": null,
      "outputs": []
    },
    {
      "cell_type": "markdown",
      "metadata": {
        "id": "LQ99Fz3RjzYN"
      },
      "source": [
        "### (5)劃出等高線"
      ]
    },
    {
      "cell_type": "code",
      "metadata": {
        "id": "Fb2GX1_ejzYO"
      },
      "source": [
        "# 開啟繪圖區域\n",
        "plt.figure(figsize=(5,5))\n",
        "plt.title('等高線圖',fontproperties=twfont1,\n",
        "          fontsize=20)\n",
        "#?加程式碼\n",
        "#?加程式碼"
      ],
      "execution_count": null,
      "outputs": []
    },
    {
      "cell_type": "markdown",
      "metadata": {
        "id": "JuLTu0Xckniq"
      },
      "source": [
        "# 實作04：利用梯度下降法逼近雙變數函數的最小值"
      ]
    },
    {
      "cell_type": "markdown",
      "metadata": {
        "id": "XB9WxlWnkniw"
      },
      "source": [
        "### (2)定義雙變數函數f(x,y)=x<sup>2</sup>+y<sup>2</sup>學生可以自行修改)"
      ]
    },
    {
      "cell_type": "code",
      "metadata": {
        "id": "ulwv7BY3NDoj"
      },
      "source": [
        "# x**2+y**2"
      ],
      "execution_count": null,
      "outputs": []
    },
    {
      "cell_type": "code",
      "metadata": {
        "id": "gU7eocGzkniw"
      },
      "source": [
        "def F(x,y):\n",
        "    return #?加程式碼"
      ],
      "execution_count": null,
      "outputs": []
    },
    {
      "cell_type": "markdown",
      "metadata": {
        "id": "B1rK78M-kniz"
      },
      "source": [
        "### (3)定義雙變數函數的偏導函數fx=2x及fx=2y(學生可以自行修改)"
      ]
    },
    {
      "cell_type": "code",
      "metadata": {
        "id": "penRUOz4NHfi"
      },
      "source": [
        "# 2*x  # 2*y"
      ],
      "execution_count": null,
      "outputs": []
    },
    {
      "cell_type": "code",
      "metadata": {
        "id": "2pS6nc4Ukni0"
      },
      "source": [
        "#?加程式碼\n",
        "#?加程式碼"
      ],
      "execution_count": null,
      "outputs": []
    },
    {
      "cell_type": "markdown",
      "metadata": {
        "id": "AX1v_LUokni6"
      },
      "source": [
        "### (4)利用梯度下降找函數的極小值"
      ]
    },
    {
      "cell_type": "code",
      "source": [
        "#設定step_x、step_y用來儲存梯度下降每一步的座標\n",
        "step_x=[]\n",
        "step_y=[]\n",
        "step_z=[]\n",
        "#設定學習率，可以調大或調小，觀察梯度下降情況\n",
        "#?加程式碼\n",
        "#設定梯度下降的起點，可以改變不同位置，觀察梯度下降情況\n",
        "x_point=-3\n",
        "y_point=-5\n",
        "counter = 0"
      ],
      "metadata": {
        "id": "3zzD2aQSre5W"
      },
      "execution_count": null,
      "outputs": []
    },
    {
      "cell_type": "code",
      "metadata": {
        "id": "1eIPnnbNkni7"
      },
      "source": [
        "while #?加程式碼 >= 0.0001 or \\\n",
        "        #?加程式碼 >= 0.0001:\n",
        "    step_x.append(x_point)\n",
        "    step_y.append(y_point)\n",
        "    #?加程式碼\n",
        "    #利用梯度下降，更新x_point和y_point\n",
        "    #?加程式碼\n",
        "    #?加程式碼\n",
        "    counter += 1"
      ],
      "execution_count": null,
      "outputs": []
    },
    {
      "cell_type": "code",
      "metadata": {
        "colab": {
          "base_uri": "https://localhost:8080/"
        },
        "id": "GCJYho4VPwKA",
        "outputId": "fbcbb7ea-84d7-4af3-8d46-868de8344dd1"
      },
      "source": [
        "print(\"下降次數 = \",counter)"
      ],
      "execution_count": null,
      "outputs": [
        {
          "output_type": "stream",
          "name": "stdout",
          "text": [
            "下降次數 =  52\n"
          ]
        }
      ]
    },
    {
      "cell_type": "markdown",
      "metadata": {
        "id": "d-WREjr8knjA"
      },
      "source": [
        "### (5)鋪設繪圖的底圖網格"
      ]
    },
    {
      "cell_type": "code",
      "metadata": {
        "id": "7s9n8CDwknjB"
      },
      "source": [
        "#產生橫軸、縱軸座標的數據點矩陣(在-5和5之間，間隔0.1)\n",
        "x=np.arange(-5,5,0.1)\n",
        "y=np.arange(-5,5,0.1)\n",
        "#利用橫軸、縱軸座標的數據點鋪設網點\n",
        "#?加程式碼"
      ],
      "execution_count": null,
      "outputs": []
    },
    {
      "cell_type": "markdown",
      "metadata": {
        "id": "UQPMyMqtknjH"
      },
      "source": [
        "### (6)劃出曲面圖及梯度下降路徑"
      ]
    },
    {
      "cell_type": "code",
      "metadata": {
        "id": "xsxyx-9dknjI"
      },
      "source": [
        "#開啟繪圖區域\n",
        "fig=plt.figure(figsize=(8,5))\n",
        "#設定為3D繪圖\n",
        "ax = fig.add_subplot(projection = '3d')\n",
        "#設定坐標軸範圍\n",
        "ax.set_zlim(0,50)\n",
        "ax.set_xlim(-5,5)\n",
        "ax.set_ylim(-5,5)\n",
        "#設定坐標軸說明文字\n",
        "ax.set_xlabel('X軸',fontproperties=twfont1)\n",
        "ax.set_ylabel('Y軸',fontproperties=twfont1)\n",
        "ax.set_zlabel('Z軸',fontproperties=twfont1)\n",
        "#畫出3D曲面,cmap為數值及色階對應方式,\n",
        "#linewidth為線寬,antiliased=Fasle可以加快繪圖速度\n",
        "surf = #?加程式碼\n",
        "                       #?加程式碼\n",
        "                       alpha=0.2,\n",
        "                       antialiased=False)\n",
        "# 畫出梯度修正路徑的點和線\n",
        "#?加程式碼\n",
        "# 顯示數值及色階對應方式,shrink設定colorbar長度為圖片高度的幾倍,\n",
        "#預設值1.0,aspect設定colorbar寬、高比,預設值20\n",
        "fig.colorbar(surf,shrink=0.5,aspect=5)\n",
        "#elev=20設定視線和水平面的夾20度，azim=30設定立體圖順時針旋轉30度\n",
        "#?加程式碼"
      ],
      "execution_count": null,
      "outputs": []
    },
    {
      "cell_type": "code",
      "metadata": {
        "id": "r6TuPr7pK3by"
      },
      "source": [
        "#等高線圖"
      ],
      "execution_count": null,
      "outputs": []
    },
    {
      "cell_type": "code",
      "metadata": {
        "id": "g2NeZ1t1K3nO"
      },
      "source": [
        "plt.figure(figsize = (6,6))\n",
        "plt.title('等高線圖',fontproperties=twfont1,\n",
        "          fontsize=20)\n",
        "CS = plt.contour(x, y, F(x,y), 100)\n",
        "#?加程式碼\n",
        "plt.clabel(CS, inline=1, fontsize=14)"
      ],
      "execution_count": null,
      "outputs": []
    },
    {
      "cell_type": "code",
      "metadata": {
        "id": "-8u_zRsBK36G"
      },
      "source": [],
      "execution_count": null,
      "outputs": []
    },
    {
      "cell_type": "markdown",
      "metadata": {
        "id": "aDUOpHtsOLuc"
      },
      "source": [
        "### (2)定義雙變數函數f(x,y)=x<sup>2</sup>+y<sup>2</sup>學生可以自行修改)"
      ]
    },
    {
      "cell_type": "code",
      "metadata": {
        "id": "LX9nrJVROLui"
      },
      "source": [
        "#9*(x**2)+y**2"
      ],
      "execution_count": null,
      "outputs": []
    },
    {
      "cell_type": "code",
      "metadata": {
        "id": "lkmN0r4kOLui"
      },
      "source": [
        "def F(x,y):\n",
        "    #?加程式碼"
      ],
      "execution_count": null,
      "outputs": []
    },
    {
      "cell_type": "markdown",
      "metadata": {
        "id": "6eMMkPJWOLui"
      },
      "source": [
        "### (3)定義雙變數函數的偏導函數fx=2x及fx=2y(學生可以自行修改)"
      ]
    },
    {
      "cell_type": "code",
      "metadata": {
        "id": "cdqH4YzHOLui"
      },
      "source": [
        "# 18*x  # 2*y"
      ],
      "execution_count": null,
      "outputs": []
    },
    {
      "cell_type": "code",
      "metadata": {
        "id": "xkO4gkQROLui"
      },
      "source": [
        "#?加程式碼\n",
        "#?加程式碼"
      ],
      "execution_count": null,
      "outputs": []
    },
    {
      "cell_type": "markdown",
      "metadata": {
        "id": "2FnbEHefOLui"
      },
      "source": [
        "### (4)利用梯度下降找函數的極小值"
      ]
    },
    {
      "cell_type": "code",
      "source": [
        "#設定step_x、step_y用來儲存梯度下降每一步的座標\n",
        "step_x=[]\n",
        "step_y=[]\n",
        "step_z=[]\n",
        "#設定學習率，可以調大或調小，觀察梯度下降情況\n",
        "ETA=0.02\n",
        "#設定梯度下降的起點，可以改變不同位置，觀察梯度下降情況\n",
        "x_point=-3\n",
        "y_point=-5\n",
        "counter = 0"
      ],
      "metadata": {
        "id": "lNYkZ9d3xpSM"
      },
      "execution_count": null,
      "outputs": []
    },
    {
      "cell_type": "code",
      "metadata": {
        "id": "m4W5G-m8OLuj"
      },
      "source": [
        "while abs(Fx(x_point,y_point)) >= 0.0001 or \\\n",
        "        abs(Fy(x_point,y_point)) >= 0.0001:\n",
        "    step_x.append(x_point)\n",
        "    step_y.append(y_point)\n",
        "    step_z.append(F(x_point,y_point))\n",
        "    #利用梯度下降，更新x_point和y_point\n",
        "    x_point=#?加程式碼\n",
        "    y_point=#?加程式碼\n",
        "    counter += 1"
      ],
      "execution_count": null,
      "outputs": []
    },
    {
      "cell_type": "code",
      "metadata": {
        "colab": {
          "base_uri": "https://localhost:8080/"
        },
        "outputId": "02ae4090-0044-4590-8a2b-d8be4a9a8d2b",
        "id": "LWQOtsASOLuj"
      },
      "source": [
        "print(\"下降次數 = \",counter)"
      ],
      "execution_count": null,
      "outputs": [
        {
          "output_type": "stream",
          "name": "stdout",
          "text": [
            "下降次數 =  283\n"
          ]
        }
      ]
    },
    {
      "cell_type": "markdown",
      "metadata": {
        "id": "79qsMWpzOLuj"
      },
      "source": [
        "### (5)鋪設繪圖的底圖網格"
      ]
    },
    {
      "cell_type": "code",
      "metadata": {
        "id": "bXeXRMuwOLuj"
      },
      "source": [
        "#產生橫軸、縱軸座標的數據點矩陣(在-5和5之間，間隔0.1)\n",
        "x=np.arange(-5,5,0.1)\n",
        "y=np.arange(-5,5,0.1)\n",
        "#利用橫軸、縱軸座標的數據點鋪設網點\n",
        "#?加程式碼"
      ],
      "execution_count": null,
      "outputs": []
    },
    {
      "cell_type": "markdown",
      "metadata": {
        "id": "8n9IHRT_OLuj"
      },
      "source": [
        "### (6)劃出曲面圖及梯度下降路徑"
      ]
    },
    {
      "cell_type": "code",
      "source": [
        "#from mpl_toolkits.mplot3d import axes3d, Axes3D"
      ],
      "metadata": {
        "id": "1VwWyDsXPzX-"
      },
      "execution_count": null,
      "outputs": []
    },
    {
      "cell_type": "code",
      "metadata": {
        "id": "F5-VIcidOLuk"
      },
      "source": [
        "#開啟繪圖區域\n",
        "fig=plt.figure(figsize=(10,6))\n",
        "#設定為3D繪圖 ,新版本的指令。\n",
        "ax=plt.subplot(111,projection=\"3d\")\n",
        "#ax = Axes3D(fig)\n",
        "#設定坐標軸範圍\n",
        "ax.set_zlim(0,150)\n",
        "ax.set_xlim(-5,5)\n",
        "ax.set_ylim(-5,5)\n",
        "#設定坐標軸說明文字\n",
        "ax.set_xlabel('X軸',fontproperties=twfont1)\n",
        "ax.set_ylabel('Y軸',fontproperties=twfont1)\n",
        "ax.set_zlabel('Z軸',fontproperties=twfont1)\n",
        "#畫出3D曲面,cmap為數值及色階對應方式,linewidth為線寬,\n",
        "#antiliased=Fasle可以加快繪圖速度\n",
        "surf=#?加程式碼\n",
        "                     #?加程式碼\n",
        "                     antialiased=False)\n",
        "# 畫出梯度修正路徑的點和線\n",
        "#?加程式碼\n",
        "        \"b-o\",lw=.3, ms=1)\n",
        "# 顯示數值及色階對應方式,shrink設定colorbar長度為圖片高度的幾倍,\n",
        "#預設值1.0,aspect設定colorbar寬、高比,預設值20\n",
        "fig.colorbar(surf,shrink=0.5,aspect=5)\n",
        "#elev=75設定視線和水平面的夾75度，azim=38設定立體圖順時針旋轉38度\n",
        "ax.view_init(elev=70,azim=35)"
      ],
      "execution_count": null,
      "outputs": []
    },
    {
      "cell_type": "code",
      "metadata": {
        "id": "Cu1CP7TbOLuk"
      },
      "source": [
        "#等高線圖"
      ],
      "execution_count": null,
      "outputs": []
    },
    {
      "cell_type": "code",
      "metadata": {
        "id": "7rDY3iWKOLuk"
      },
      "source": [
        "plt.figure(figsize = (6,6))\n",
        "plt.title('等高線圖',fontproperties=twfont1,fontsize=16)\n",
        "CS = plt.contour(x, y, F(x,y), 100)\n",
        "#?加程式碼\n",
        "plt.clabel(CS, inline=1, fontsize=10)"
      ],
      "execution_count": null,
      "outputs": []
    },
    {
      "cell_type": "code",
      "metadata": {
        "id": "ynHZcVxbOLul"
      },
      "source": [
        "#開啟繪圖區域\n",
        "fig=plt.figure(figsize=(10,6))\n",
        "#設定為3D繪圖\n",
        "#ax=fig.gca(projection='3d')\n",
        "ax=plt.subplot(111,projection=\"3d\")\n",
        "#設定坐標軸範圍\n",
        "ax.set_zlim(0,150)\n",
        "ax.set_xlim(-5,5)\n",
        "ax.set_ylim(-5,5)\n",
        "#設定坐標軸說明文字\n",
        "ax.set_xlabel('X軸',fontproperties=twfont1)\n",
        "ax.set_ylabel('Y軸',fontproperties=twfont1)\n",
        "ax.set_zlabel('Z軸',fontproperties=twfont1)\n",
        "#畫出3D曲面,cmap為數值及色階對應方式,linewidth為線寬,\n",
        "#antiliased=Fasle可以加快繪圖速度\n",
        "surf=#?加程式碼\n",
        "                     #?加程式碼\n",
        "                     alpha=0.3,antialiased=False)\n",
        "# 畫出梯度修正路徑的點和線\n",
        "#?加程式碼\n",
        "# 顯示數值及色階對應方式,shrink設定colorbar長度為圖片高度的幾倍,\n",
        "#預設值1.0,aspect設定colorbar寬、高比,預設值20\n",
        "fig.colorbar(surf,shrink=0.5,aspect=5)\n",
        "#elev=20設定視線和水平面的夾20度，azim=30設定立體圖順時針旋轉30度\n",
        "ax.view_init(elev=50,azim=30)"
      ],
      "execution_count": null,
      "outputs": []
    },
    {
      "cell_type": "code",
      "metadata": {
        "id": "k-PGWIRmOLul"
      },
      "source": [
        "#開啟繪圖區域\n",
        "fig=plt.figure(figsize=(10,6))\n",
        "#設定為3D繪圖\n",
        "#ax=fig.gca(projection='3d')\n",
        "ax=plt.subplot(111,projection=\"3d\")\n",
        "#設定坐標軸範圍\n",
        "ax.set_zlim(0,150)\n",
        "ax.set_xlim(-5,5)\n",
        "ax.set_ylim(-5,5)\n",
        "#設定坐標軸說明文字\n",
        "ax.set_xlabel('X軸',fontproperties=twfont1)\n",
        "ax.set_ylabel('Y軸',fontproperties=twfont1)\n",
        "ax.set_zlabel('Z軸',fontproperties=twfont1)\n",
        "#畫出3D曲面,cmap為數值及色階對應方式,linewidth為線寬,\n",
        "#antiliased=Fasle可以加快繪圖速度\n",
        "surf=#?加程式碼,\n",
        "                     #?加程式碼\n",
        "                     alpha=0.2,antialiased=False)\n",
        "# 畫出梯度修正路徑的點和線\n",
        "ax.plot(step_x,step_y,step_z,\"k-^\",lw=.3, ms=2)\n",
        "# 顯示數值及色階對應方式,shrink設定colorbar長度為圖片高度的幾倍,\n",
        "#預設值1.0,aspect設定colorbar寬、高比,預設值20\n",
        "fig.colorbar(surf,shrink=0.5,aspect=5)\n",
        "#elev=20設定視線和水平面的夾20度，azim=30設定立體圖順時針旋轉30度\n",
        "ax.view_init(elev=70,azim=45)"
      ],
      "execution_count": null,
      "outputs": []
    },
    {
      "cell_type": "code",
      "metadata": {
        "id": "QWR06xpJsAlV"
      },
      "source": [
        "#開啟繪圖區域\n",
        "fig=plt.figure(figsize=(8,6))\n",
        "#設定為3D繪圖\n",
        "ax = fig.add_subplot(projection = '3d')\n",
        "#設定坐標軸範圍\n",
        "ax.set_zlim(0,50)\n",
        "ax.set_xlim(-5,5)\n",
        "ax.set_ylim(-5,5)\n",
        "#設定坐標軸說明文字\n",
        "ax.set_xlabel('X軸',fontproperties=twfont1)\n",
        "ax.set_ylabel('Y軸',fontproperties=twfont1)\n",
        "ax.set_zlabel('Z軸',fontproperties=twfont1)\n",
        "#畫出3D曲面,cmap為數值及色階對應方式,linewidth為線寬,\n",
        "#antiliased=Fasle可以加快繪圖速度\n",
        "surf = #?加程式碼\n",
        "                       cmap=\"nipy_spectral_r\",\n",
        "                       alpha=0.4,antialiased=False)\n",
        "# 畫出梯度修正路徑的點和線\n",
        "#?加程式碼\n",
        "# 顯示數值及色階對應方式,shrink設定colorbar長度為圖片高度的幾倍,\n",
        "#預設值1.0,aspect設定colorbar寬、高比,預設值20\n",
        "fig.colorbar(surf,shrink=0.5,aspect=5)\n",
        "#elev=20設定視線和水平面的夾20度，azim=30設定立體圖順時針旋轉30度\n",
        "ax.view_init(elev=40,azim=30)"
      ],
      "execution_count": null,
      "outputs": []
    },
    {
      "cell_type": "code",
      "metadata": {
        "id": "xCiJzrXBsfBs"
      },
      "source": [
        "#開啟繪圖區域\n",
        "fig=plt.figure(figsize=(8,6))\n",
        "#設定為3D繪圖\n",
        "ax = fig.add_subplot(projection = '3d')\n",
        "#設定坐標軸範圍\n",
        "ax.set_zlim(0,50)\n",
        "ax.set_xlim(-5,5)\n",
        "ax.set_ylim(-5,5)\n",
        "#設定坐標軸說明文字\n",
        "ax.set_xlabel('X軸',fontproperties=twfont1)\n",
        "ax.set_ylabel('Y軸',fontproperties=twfont1)\n",
        "ax.set_zlabel('Z軸',fontproperties=twfont1)\n",
        "#畫出3D曲面,cmap為數值及色階對應方式,linewidth為線寬,\n",
        "#antiliased=Fasle可以加快繪圖速度\n",
        "surf = #?加程式碼\n",
        "                     cmap=\"gist_rainbow\",\n",
        "                     alpha=0.3,antialiased=False)\n",
        "# 畫出梯度修正路徑的點和線\n",
        "#?加程式碼\n",
        "# 顯示數值及色階對應方式,shrink設定colorbar長度為圖片高度的幾倍,\n",
        "#預設值1.0,aspect設定colorbar寬、高比,預設值20\n",
        "fig.colorbar(surf,shrink=0.5,aspect=5)\n",
        "#elev=20設定視線和水平面的夾20度，azim=30設定立體圖順時針旋轉30度\n",
        "ax.view_init(elev=50,azim=60)"
      ],
      "execution_count": null,
      "outputs": []
    },
    {
      "cell_type": "code",
      "metadata": {
        "id": "PO8WWpmHryUd"
      },
      "source": [
        "#畫出3D曲面,cmap為數值及色階對應方式,\n",
        "#linewidth為線寬,antiliased=Fasle可以加快繪圖速度\n",
        "#surf=ax.plot_surface(x,y,F(x,y),cmap=\"warm\",\n",
        "                    #alpha=0.2,antialiased=False)\n"
      ],
      "execution_count": null,
      "outputs": []
    },
    {
      "cell_type": "markdown",
      "metadata": {
        "id": "2iF0NtetuCv9"
      },
      "source": [
        "supported values are 'Accent', 'Accent_r', 'Blues', 'Blues_r', 'BrBG', 'BrBG_r', 'BuGn', 'BuGn_r', 'BuPu', 'BuPu_r', 'CMRmap', 'CMRmap_r', 'Dark2', 'Dark2_r', 'GnBu', 'GnBu_r', 'Greens', 'Greens_r', 'Greys', 'Greys_r', 'OrRd', 'OrRd_r', 'Oranges', 'Oranges_r', 'PRGn', 'PRGn_r',\n",
        "\n",
        " 'Paired', 'Paired_r', 'Pastel1', 'Pastel1_r', 'Pastel2', 'Pastel2_r', 'PiYG', 'PiYG_r', 'PuBu', 'PuBuGn', 'PuBuGn_r', 'PuBu_r', 'PuOr', 'PuOr_r', 'PuRd', 'PuRd_r', 'Purples', 'Purples_r', 'RdBu', 'RdBu_r', 'RdGy', 'RdGy_r', 'RdPu', 'RdPu_r', 'RdYlBu', 'RdYlBu_r', 'RdYlGn', 'RdYlGn_r',\n",
        "\n",
        " 'Reds', 'Reds_r', 'Set1', 'Set1_r', 'Set2', 'Set2_r', 'Set3', 'Set3_r', 'Spectral', 'Spectral_r', 'Wistia', 'Wistia_r', 'YlGn', 'YlGnBu', 'YlGnBu_r', 'YlGn_r', 'YlOrBr', 'YlOrBr_r', 'YlOrRd', 'YlOrRd_r', 'afmhot', 'afmhot_r', 'autumn', 'autumn_r', 'binary', 'binary_r', 'bone', 'bone_r', 'brg', 'brg_r', 'bwr', 'bwr_r', 'cividis', 'cividis_r', 'cool', 'cool_r', 'coolwarm', 'coolwarm_r', 'copper', 'copper_r', 'cubehelix', 'cubehelix_r', 'flag', 'flag_r',\n",
        "\n",
        "  'gist_earth', 'gist_earth_r', 'gist_gray', 'gist_gray_r', 'gist_heat', 'gist_heat_r', 'gist_ncar', 'gist_ncar_r', 'gist_rainbow', 'gist_rainbow_r', 'gist_stern', 'gist_stern_r', 'gist_yarg', 'gist_yarg_r', 'gnuplot', 'gnuplot2', 'gnuplot2_r', 'gnuplot_r', 'gray', 'gray_r', 'hot', 'hot_r', 'hsv', 'hsv_r', 'inferno', 'inferno_r', 'jet', 'jet_r', 'magma', 'magma_r', 'nipy_spectral', 'nipy_spectral_r', 'ocean', 'oce..."
      ]
    }
  ]
}