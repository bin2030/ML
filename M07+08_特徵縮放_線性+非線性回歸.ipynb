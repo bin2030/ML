{
  "nbformat": 4,
  "nbformat_minor": 0,
  "metadata": {
    "kernelspec": {
      "display_name": "Python 3",
      "language": "python",
      "name": "python3"
    },
    "language_info": {
      "codemirror_mode": {
        "name": "ipython",
        "version": 3
      },
      "file_extension": ".py",
      "mimetype": "text/x-python",
      "name": "python",
      "nbconvert_exporter": "python",
      "pygments_lexer": "ipython3",
      "version": "3.6.9"
    },
    "colab": {
      "provenance": [],
      "toc_visible": true
    }
  },
  "cells": [
    {
      "cell_type": "markdown",
      "metadata": {
        "id": "h7bTgQY4oJg6"
      },
      "source": [
        "# 實作07：簡單線性回歸-有特徵縮放"
      ]
    },
    {
      "cell_type": "markdown",
      "metadata": {
        "id": "zAZnXjVSoLul"
      },
      "source": [
        "### (0)掛載雲端硬碟"
      ]
    },
    {
      "cell_type": "code",
      "metadata": {
        "id": "4JkeIQfuocWp",
        "colab": {
          "base_uri": "https://localhost:8080/"
        },
        "outputId": "f5248dad-6b75-401f-c7d3-5b12eaa418aa"
      },
      "source": [
        "from google.colab import drive\n",
        "drive.mount('/content/drive')"
      ],
      "execution_count": null,
      "outputs": [
        {
          "output_type": "stream",
          "name": "stdout",
          "text": [
            "Drive already mounted at /content/drive; to attempt to forcibly remount, call drive.mount(\"/content/drive\", force_remount=True).\n"
          ]
        }
      ]
    },
    {
      "cell_type": "markdown",
      "metadata": {
        "id": "Gd3LTUDdoJg7"
      },
      "source": [
        "### (1)import必要的套件"
      ]
    },
    {
      "cell_type": "code",
      "metadata": {
        "id": "qJDVZR28oJg8"
      },
      "source": [
        "import numpy as np\n",
        "from IPython import display\n",
        "import matplotlib.pyplot as plt\n",
        "import matplotlib.font_manager as plt_font\n",
        "#要記得改為自己的自行檔案路徑\n",
        "twfont1 = plt_font.FontProperties(fname=\n",
        "            \"#?加程式碼\")"
      ],
      "execution_count": null,
      "outputs": []
    },
    {
      "cell_type": "code",
      "metadata": {
        "id": "1XSZ9bhZnEBy"
      },
      "source": [
        "#?加程式碼"
      ],
      "execution_count": null,
      "outputs": []
    },
    {
      "cell_type": "markdown",
      "metadata": {
        "id": "nkL6Xp5qLnYH"
      },
      "source": [
        "### (2)定義特徵縮放的函數"
      ]
    },
    {
      "cell_type": "code",
      "metadata": {
        "id": "ir8yXQK_Lx2C"
      },
      "source": [
        "#參數kind預設為0，做標準化；kind設為1，做歸一化\n",
        "def FeatureScaling(data,kind=0):\n",
        "  if kind==1:\n",
        "    return #?加程式碼\n",
        "  else:\n",
        "    return #?加程式碼"
      ],
      "execution_count": null,
      "outputs": []
    },
    {
      "cell_type": "markdown",
      "metadata": {
        "id": "8h8xmwzVoJhB"
      },
      "source": [
        "### (3)將原始資料分為訓練資料集和驗證資料集"
      ]
    },
    {
      "cell_type": "code",
      "source": [
        "#由SalesVolume.csv檔案載入資料集\n",
        "data= np.loadtxt(#?加程式碼,\n",
        "                 #?加程式碼)"
      ],
      "metadata": {
        "id": "WCnqfwXBbEJ0"
      },
      "execution_count": null,
      "outputs": []
    },
    {
      "cell_type": "code",
      "metadata": {
        "id": "PfxTxTagWdON"
      },
      "source": [
        "df0 = #?加程式碼\n",
        "df0"
      ],
      "execution_count": null,
      "outputs": []
    },
    {
      "cell_type": "markdown",
      "metadata": {
        "id": "12c3DFrhyykf"
      },
      "source": [
        "### 重新訓練若由此開始 Run After\n",
        "### 用不同順序的資料集,隨機取得訓練及驗證的資料"
      ]
    },
    {
      "cell_type": "code",
      "metadata": {
        "id": "gNzSe3gTY6qf"
      },
      "source": [
        "#DataFrame隨機排序 frac=1傳回全部的項目,\n",
        "#reset_index() 方法來重置 DataFrame 索引\n",
        "#drop=True 選項防止將 index 新增為新的行(column)。\n",
        "df = #?加程式碼\n",
        "df"
      ],
      "execution_count": null,
      "outputs": []
    },
    {
      "cell_type": "code",
      "metadata": {
        "id": "jhzqHHQHVfdK"
      },
      "source": [
        "data = np.array(df)"
      ],
      "execution_count": null,
      "outputs": []
    },
    {
      "cell_type": "code",
      "metadata": {
        "id": "uVekABf0VGve"
      },
      "source": [
        "data"
      ],
      "execution_count": null,
      "outputs": []
    },
    {
      "cell_type": "code",
      "metadata": {
        "id": "HIkocy6zoJhG"
      },
      "source": [
        "data_x=#?加程式碼 #第0列為廣告推播次數，\n",
        "#並做特徵縮放，第2參數設為0是標準化，設為1是歸一化\n",
        "data_y=#?加程式碼 #第2列為商品銷售數量\n",
        "#訓練資料集12筆\n",
        "#?加程式碼\n",
        "#?加程式碼\n",
        "#驗證資料集8筆\n",
        "#?加程式碼\n",
        "#?加程式碼"
      ],
      "execution_count": null,
      "outputs": []
    },
    {
      "cell_type": "code",
      "source": [
        "data[0] #第0列為廣告推播次數"
      ],
      "metadata": {
        "id": "0ik7PP9QFhgZ"
      },
      "execution_count": null,
      "outputs": []
    },
    {
      "cell_type": "code",
      "source": [
        "data_x #做特徵縮放，標準化"
      ],
      "metadata": {
        "id": "eDkdNIIIFotY"
      },
      "execution_count": null,
      "outputs": []
    },
    {
      "cell_type": "markdown",
      "metadata": {
        "id": "0B8QFclgoJhR"
      },
      "source": [
        "### (4)隨機初始化偏值b，權重w"
      ]
    },
    {
      "cell_type": "code",
      "metadata": {
        "id": "B9v5uKi-oJhT"
      },
      "source": [
        "#?加程式碼\n",
        "#?加程式碼\n",
        "print(b,w)"
      ],
      "execution_count": null,
      "outputs": []
    },
    {
      "cell_type": "markdown",
      "metadata": {
        "id": "elaKkyU6oJhY"
      },
      "source": [
        "## (5)定義迴歸模型的線性函數"
      ]
    },
    {
      "cell_type": "code",
      "metadata": {
        "id": "waOWei-BoJhZ"
      },
      "source": [
        "def F(x):\n",
        "    return #?加程式碼"
      ],
      "execution_count": null,
      "outputs": []
    },
    {
      "cell_type": "markdown",
      "metadata": {
        "id": "YOC_ejxsoJhe"
      },
      "source": [
        "## (6)定義損失函數LOSS Funcation"
      ]
    },
    {
      "cell_type": "code",
      "metadata": {
        "id": "--4uolr7oJhf"
      },
      "source": [
        "def Loss(x,y):\n",
        "    return #?加程式碼"
      ],
      "execution_count": null,
      "outputs": []
    },
    {
      "cell_type": "markdown",
      "metadata": {
        "id": "sXFWFxxZoJhn"
      },
      "source": [
        "## (7)設定學習率和權重更新次數"
      ]
    },
    {
      "cell_type": "code",
      "metadata": {
        "id": "_SjbmsWCoJho"
      },
      "source": [
        "#學習率，不同特徵縮放方式，學習率需要調整\n",
        "#?加程式碼\n",
        "Step_Loss=[]\n",
        "Step_b=[]\n",
        "Step_w=[]"
      ],
      "execution_count": null,
      "outputs": []
    },
    {
      "cell_type": "markdown",
      "metadata": {
        "id": "mSosLrF1oJhr"
      },
      "source": [
        "## (8)開始訓練模型"
      ]
    },
    {
      "cell_type": "code",
      "metadata": {
        "id": "7__Uk4EEoJhs"
      },
      "source": [
        "for epoch in range(10000):\n",
        "    b=#?加程式碼\n",
        "    w=#?加程式碼\n",
        "    if epoch%100==99:\n",
        "        current_loss=#?加程式碼\n",
        "        print(\"訓練次數:\",epoch+1,\"\\nb:\",b,\n",
        "              \"\\nw:\",w,\"\\n損失函數:\",current_loss)\n",
        "        #?加程式碼\n",
        "        Step_b.append(b)\n",
        "        Step_w.append(w)\n",
        "        display.clear_output(wait=True)"
      ],
      "execution_count": null,
      "outputs": []
    },
    {
      "cell_type": "markdown",
      "metadata": {
        "id": "D7dPtjfloJhw"
      },
      "source": [
        "### (9)畫圖檢查模型訓練結果"
      ]
    },
    {
      "cell_type": "code",
      "metadata": {
        "id": "Bqm9ymtZoJhw"
      },
      "source": [
        "plt.figure(figsize=(12,6))\n",
        "plt.title(\"訓練模型和數據關係圖\",fontproperties=twfont1,fontsize=20)\n",
        "plt.xlabel(\"x資料\",fontproperties=twfont1,fontsize=20)\n",
        "plt.ylabel(\"y資料\",fontproperties=twfont1,fontsize=20)\n",
        "#x軸刻度範圍，不同特徵縮放方式需要調整\n",
        "x = #?加程式碼\n",
        "plt.plot(#?加程式碼,label=\"模型函數\")\n",
        "plt.plot(#?加程式碼, 'go',label=\"訓練資料集\")\n",
        "plt.plot(#?加程式碼, 'ro',label=\"驗證資料集\")\n",
        "plt.legend(prop=twfont1)\n",
        "plt.show()"
      ],
      "execution_count": null,
      "outputs": []
    },
    {
      "cell_type": "markdown",
      "metadata": {
        "id": "yrfMwe4XoJh1"
      },
      "source": [
        "### (10)觀察Loss值隨訓練次數的變化"
      ]
    },
    {
      "cell_type": "code",
      "metadata": {
        "id": "5R9oF5XVoJh2"
      },
      "source": [
        "plt.figure(figsize=(12,6))\n",
        "plt.title(\"Loss隨訓練次數的變化\",fontproperties=twfont1,fontsize=20)\n",
        "plt.xlabel(\"訓練次數(x100)\",fontproperties=twfont1,fontsize=20)\n",
        "plt.ylabel(\"Loss值\",fontproperties=twfont1,fontsize=20)\n",
        "plt.plot(#?加程式碼)\n",
        "plt.show()"
      ],
      "execution_count": null,
      "outputs": []
    },
    {
      "cell_type": "markdown",
      "metadata": {
        "id": "mQUQC5adoJh8"
      },
      "source": [
        "### (11)比較訓練好的迴歸模型函數在訓練資料集和驗證資料集的每筆平均Loss值"
      ]
    },
    {
      "cell_type": "code",
      "metadata": {
        "id": "IoiJ9gp-oJh8",
        "colab": {
          "base_uri": "https://localhost:8080/"
        },
        "outputId": "10150b01-e283-457e-ce4b-6b395f1c1b5b"
      },
      "source": [
        "print(\"訓練資料集對回歸模型的每筆平均Loss值\",\n",
        "      #?加程式碼)\n",
        "print(\"驗證資料集對回歸模型的每筆平均Loss值\",\n",
        "      #?加程式碼)"
      ],
      "execution_count": null,
      "outputs": [
        {
          "output_type": "stream",
          "name": "stdout",
          "text": [
            "訓練資料集對回歸模型的每筆平均Loss值 436.6690545773933\n",
            "驗證資料集對回歸模型的每筆平均Loss值 452.9945222184011\n"
          ]
        }
      ]
    },
    {
      "cell_type": "code",
      "source": [
        "import time"
      ],
      "metadata": {
        "id": "ocC5jM25bHdt"
      },
      "execution_count": null,
      "outputs": []
    },
    {
      "cell_type": "code",
      "metadata": {
        "id": "i6lfD72UioGP"
      },
      "source": [
        "time.sleep(3)\n",
        "#執行 Run All 會在這暫停3秒"
      ],
      "execution_count": null,
      "outputs": []
    },
    {
      "cell_type": "markdown",
      "metadata": {
        "id": "JKaZNAwAoJiA"
      },
      "source": [
        "### 動畫顯示迴歸係數的移動路徑"
      ]
    },
    {
      "cell_type": "code",
      "metadata": {
        "id": "BoPEo2WsoJiA"
      },
      "source": [
        "for i in range(0,len(Step_b),2):\n",
        "    plt.figure(figsize=(12,6))\n",
        "    plt.title(\"動畫顯示迴歸係數的移動路徑\",\n",
        "              fontproperties=twfont1,fontsize=20)\n",
        "    plt.xlim(#?加程式碼,\n",
        "             np.max(np.array([Step_b,Step_w])))\n",
        "    plt.ylim(np.min(np.array([Step_b,Step_w])),\n",
        "             #?加程式碼)\n",
        "    plt.xlabel(\"b\",fontproperties=twfont1,fontsize=20)\n",
        "    plt.ylabel(\"w\",fontproperties=twfont1,fontsize=20)\n",
        "    plt.#?加程式碼\n",
        "    plt.pause(0.1)\n",
        "    print(i)\n",
        "    display.clear_output(wait=True)"
      ],
      "execution_count": null,
      "outputs": []
    },
    {
      "cell_type": "markdown",
      "metadata": {
        "id": "51TzItZwu2Y_"
      },
      "source": [
        "### (12)顯示迴歸係數(權重和偏值)在損失函數等高線分布圖的移動路徑"
      ]
    },
    {
      "cell_type": "code",
      "metadata": {
        "id": "SoLsrn3pzTxU"
      },
      "source": [
        "#取b和w的網格範圍，不同的特徵縮放，網格範圍要調整\n",
        "b=np.linspace(0,450,200)\n",
        "w=np.linspace(0,450,200)\n",
        "#計算每一個網格點對應的損失函數值\n",
        "L=#?加程式碼\n",
        "for i in range(200):\n",
        "  for j in range(200):\n",
        "    L[j][i]=#?加程式碼\n",
        "#鋪設網格\n",
        "b,w=#?加程式碼\n",
        "# 開啟繪圖區域\n",
        "plt.figure(figsize=(10,10))\n",
        "CS=#?加程式碼\n",
        "plt.clabel(CS,inline=1,fontsize=10)\n",
        "plt.#?加程式碼\n",
        "plt.title('等高線圖',fontproperties=twfont1)\n",
        "plt.show()"
      ],
      "execution_count": null,
      "outputs": []
    },
    {
      "cell_type": "markdown",
      "metadata": {
        "id": "m245a789riuV"
      },
      "source": [
        "# 實作08：非線性回歸"
      ]
    },
    {
      "cell_type": "markdown",
      "metadata": {
        "id": "alBatEb20lDE"
      },
      "source": [
        "### 重新訓練若由此開始 Run After\n",
        "### 用不同順序的資料集,隨機取得訓練及驗證的資料"
      ]
    },
    {
      "cell_type": "code",
      "metadata": {
        "colab": {
          "base_uri": "https://localhost:8080/",
          "height": 112
        },
        "outputId": "9b6e6559-4f10-4033-ddf4-3a1d3b119c43",
        "id": "WCOz7HMbzk2K"
      },
      "source": [
        "#DataFrame隨機排序 frac=1傳回全部的項目,\n",
        "#reset_index() 方法來重置 DataFrame 索引\n",
        "#drop=True 選項防止將 index 新增為新的行(column)。\n",
        "df = df0.sample(frac=1,axis=1).reset_index(drop=True)\n",
        "df"
      ],
      "execution_count": null,
      "outputs": [
        {
          "output_type": "execute_result",
          "data": {
            "text/plain": [
              "      19     10     6      17     14     9      2      15     11     7   \\\n",
              "0   20.0   13.0    5.0   16.0   16.0   19.0   15.0   27.0   10.0    3.0   \n",
              "1  524.0  399.0  338.0  430.0  431.0  508.0  410.0  660.0  331.0  330.0   \n",
              "\n",
              "      3      13     4      18     8      0      1      16     5      12  \n",
              "0    4.0   11.0    9.0    6.0   17.0   24.0   22.0   16.0   20.0   12.0  \n",
              "1  310.0  390.0  319.0  323.0  501.0  591.0  543.0  409.0  520.0  390.0  "
            ],
            "text/html": [
              "\n",
              "  <div id=\"df-edbe4e41-a252-425d-ae6e-bb8bab97d951\" class=\"colab-df-container\">\n",
              "    <div>\n",
              "<style scoped>\n",
              "    .dataframe tbody tr th:only-of-type {\n",
              "        vertical-align: middle;\n",
              "    }\n",
              "\n",
              "    .dataframe tbody tr th {\n",
              "        vertical-align: top;\n",
              "    }\n",
              "\n",
              "    .dataframe thead th {\n",
              "        text-align: right;\n",
              "    }\n",
              "</style>\n",
              "<table border=\"1\" class=\"dataframe\">\n",
              "  <thead>\n",
              "    <tr style=\"text-align: right;\">\n",
              "      <th></th>\n",
              "      <th>19</th>\n",
              "      <th>10</th>\n",
              "      <th>6</th>\n",
              "      <th>17</th>\n",
              "      <th>14</th>\n",
              "      <th>9</th>\n",
              "      <th>2</th>\n",
              "      <th>15</th>\n",
              "      <th>11</th>\n",
              "      <th>7</th>\n",
              "      <th>3</th>\n",
              "      <th>13</th>\n",
              "      <th>4</th>\n",
              "      <th>18</th>\n",
              "      <th>8</th>\n",
              "      <th>0</th>\n",
              "      <th>1</th>\n",
              "      <th>16</th>\n",
              "      <th>5</th>\n",
              "      <th>12</th>\n",
              "    </tr>\n",
              "  </thead>\n",
              "  <tbody>\n",
              "    <tr>\n",
              "      <th>0</th>\n",
              "      <td>20.0</td>\n",
              "      <td>13.0</td>\n",
              "      <td>5.0</td>\n",
              "      <td>16.0</td>\n",
              "      <td>16.0</td>\n",
              "      <td>19.0</td>\n",
              "      <td>15.0</td>\n",
              "      <td>27.0</td>\n",
              "      <td>10.0</td>\n",
              "      <td>3.0</td>\n",
              "      <td>4.0</td>\n",
              "      <td>11.0</td>\n",
              "      <td>9.0</td>\n",
              "      <td>6.0</td>\n",
              "      <td>17.0</td>\n",
              "      <td>24.0</td>\n",
              "      <td>22.0</td>\n",
              "      <td>16.0</td>\n",
              "      <td>20.0</td>\n",
              "      <td>12.0</td>\n",
              "    </tr>\n",
              "    <tr>\n",
              "      <th>1</th>\n",
              "      <td>524.0</td>\n",
              "      <td>399.0</td>\n",
              "      <td>338.0</td>\n",
              "      <td>430.0</td>\n",
              "      <td>431.0</td>\n",
              "      <td>508.0</td>\n",
              "      <td>410.0</td>\n",
              "      <td>660.0</td>\n",
              "      <td>331.0</td>\n",
              "      <td>330.0</td>\n",
              "      <td>310.0</td>\n",
              "      <td>390.0</td>\n",
              "      <td>319.0</td>\n",
              "      <td>323.0</td>\n",
              "      <td>501.0</td>\n",
              "      <td>591.0</td>\n",
              "      <td>543.0</td>\n",
              "      <td>409.0</td>\n",
              "      <td>520.0</td>\n",
              "      <td>390.0</td>\n",
              "    </tr>\n",
              "  </tbody>\n",
              "</table>\n",
              "</div>\n",
              "    <div class=\"colab-df-buttons\">\n",
              "\n",
              "  <div class=\"colab-df-container\">\n",
              "    <button class=\"colab-df-convert\" onclick=\"convertToInteractive('df-edbe4e41-a252-425d-ae6e-bb8bab97d951')\"\n",
              "            title=\"Convert this dataframe to an interactive table.\"\n",
              "            style=\"display:none;\">\n",
              "\n",
              "  <svg xmlns=\"http://www.w3.org/2000/svg\" height=\"24px\" viewBox=\"0 -960 960 960\">\n",
              "    <path d=\"M120-120v-720h720v720H120Zm60-500h600v-160H180v160Zm220 220h160v-160H400v160Zm0 220h160v-160H400v160ZM180-400h160v-160H180v160Zm440 0h160v-160H620v160ZM180-180h160v-160H180v160Zm440 0h160v-160H620v160Z\"/>\n",
              "  </svg>\n",
              "    </button>\n",
              "\n",
              "  <style>\n",
              "    .colab-df-container {\n",
              "      display:flex;\n",
              "      gap: 12px;\n",
              "    }\n",
              "\n",
              "    .colab-df-convert {\n",
              "      background-color: #E8F0FE;\n",
              "      border: none;\n",
              "      border-radius: 50%;\n",
              "      cursor: pointer;\n",
              "      display: none;\n",
              "      fill: #1967D2;\n",
              "      height: 32px;\n",
              "      padding: 0 0 0 0;\n",
              "      width: 32px;\n",
              "    }\n",
              "\n",
              "    .colab-df-convert:hover {\n",
              "      background-color: #E2EBFA;\n",
              "      box-shadow: 0px 1px 2px rgba(60, 64, 67, 0.3), 0px 1px 3px 1px rgba(60, 64, 67, 0.15);\n",
              "      fill: #174EA6;\n",
              "    }\n",
              "\n",
              "    .colab-df-buttons div {\n",
              "      margin-bottom: 4px;\n",
              "    }\n",
              "\n",
              "    [theme=dark] .colab-df-convert {\n",
              "      background-color: #3B4455;\n",
              "      fill: #D2E3FC;\n",
              "    }\n",
              "\n",
              "    [theme=dark] .colab-df-convert:hover {\n",
              "      background-color: #434B5C;\n",
              "      box-shadow: 0px 1px 3px 1px rgba(0, 0, 0, 0.15);\n",
              "      filter: drop-shadow(0px 1px 2px rgba(0, 0, 0, 0.3));\n",
              "      fill: #FFFFFF;\n",
              "    }\n",
              "  </style>\n",
              "\n",
              "    <script>\n",
              "      const buttonEl =\n",
              "        document.querySelector('#df-edbe4e41-a252-425d-ae6e-bb8bab97d951 button.colab-df-convert');\n",
              "      buttonEl.style.display =\n",
              "        google.colab.kernel.accessAllowed ? 'block' : 'none';\n",
              "\n",
              "      async function convertToInteractive(key) {\n",
              "        const element = document.querySelector('#df-edbe4e41-a252-425d-ae6e-bb8bab97d951');\n",
              "        const dataTable =\n",
              "          await google.colab.kernel.invokeFunction('convertToInteractive',\n",
              "                                                    [key], {});\n",
              "        if (!dataTable) return;\n",
              "\n",
              "        const docLinkHtml = 'Like what you see? Visit the ' +\n",
              "          '<a target=\"_blank\" href=https://colab.research.google.com/notebooks/data_table.ipynb>data table notebook</a>'\n",
              "          + ' to learn more about interactive tables.';\n",
              "        element.innerHTML = '';\n",
              "        dataTable['output_type'] = 'display_data';\n",
              "        await google.colab.output.renderOutput(dataTable, element);\n",
              "        const docLink = document.createElement('div');\n",
              "        docLink.innerHTML = docLinkHtml;\n",
              "        element.appendChild(docLink);\n",
              "      }\n",
              "    </script>\n",
              "  </div>\n",
              "\n",
              "\n",
              "<div id=\"df-952d8b09-e8ed-4c7b-b3e3-512ab1c295eb\">\n",
              "  <button class=\"colab-df-quickchart\" onclick=\"quickchart('df-952d8b09-e8ed-4c7b-b3e3-512ab1c295eb')\"\n",
              "            title=\"Suggest charts\"\n",
              "            style=\"display:none;\">\n",
              "\n",
              "<svg xmlns=\"http://www.w3.org/2000/svg\" height=\"24px\"viewBox=\"0 0 24 24\"\n",
              "     width=\"24px\">\n",
              "    <g>\n",
              "        <path d=\"M19 3H5c-1.1 0-2 .9-2 2v14c0 1.1.9 2 2 2h14c1.1 0 2-.9 2-2V5c0-1.1-.9-2-2-2zM9 17H7v-7h2v7zm4 0h-2V7h2v10zm4 0h-2v-4h2v4z\"/>\n",
              "    </g>\n",
              "</svg>\n",
              "  </button>\n",
              "\n",
              "<style>\n",
              "  .colab-df-quickchart {\n",
              "      --bg-color: #E8F0FE;\n",
              "      --fill-color: #1967D2;\n",
              "      --hover-bg-color: #E2EBFA;\n",
              "      --hover-fill-color: #174EA6;\n",
              "      --disabled-fill-color: #AAA;\n",
              "      --disabled-bg-color: #DDD;\n",
              "  }\n",
              "\n",
              "  [theme=dark] .colab-df-quickchart {\n",
              "      --bg-color: #3B4455;\n",
              "      --fill-color: #D2E3FC;\n",
              "      --hover-bg-color: #434B5C;\n",
              "      --hover-fill-color: #FFFFFF;\n",
              "      --disabled-bg-color: #3B4455;\n",
              "      --disabled-fill-color: #666;\n",
              "  }\n",
              "\n",
              "  .colab-df-quickchart {\n",
              "    background-color: var(--bg-color);\n",
              "    border: none;\n",
              "    border-radius: 50%;\n",
              "    cursor: pointer;\n",
              "    display: none;\n",
              "    fill: var(--fill-color);\n",
              "    height: 32px;\n",
              "    padding: 0;\n",
              "    width: 32px;\n",
              "  }\n",
              "\n",
              "  .colab-df-quickchart:hover {\n",
              "    background-color: var(--hover-bg-color);\n",
              "    box-shadow: 0 1px 2px rgba(60, 64, 67, 0.3), 0 1px 3px 1px rgba(60, 64, 67, 0.15);\n",
              "    fill: var(--button-hover-fill-color);\n",
              "  }\n",
              "\n",
              "  .colab-df-quickchart-complete:disabled,\n",
              "  .colab-df-quickchart-complete:disabled:hover {\n",
              "    background-color: var(--disabled-bg-color);\n",
              "    fill: var(--disabled-fill-color);\n",
              "    box-shadow: none;\n",
              "  }\n",
              "\n",
              "  .colab-df-spinner {\n",
              "    border: 2px solid var(--fill-color);\n",
              "    border-color: transparent;\n",
              "    border-bottom-color: var(--fill-color);\n",
              "    animation:\n",
              "      spin 1s steps(1) infinite;\n",
              "  }\n",
              "\n",
              "  @keyframes spin {\n",
              "    0% {\n",
              "      border-color: transparent;\n",
              "      border-bottom-color: var(--fill-color);\n",
              "      border-left-color: var(--fill-color);\n",
              "    }\n",
              "    20% {\n",
              "      border-color: transparent;\n",
              "      border-left-color: var(--fill-color);\n",
              "      border-top-color: var(--fill-color);\n",
              "    }\n",
              "    30% {\n",
              "      border-color: transparent;\n",
              "      border-left-color: var(--fill-color);\n",
              "      border-top-color: var(--fill-color);\n",
              "      border-right-color: var(--fill-color);\n",
              "    }\n",
              "    40% {\n",
              "      border-color: transparent;\n",
              "      border-right-color: var(--fill-color);\n",
              "      border-top-color: var(--fill-color);\n",
              "    }\n",
              "    60% {\n",
              "      border-color: transparent;\n",
              "      border-right-color: var(--fill-color);\n",
              "    }\n",
              "    80% {\n",
              "      border-color: transparent;\n",
              "      border-right-color: var(--fill-color);\n",
              "      border-bottom-color: var(--fill-color);\n",
              "    }\n",
              "    90% {\n",
              "      border-color: transparent;\n",
              "      border-bottom-color: var(--fill-color);\n",
              "    }\n",
              "  }\n",
              "</style>\n",
              "\n",
              "  <script>\n",
              "    async function quickchart(key) {\n",
              "      const quickchartButtonEl =\n",
              "        document.querySelector('#' + key + ' button');\n",
              "      quickchartButtonEl.disabled = true;  // To prevent multiple clicks.\n",
              "      quickchartButtonEl.classList.add('colab-df-spinner');\n",
              "      try {\n",
              "        const charts = await google.colab.kernel.invokeFunction(\n",
              "            'suggestCharts', [key], {});\n",
              "      } catch (error) {\n",
              "        console.error('Error during call to suggestCharts:', error);\n",
              "      }\n",
              "      quickchartButtonEl.classList.remove('colab-df-spinner');\n",
              "      quickchartButtonEl.classList.add('colab-df-quickchart-complete');\n",
              "    }\n",
              "    (() => {\n",
              "      let quickchartButtonEl =\n",
              "        document.querySelector('#df-952d8b09-e8ed-4c7b-b3e3-512ab1c295eb button');\n",
              "      quickchartButtonEl.style.display =\n",
              "        google.colab.kernel.accessAllowed ? 'block' : 'none';\n",
              "    })();\n",
              "  </script>\n",
              "</div>\n",
              "    </div>\n",
              "  </div>\n"
            ],
            "application/vnd.google.colaboratory.intrinsic+json": {
              "type": "dataframe",
              "variable_name": "df",
              "summary": "{\n  \"name\": \"df\",\n  \"rows\": 2,\n  \"fields\": [\n    {\n      \"column\": 19,\n      \"properties\": {\n        \"dtype\": \"number\",\n        \"std\": 356.38181771801993,\n        \"min\": 20.0,\n        \"max\": 524.0,\n        \"num_unique_values\": 2,\n        \"samples\": [\n          524.0,\n          20.0\n        ],\n        \"semantic_type\": \"\",\n        \"description\": \"\"\n      }\n    },\n    {\n      \"column\": 10,\n      \"properties\": {\n        \"dtype\": \"number\",\n        \"std\": 272.94321753800733,\n        \"min\": 13.0,\n        \"max\": 399.0,\n        \"num_unique_values\": 2,\n        \"samples\": [\n          399.0,\n          13.0\n        ],\n        \"semantic_type\": \"\",\n        \"description\": \"\"\n      }\n    },\n    {\n      \"column\": 6,\n      \"properties\": {\n        \"dtype\": \"number\",\n        \"std\": 235.46655813512032,\n        \"min\": 5.0,\n        \"max\": 338.0,\n        \"num_unique_values\": 2,\n        \"samples\": [\n          338.0,\n          5.0\n        ],\n        \"semantic_type\": \"\",\n        \"description\": \"\"\n      }\n    },\n    {\n      \"column\": 17,\n      \"properties\": {\n        \"dtype\": \"number\",\n        \"std\": 292.74220741123065,\n        \"min\": 16.0,\n        \"max\": 430.0,\n        \"num_unique_values\": 2,\n        \"samples\": [\n          430.0,\n          16.0\n        ],\n        \"semantic_type\": \"\",\n        \"description\": \"\"\n      }\n    },\n    {\n      \"column\": 14,\n      \"properties\": {\n        \"dtype\": \"number\",\n        \"std\": 293.4493141924172,\n        \"min\": 16.0,\n        \"max\": 431.0,\n        \"num_unique_values\": 2,\n        \"samples\": [\n          431.0,\n          16.0\n        ],\n        \"semantic_type\": \"\",\n        \"description\": \"\"\n      }\n    },\n    {\n      \"column\": 9,\n      \"properties\": {\n        \"dtype\": \"number\",\n        \"std\": 345.77521600022175,\n        \"min\": 19.0,\n        \"max\": 508.0,\n        \"num_unique_values\": 2,\n        \"samples\": [\n          508.0,\n          19.0\n        ],\n        \"semantic_type\": \"\",\n        \"description\": \"\"\n      }\n    },\n    {\n      \"column\": 2,\n      \"properties\": {\n        \"dtype\": \"number\",\n        \"std\": 279.30717856868625,\n        \"min\": 15.0,\n        \"max\": 410.0,\n        \"num_unique_values\": 2,\n        \"samples\": [\n          410.0,\n          15.0\n        ],\n        \"semantic_type\": \"\",\n        \"description\": \"\"\n      }\n    },\n    {\n      \"column\": 15,\n      \"properties\": {\n        \"dtype\": \"number\",\n        \"std\": 447.59859249108456,\n        \"min\": 27.0,\n        \"max\": 660.0,\n        \"num_unique_values\": 2,\n        \"samples\": [\n          660.0,\n          27.0\n        ],\n        \"semantic_type\": \"\",\n        \"description\": \"\"\n      }\n    },\n    {\n      \"column\": 11,\n      \"properties\": {\n        \"dtype\": \"number\",\n        \"std\": 226.98127676088177,\n        \"min\": 10.0,\n        \"max\": 331.0,\n        \"num_unique_values\": 2,\n        \"samples\": [\n          331.0,\n          10.0\n        ],\n        \"semantic_type\": \"\",\n        \"description\": \"\"\n      }\n    },\n    {\n      \"column\": 7,\n      \"properties\": {\n        \"dtype\": \"number\",\n        \"std\": 231.22391744800103,\n        \"min\": 3.0,\n        \"max\": 330.0,\n        \"num_unique_values\": 2,\n        \"samples\": [\n          330.0,\n          3.0\n        ],\n        \"semantic_type\": \"\",\n        \"description\": \"\"\n      }\n    },\n    {\n      \"column\": 3,\n      \"properties\": {\n        \"dtype\": \"number\",\n        \"std\": 216.37467504308356,\n        \"min\": 4.0,\n        \"max\": 310.0,\n        \"num_unique_values\": 2,\n        \"samples\": [\n          310.0,\n          4.0\n        ],\n        \"semantic_type\": \"\",\n        \"description\": \"\"\n      }\n    },\n    {\n      \"column\": 13,\n      \"properties\": {\n        \"dtype\": \"number\",\n        \"std\": 267.9934700697015,\n        \"min\": 11.0,\n        \"max\": 390.0,\n        \"num_unique_values\": 2,\n        \"samples\": [\n          390.0,\n          11.0\n        ],\n        \"semantic_type\": \"\",\n        \"description\": \"\"\n      }\n    },\n    {\n      \"column\": 4,\n      \"properties\": {\n        \"dtype\": \"number\",\n        \"std\": 219.20310216782974,\n        \"min\": 9.0,\n        \"max\": 319.0,\n        \"num_unique_values\": 2,\n        \"samples\": [\n          319.0,\n          9.0\n        ],\n        \"semantic_type\": \"\",\n        \"description\": \"\"\n      }\n    },\n    {\n      \"column\": 18,\n      \"properties\": {\n        \"dtype\": \"number\",\n        \"std\": 224.15284963613556,\n        \"min\": 6.0,\n        \"max\": 323.0,\n        \"num_unique_values\": 2,\n        \"samples\": [\n          323.0,\n          6.0\n        ],\n        \"semantic_type\": \"\",\n        \"description\": \"\"\n      }\n    },\n    {\n      \"column\": 8,\n      \"properties\": {\n        \"dtype\": \"number\",\n        \"std\": 342.239682094289,\n        \"min\": 17.0,\n        \"max\": 501.0,\n        \"num_unique_values\": 2,\n        \"samples\": [\n          501.0,\n          17.0\n        ],\n        \"semantic_type\": \"\",\n        \"description\": \"\"\n      }\n    },\n    {\n      \"column\": 0,\n      \"properties\": {\n        \"dtype\": \"number\",\n        \"std\": 400.92954493277244,\n        \"min\": 24.0,\n        \"max\": 591.0,\n        \"num_unique_values\": 2,\n        \"samples\": [\n          591.0,\n          24.0\n        ],\n        \"semantic_type\": \"\",\n        \"description\": \"\"\n      }\n    },\n    {\n      \"column\": 1,\n      \"properties\": {\n        \"dtype\": \"number\",\n        \"std\": 368.4026329981913,\n        \"min\": 22.0,\n        \"max\": 543.0,\n        \"num_unique_values\": 2,\n        \"samples\": [\n          543.0,\n          22.0\n        ],\n        \"semantic_type\": \"\",\n        \"description\": \"\"\n      }\n    },\n    {\n      \"column\": 16,\n      \"properties\": {\n        \"dtype\": \"number\",\n        \"std\": 277.8929650063132,\n        \"min\": 16.0,\n        \"max\": 409.0,\n        \"num_unique_values\": 2,\n        \"samples\": [\n          409.0,\n          16.0\n        ],\n        \"semantic_type\": \"\",\n        \"description\": \"\"\n      }\n    },\n    {\n      \"column\": 5,\n      \"properties\": {\n        \"dtype\": \"number\",\n        \"std\": 353.5533905932738,\n        \"min\": 20.0,\n        \"max\": 520.0,\n        \"num_unique_values\": 2,\n        \"samples\": [\n          520.0,\n          20.0\n        ],\n        \"semantic_type\": \"\",\n        \"description\": \"\"\n      }\n    },\n    {\n      \"column\": 12,\n      \"properties\": {\n        \"dtype\": \"number\",\n        \"std\": 267.28636328851496,\n        \"min\": 12.0,\n        \"max\": 390.0,\n        \"num_unique_values\": 2,\n        \"samples\": [\n          390.0,\n          12.0\n        ],\n        \"semantic_type\": \"\",\n        \"description\": \"\"\n      }\n    }\n  ]\n}"
            }
          },
          "metadata": {},
          "execution_count": 35
        }
      ]
    },
    {
      "cell_type": "code",
      "metadata": {
        "id": "r8zDu5vDzk2K"
      },
      "source": [
        "data = np.array(df)"
      ],
      "execution_count": null,
      "outputs": []
    },
    {
      "cell_type": "code",
      "metadata": {
        "colab": {
          "base_uri": "https://localhost:8080/"
        },
        "outputId": "94f430c2-2cc9-40f9-8907-33e2bf47f048",
        "id": "bkhFcnhezk2L"
      },
      "source": [
        "data"
      ],
      "execution_count": null,
      "outputs": [
        {
          "output_type": "execute_result",
          "data": {
            "text/plain": [
              "array([[ 20.,  13.,   5.,  16.,  16.,  19.,  15.,  27.,  10.,   3.,   4.,\n",
              "         11.,   9.,   6.,  17.,  24.,  22.,  16.,  20.,  12.],\n",
              "       [524., 399., 338., 430., 431., 508., 410., 660., 331., 330., 310.,\n",
              "        390., 319., 323., 501., 591., 543., 409., 520., 390.]])"
            ]
          },
          "metadata": {},
          "execution_count": 37
        }
      ]
    },
    {
      "cell_type": "markdown",
      "metadata": {
        "id": "fABvwlkgriud"
      },
      "source": [
        "### (n2)定義特徵縮放的函數"
      ]
    },
    {
      "cell_type": "code",
      "metadata": {
        "id": "huOrc-90riue"
      },
      "source": [
        "#參數kind預設為0，做標準化；kind設為1，做歸一化\n",
        "def FeatureScaling(data,kind=0):\n",
        "  if kind==1:\n",
        "    return (data-data.min())/(data.max()-data.min())\n",
        "  else:\n",
        "    return #?加程式碼\n",
        "#若 return 沒有設定數學公式,此格不會出錯,但是後面訓練時會出錯"
      ],
      "execution_count": null,
      "outputs": []
    },
    {
      "cell_type": "markdown",
      "metadata": {
        "id": "Ve3Y-3nLriui"
      },
      "source": [
        "### (n3)將原始資料分為訓練資料集和驗證資料集"
      ]
    },
    {
      "cell_type": "code",
      "source": [
        "#由SalesVolume.csv檔案載入資料集\n",
        "'''\n",
        "data= np.loadtxt(\n",
        "    #?加程式碼,\n",
        "    delimiter=\",\")\n",
        "'''"
      ],
      "metadata": {
        "id": "aDZnth0WZbnw"
      },
      "execution_count": null,
      "outputs": []
    },
    {
      "cell_type": "code",
      "metadata": {
        "id": "gm-6celdriuj"
      },
      "source": [
        "data_x=FeatureScaling(data[0],0)#第1列為廣告推播次數，\n",
        "#並做特徵縮放，第2參數設為0是標準化，設為1是歸一化\n",
        "data_y=data[1]#第2列為商品銷售數量\n",
        "#訓練資料集12筆\n",
        "train_x=data_x[:12]\n",
        "train_y=data_y[:12]\n",
        "#驗證資料集8筆\n",
        "valid_x=data_x[12:]\n",
        "valid_y=data_y[12:]"
      ],
      "execution_count": null,
      "outputs": []
    },
    {
      "cell_type": "markdown",
      "metadata": {
        "id": "y6qF-FO7riun"
      },
      "source": [
        "### (n4)隨機初始化迴歸係b ， w1 ， w2"
      ]
    },
    {
      "cell_type": "code",
      "metadata": {
        "id": "0cnnO1z_riun",
        "colab": {
          "base_uri": "https://localhost:8080/"
        },
        "outputId": "f0ff744b-b26c-4bd0-e438-ad7a3bb5b98b"
      },
      "source": [
        "#?加程式碼\n",
        "#?加程式碼\n",
        "#?加程式碼\n",
        "print(b,w1,w2)"
      ],
      "execution_count": null,
      "outputs": [
        {
          "output_type": "stream",
          "name": "stdout",
          "text": [
            "0.9161866194880894 0.5314758639070204 0.5094405227784816\n"
          ]
        }
      ]
    },
    {
      "cell_type": "markdown",
      "metadata": {
        "id": "k4Y_LjScriur"
      },
      "source": [
        "### (n5)定義迴歸模型的二次方多項式函數"
      ]
    },
    {
      "cell_type": "code",
      "metadata": {
        "id": "g7rfQ1Cjriuu"
      },
      "source": [
        "def F(x):\n",
        "    #?加程式碼\n",
        "#若 return 沒有設定數學公式,此格不會出錯,但是後面訓練時會出錯"
      ],
      "execution_count": null,
      "outputs": []
    },
    {
      "cell_type": "markdown",
      "metadata": {
        "id": "11k_6SAGriux"
      },
      "source": [
        "### (n6)定義損失函數LOSS Funcation"
      ]
    },
    {
      "cell_type": "code",
      "metadata": {
        "id": "nD3NkorPriux"
      },
      "source": [
        "def Loss(x,y):\n",
        "    #?加程式碼\n",
        "#若 return 沒有設定數學公式,此格不會出錯,但是後面訓練時會出錯"
      ],
      "execution_count": null,
      "outputs": []
    },
    {
      "cell_type": "markdown",
      "metadata": {
        "id": "rhrSXE0driu2"
      },
      "source": [
        "### (n7)設定學習率和權重更新次數"
      ]
    },
    {
      "cell_type": "code",
      "metadata": {
        "id": "sJ6IaK9hriu3"
      },
      "source": [
        "ETA = 0.0001\n",
        "Step_Loss=[]\n",
        "#?加程式碼\n",
        "#?加程式碼\n",
        "#?加程式碼"
      ],
      "execution_count": null,
      "outputs": []
    },
    {
      "cell_type": "markdown",
      "metadata": {
        "id": "INTuRI0oriu7"
      },
      "source": [
        "### (n8)開始訓練模型"
      ]
    },
    {
      "cell_type": "code",
      "metadata": {
        "id": "3Lb5p96ariu8"
      },
      "source": [
        "#若 F(x)、Loss(x,y)的 return 沒有設定數學公式,此格訓練時會出錯\n",
        "for epoch in range(100000):\n",
        "    #利用梯度下降更新迴歸係數\n",
        "    b=#?加程式碼\n",
        "    w1=#?加程式碼\n",
        "    w2=#?加程式碼\n",
        "    if epoch%100==99:\n",
        "        current_loss = #?加程式碼\n",
        "        Step_Loss.append(current_loss)\n",
        "        print(\"訓練次數:\",epoch+1,\"\\nb:\",b,\"\\nw1:\",w1,\n",
        "              \"\\nw2:\",w2,\"\\n損失函數:\",current_loss)\n",
        "        display.clear_output(wait=True)"
      ],
      "execution_count": null,
      "outputs": []
    },
    {
      "cell_type": "markdown",
      "metadata": {
        "id": "YYJFkuTVriu_"
      },
      "source": [
        "### (n9)畫圖檢查模型訓練結果"
      ]
    },
    {
      "cell_type": "code",
      "metadata": {
        "id": "NYdlImZFrivA"
      },
      "source": [
        "plt.figure(figsize=(12,6))\n",
        "plt.title(\"訓練模型和數據關係圖\",fontproperties=twfont1,fontsize=20)\n",
        "plt.xlabel(\"x資料\",fontproperties=twfont1,fontsize=20)\n",
        "plt.ylabel(\"y資料\",fontproperties=twfont1,fontsize=20)\n",
        "x = #?加程式碼\n",
        "plt.plot(#?加程式碼,label=\"模型函數\")\n",
        "plt.plot(#?加程式碼, 'go',label=\"訓練資料集\")\n",
        "plt.plot(#?加程式碼, 'ro',label=\"驗證資料集\")\n",
        "plt.legend(prop=twfont1)\n",
        "plt.show()"
      ],
      "execution_count": null,
      "outputs": []
    },
    {
      "cell_type": "markdown",
      "metadata": {
        "id": "5CXrLkZWrivF"
      },
      "source": [
        "### (n10)觀察Loss值隨訓練次數的變化"
      ]
    },
    {
      "cell_type": "code",
      "metadata": {
        "id": "EFnvR8gwrivG"
      },
      "source": [
        "plt.figure(figsize=(8,5))\n",
        "plt.title(\"Loss隨訓練次數的變化\",fontproperties=twfont1,fontsize=20)\n",
        "plt.xlabel(\"訓練次數(x100)\",fontproperties=twfont1,fontsize=20)\n",
        "plt.ylabel(\"Loss值\",fontproperties=twfont1,fontsize=20)\n",
        "plt.#?加程式碼\n",
        "plt.show()"
      ],
      "execution_count": null,
      "outputs": []
    },
    {
      "cell_type": "markdown",
      "metadata": {
        "id": "Q0db305-rivN"
      },
      "source": [
        "### (n11)比較訓練好的迴歸模型函數在訓練資料集和驗證資料集的每筆平均Loss值"
      ]
    },
    {
      "cell_type": "code",
      "metadata": {
        "id": "4MO0TZ_DrivO",
        "colab": {
          "base_uri": "https://localhost:8080/"
        },
        "outputId": "877eee69-e91e-485f-9caf-ca6920170681"
      },
      "source": [
        "print(\"訓練資料集對回歸模型的每筆平均Loss值\",\n",
        "      #?加程式碼\n",
        "print(\"驗證資料集對回歸模型的每筆平均Loss值\",\n",
        "      #?加程式碼"
      ],
      "execution_count": null,
      "outputs": [
        {
          "output_type": "stream",
          "name": "stdout",
          "text": [
            "訓練資料集對回歸模型的每筆平均Loss值 214.8013609940534\n",
            "驗證資料集對回歸模型的每筆平均Loss值 142.97838509286572\n"
          ]
        }
      ]
    }
  ]
}