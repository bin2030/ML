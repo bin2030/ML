{
  "nbformat": 4,
  "nbformat_minor": 0,
  "metadata": {
    "kernelspec": {
      "display_name": "Python 3",
      "language": "python",
      "name": "python3"
    },
    "language_info": {
      "codemirror_mode": {
        "name": "ipython",
        "version": 3
      },
      "file_extension": ".py",
      "mimetype": "text/x-python",
      "name": "python",
      "nbconvert_exporter": "python",
      "pygments_lexer": "ipython3",
      "version": "3.6.9"
    },
    "colab": {
      "provenance": [],
      "toc_visible": true
    }
  },
  "cells": [
    {
      "cell_type": "markdown",
      "metadata": {
        "id": "h7bTgQY4oJg6"
      },
      "source": [
        "# 實作07：簡單線性回歸-有特徵縮放"
      ]
    },
    {
      "cell_type": "markdown",
      "metadata": {
        "id": "zAZnXjVSoLul"
      },
      "source": [
        "### (0)掛載雲端硬碟"
      ]
    },
    {
      "cell_type": "code",
      "metadata": {
        "id": "4JkeIQfuocWp"
      },
      "source": [
        "from google.colab import drive\n",
        "drive.mount('/content/drive')"
      ],
      "execution_count": null,
      "outputs": []
    },
    {
      "cell_type": "markdown",
      "metadata": {
        "id": "Gd3LTUDdoJg7"
      },
      "source": [
        "### (1)import必要的套件"
      ]
    },
    {
      "cell_type": "code",
      "metadata": {
        "id": "qJDVZR28oJg8"
      },
      "source": [
        "import numpy as np\n",
        "from IPython import display\n",
        "import matplotlib.pyplot as plt\n",
        "import matplotlib.font_manager as plt_font\n",
        "#要記得改為自己的自行檔案路徑\n",
        "twfont1 = plt_font.FontProperties(fname=\n",
        "            \"#?加程式碼\")"
      ],
      "execution_count": null,
      "outputs": []
    },
    {
      "cell_type": "code",
      "metadata": {
        "id": "1XSZ9bhZnEBy"
      },
      "source": [
        "#?加程式碼"
      ],
      "execution_count": null,
      "outputs": []
    },
    {
      "cell_type": "markdown",
      "metadata": {
        "id": "nkL6Xp5qLnYH"
      },
      "source": [
        "### (2)定義特徵縮放的函數"
      ]
    },
    {
      "cell_type": "code",
      "metadata": {
        "id": "ir8yXQK_Lx2C"
      },
      "source": [
        "#參數kind預設為0，做標準化；kind設為1，做歸一化\n",
        "def FeatureScaling(#?加程式碼):\n",
        "  if kind==1:\n",
        "    return #?加程式碼\n",
        "  else:\n",
        "    return #?加程式碼"
      ],
      "execution_count": null,
      "outputs": []
    },
    {
      "cell_type": "markdown",
      "metadata": {
        "id": "8h8xmwzVoJhB"
      },
      "source": [
        "### (3)將原始資料分為訓練資料集和驗證資料集"
      ]
    },
    {
      "cell_type": "code",
      "source": [
        "#由SalesVolume.csv檔案載入資料集\n",
        "data= np.loadtxt(#?加程式碼,\n",
        "                 #?加程式碼)"
      ],
      "metadata": {
        "id": "WCnqfwXBbEJ0"
      },
      "execution_count": null,
      "outputs": []
    },
    {
      "cell_type": "code",
      "metadata": {
        "id": "PfxTxTagWdON"
      },
      "source": [
        "df0 = #?加程式碼\n",
        "df0"
      ],
      "execution_count": null,
      "outputs": []
    },
    {
      "cell_type": "markdown",
      "metadata": {
        "id": "12c3DFrhyykf"
      },
      "source": [
        "### 重新訓練若由此開始 Run After\n",
        "### 用不同順序的資料集,隨機取得訓練及驗證的資料"
      ]
    },
    {
      "cell_type": "code",
      "metadata": {
        "id": "gNzSe3gTY6qf"
      },
      "source": [
        "#DataFrame隨機排序 frac=1傳回全部的項目,\n",
        "#reset_index() 方法來重置 DataFrame 索引\n",
        "#drop=True 選項防止將 index 新增為新的行(column)。\n",
        "df = #?加程式碼\n",
        "df"
      ],
      "execution_count": null,
      "outputs": []
    },
    {
      "cell_type": "code",
      "metadata": {
        "id": "jhzqHHQHVfdK"
      },
      "source": [
        "data = #?加程式碼"
      ],
      "execution_count": null,
      "outputs": []
    },
    {
      "cell_type": "code",
      "metadata": {
        "id": "uVekABf0VGve"
      },
      "source": [
        "data"
      ],
      "execution_count": null,
      "outputs": []
    },
    {
      "cell_type": "code",
      "metadata": {
        "id": "HIkocy6zoJhG"
      },
      "source": [
        "data_x=#?加程式碼 #第0列為廣告推播次數，\n",
        "#並做特徵縮放，第2參數設為0是標準化，設為1是歸一化\n",
        "data_y=#?加程式碼 #第2列為商品銷售數量\n",
        "#訓練資料集12筆\n",
        "#?加程式碼\n",
        "#?加程式碼\n",
        "#驗證資料集8筆\n",
        "#?加程式碼\n",
        "#?加程式碼"
      ],
      "execution_count": null,
      "outputs": []
    },
    {
      "cell_type": "code",
      "source": [
        "data[0] #第0列為廣告推播次數"
      ],
      "metadata": {
        "id": "0ik7PP9QFhgZ"
      },
      "execution_count": null,
      "outputs": []
    },
    {
      "cell_type": "code",
      "source": [
        "data_x #做特徵縮放，標準化"
      ],
      "metadata": {
        "id": "eDkdNIIIFotY"
      },
      "execution_count": null,
      "outputs": []
    },
    {
      "cell_type": "markdown",
      "metadata": {
        "id": "0B8QFclgoJhR"
      },
      "source": [
        "### (4)隨機初始化偏值b，權重w"
      ]
    },
    {
      "cell_type": "code",
      "metadata": {
        "id": "B9v5uKi-oJhT"
      },
      "source": [
        "#?加程式碼\n",
        "#?加程式碼\n",
        "print(b,w)"
      ],
      "execution_count": null,
      "outputs": []
    },
    {
      "cell_type": "markdown",
      "metadata": {
        "id": "elaKkyU6oJhY"
      },
      "source": [
        "## (5)定義迴歸模型的線性函數"
      ]
    },
    {
      "cell_type": "code",
      "metadata": {
        "id": "waOWei-BoJhZ"
      },
      "source": [
        "def F(x):\n",
        "    return #?加程式碼"
      ],
      "execution_count": null,
      "outputs": []
    },
    {
      "cell_type": "markdown",
      "metadata": {
        "id": "YOC_ejxsoJhe"
      },
      "source": [
        "## (6)定義損失函數LOSS Funcation"
      ]
    },
    {
      "cell_type": "code",
      "metadata": {
        "id": "--4uolr7oJhf"
      },
      "source": [
        "def Loss(x,y):\n",
        "    return #?加程式碼"
      ],
      "execution_count": null,
      "outputs": []
    },
    {
      "cell_type": "markdown",
      "metadata": {
        "id": "sXFWFxxZoJhn"
      },
      "source": [
        "## (7)設定學習率和權重更新次數"
      ]
    },
    {
      "cell_type": "code",
      "metadata": {
        "id": "_SjbmsWCoJho"
      },
      "source": [
        "#學習率，不同特徵縮放方式，學習率需要調整\n",
        "#?加程式碼\n",
        "Step_Loss=[]\n",
        "Step_b=[]\n",
        "Step_w=[]"
      ],
      "execution_count": null,
      "outputs": []
    },
    {
      "cell_type": "markdown",
      "metadata": {
        "id": "mSosLrF1oJhr"
      },
      "source": [
        "## (8)開始訓練模型"
      ]
    },
    {
      "cell_type": "code",
      "metadata": {
        "id": "7__Uk4EEoJhs"
      },
      "source": [
        "for epoch in range(10000):\n",
        "    b=#?加程式碼\n",
        "    w=#?加程式碼\n",
        "    if epoch%100==99:\n",
        "        current_loss=#?加程式碼\n",
        "        print(\"訓練次數:\",epoch+1,\"\\nb:\",b,\n",
        "              \"\\nw:\",w,\"\\n損失函數:\",current_loss)\n",
        "        #?加程式碼\n",
        "        Step_b#?加程式碼\n",
        "        Step_w#?加程式碼\n",
        "        display.clear_output(wait=True)"
      ],
      "execution_count": null,
      "outputs": []
    },
    {
      "cell_type": "markdown",
      "metadata": {
        "id": "D7dPtjfloJhw"
      },
      "source": [
        "### (9)畫圖檢查模型訓練結果"
      ]
    },
    {
      "cell_type": "code",
      "metadata": {
        "id": "Bqm9ymtZoJhw"
      },
      "source": [
        "plt.figure(figsize=(12,6))\n",
        "plt.title(\"訓練模型和數據關係圖\",fontproperties=twfont1,fontsize=20)\n",
        "plt.xlabel(\"x資料\",fontproperties=twfont1,fontsize=20)\n",
        "plt.ylabel(\"y資料\",fontproperties=twfont1,fontsize=20)\n",
        "#x軸刻度範圍，不同特徵縮放方式需要調整\n",
        "x = #?加程式碼\n",
        "plt.plot(#?加程式碼,label=\"模型函數\")\n",
        "plt.plot(#?加程式碼, 'go',label=\"訓練資料集\")\n",
        "plt.plot(#?加程式碼, 'ro',label=\"驗證資料集\")\n",
        "plt.legend(prop=twfont1)\n",
        "plt.show()"
      ],
      "execution_count": null,
      "outputs": []
    },
    {
      "cell_type": "markdown",
      "metadata": {
        "id": "yrfMwe4XoJh1"
      },
      "source": [
        "### (10)觀察Loss值隨訓練次數的變化"
      ]
    },
    {
      "cell_type": "code",
      "metadata": {
        "id": "5R9oF5XVoJh2"
      },
      "source": [
        "plt.figure(figsize=(12,6))\n",
        "plt.title(\"Loss隨訓練次數的變化\",fontproperties=twfont1,fontsize=20)\n",
        "plt.xlabel(\"訓練次數(x100)\",fontproperties=twfont1,fontsize=20)\n",
        "plt.ylabel(\"Loss值\",fontproperties=twfont1,fontsize=20)\n",
        "plt.plot(#?加程式碼)\n",
        "plt.show()"
      ],
      "execution_count": null,
      "outputs": []
    },
    {
      "cell_type": "markdown",
      "metadata": {
        "id": "mQUQC5adoJh8"
      },
      "source": [
        "### (11)比較訓練好的迴歸模型函數在訓練資料集和驗證資料集的每筆平均Loss值"
      ]
    },
    {
      "cell_type": "code",
      "metadata": {
        "id": "IoiJ9gp-oJh8"
      },
      "source": [
        "print(\"訓練資料集對回歸模型的每筆平均Loss值\",\n",
        "      #?加程式碼)\n",
        "print(\"驗證資料集對回歸模型的每筆平均Loss值\",\n",
        "      #?加程式碼)"
      ],
      "execution_count": null,
      "outputs": []
    },
    {
      "cell_type": "code",
      "source": [
        "#?加程式碼"
      ],
      "metadata": {
        "id": "ocC5jM25bHdt"
      },
      "execution_count": null,
      "outputs": []
    },
    {
      "cell_type": "code",
      "metadata": {
        "id": "i6lfD72UioGP"
      },
      "source": [
        "time.sleep(3)\n",
        "#執行 Run All 會在這暫停3秒"
      ],
      "execution_count": null,
      "outputs": []
    },
    {
      "cell_type": "markdown",
      "metadata": {
        "id": "JKaZNAwAoJiA"
      },
      "source": [
        "### 動畫顯示迴歸係數的移動路徑"
      ]
    },
    {
      "cell_type": "code",
      "metadata": {
        "id": "BoPEo2WsoJiA"
      },
      "source": [
        "for i #?加程式碼\n",
        "    plt.figure(figsize=(12,6))\n",
        "    plt.title(\"動畫顯示迴歸係數的移動路徑\",\n",
        "              fontproperties=twfont1,fontsize=20)\n",
        "    plt.xlim(#?加程式碼,\n",
        "             np.max(np.array([Step_b,Step_w])))\n",
        "    plt.ylim(np.min(np.array([Step_b,Step_w])),\n",
        "             #?加程式碼)\n",
        "    plt.xlabel(\"b\",fontproperties=twfont1,fontsize=20)\n",
        "    plt.ylabel(\"w\",fontproperties=twfont1,fontsize=20)\n",
        "    plt.#?加程式碼\n",
        "    plt.pause(0.1)\n",
        "    print(i)\n",
        "    display.clear_output(wait=True)"
      ],
      "execution_count": null,
      "outputs": []
    },
    {
      "cell_type": "markdown",
      "metadata": {
        "id": "51TzItZwu2Y_"
      },
      "source": [
        "### (12)顯示迴歸係數(權重和偏值)在損失函數等高線分布圖的移動路徑"
      ]
    },
    {
      "cell_type": "code",
      "metadata": {
        "id": "SoLsrn3pzTxU"
      },
      "source": [
        "#取b和w的網格範圍，不同的特徵縮放，網格範圍要調整\n",
        "b=np.linspace(0,450,200)\n",
        "w=np.linspace(0,450,200)\n",
        "#計算每一個網格點對應的損失函數值\n",
        "L=#?加程式碼\n",
        "for i in range(200):\n",
        "  for j in range(200):\n",
        "    L[j][i]=#?加程式碼\n",
        "#鋪設網格\n",
        "b,w=#?加程式碼\n",
        "# 開啟繪圖區域\n",
        "plt.figure(figsize=(10,10))\n",
        "CS=#?加程式碼\n",
        "plt.clabel(CS,inline=1,fontsize=10)\n",
        "plt.#?加程式碼\n",
        "plt.title('等高線圖',fontproperties=twfont1)\n",
        "plt.show()"
      ],
      "execution_count": null,
      "outputs": []
    },
    {
      "cell_type": "markdown",
      "metadata": {
        "id": "m245a789riuV"
      },
      "source": [
        "# 實作08：非線性回歸"
      ]
    },
    {
      "cell_type": "markdown",
      "metadata": {
        "id": "alBatEb20lDE"
      },
      "source": [
        "### 重新訓練若由此開始 Run After\n",
        "### 用不同順序的資料集,隨機取得訓練及驗證的資料"
      ]
    },
    {
      "cell_type": "code",
      "metadata": {
        "id": "WCOz7HMbzk2K"
      },
      "source": [
        "#DataFrame隨機排序 frac=1傳回全部的項目,\n",
        "#reset_index() 方法來重置 DataFrame 索引\n",
        "#drop=True 選項防止將 index 新增為新的行(column)。\n",
        "df = #?加程式碼\n",
        "df"
      ],
      "execution_count": null,
      "outputs": []
    },
    {
      "cell_type": "code",
      "metadata": {
        "id": "r8zDu5vDzk2K"
      },
      "source": [
        "data = #?加程式碼"
      ],
      "execution_count": null,
      "outputs": []
    },
    {
      "cell_type": "code",
      "metadata": {
        "id": "bkhFcnhezk2L"
      },
      "source": [
        "data"
      ],
      "execution_count": null,
      "outputs": []
    },
    {
      "cell_type": "markdown",
      "metadata": {
        "id": "fABvwlkgriud"
      },
      "source": [
        "### (n2)定義特徵縮放的函數"
      ]
    },
    {
      "cell_type": "code",
      "metadata": {
        "id": "huOrc-90riue"
      },
      "source": [
        "#參數kind預設為0，做標準化；kind設為1，做歸一化\n",
        "def FeatureScaling(data,kind=0):\n",
        "  if kind==1:\n",
        "    return #?加程式碼\n",
        "  else:\n",
        "    return #?加程式碼\n",
        "#若 return 沒有設定數學公式,此格不會出錯,但是後面訓練時會出錯"
      ],
      "execution_count": null,
      "outputs": []
    },
    {
      "cell_type": "markdown",
      "metadata": {
        "id": "Ve3Y-3nLriui"
      },
      "source": [
        "### (n3)將原始資料分為訓練資料集和驗證資料集"
      ]
    },
    {
      "cell_type": "code",
      "source": [
        "#由SalesVolume.csv檔案載入資料集\n",
        "'''\n",
        "data= np.loadtxt(\n",
        "    #?加程式碼,\n",
        "    delimiter=\",\")\n",
        "'''"
      ],
      "metadata": {
        "id": "aDZnth0WZbnw"
      },
      "execution_count": null,
      "outputs": []
    },
    {
      "cell_type": "code",
      "metadata": {
        "id": "gm-6celdriuj"
      },
      "source": [
        "data_x=FeatureScaling(#?加程式碼)#第1列為廣告推播次數，\n",
        "#並做特徵縮放，第2參數設為0是標準化，設為1是歸一化\n",
        "data_y=#?加程式碼#第2列為商品銷售數量\n",
        "#訓練資料集12筆\n",
        "train_x=#?加程式碼\n",
        "train_y=#?加程式碼\n",
        "#驗證資料集8筆\n",
        "valid_x=#?加程式碼\n",
        "valid_y=#?加程式碼"
      ],
      "execution_count": null,
      "outputs": []
    },
    {
      "cell_type": "markdown",
      "metadata": {
        "id": "y6qF-FO7riun"
      },
      "source": [
        "### (n4)隨機初始化迴歸係b ， w1 ， w2"
      ]
    },
    {
      "cell_type": "code",
      "metadata": {
        "id": "0cnnO1z_riun"
      },
      "source": [
        "#?加程式碼\n",
        "#?加程式碼\n",
        "#?加程式碼\n",
        "print(b,w1,w2)"
      ],
      "execution_count": null,
      "outputs": []
    },
    {
      "cell_type": "markdown",
      "metadata": {
        "id": "k4Y_LjScriur"
      },
      "source": [
        "### (n5)定義迴歸模型的二次方多項式函數"
      ]
    },
    {
      "cell_type": "code",
      "metadata": {
        "id": "g7rfQ1Cjriuu"
      },
      "source": [
        "def F(x):\n",
        "    #?加程式碼\n",
        "#若 return 沒有設定數學公式,此格不會出錯,但是後面訓練時會出錯"
      ],
      "execution_count": null,
      "outputs": []
    },
    {
      "cell_type": "markdown",
      "metadata": {
        "id": "11k_6SAGriux"
      },
      "source": [
        "### (n6)定義損失函數LOSS Funcation"
      ]
    },
    {
      "cell_type": "code",
      "metadata": {
        "id": "nD3NkorPriux"
      },
      "source": [
        "def Loss(x,y):\n",
        "    #?加程式碼\n",
        "#若 return 沒有設定數學公式,此格不會出錯,但是後面訓練時會出錯"
      ],
      "execution_count": null,
      "outputs": []
    },
    {
      "cell_type": "markdown",
      "metadata": {
        "id": "rhrSXE0driu2"
      },
      "source": [
        "### (n7)設定學習率和權重更新次數"
      ]
    },
    {
      "cell_type": "code",
      "metadata": {
        "id": "sJ6IaK9hriu3"
      },
      "source": [
        "ETA = #?加程式碼\n",
        "Step_Loss=[]\n",
        "#?加程式碼\n",
        "#?加程式碼\n",
        "#?加程式碼"
      ],
      "execution_count": null,
      "outputs": []
    },
    {
      "cell_type": "markdown",
      "metadata": {
        "id": "INTuRI0oriu7"
      },
      "source": [
        "### (n8)開始訓練模型"
      ]
    },
    {
      "cell_type": "code",
      "metadata": {
        "id": "3Lb5p96ariu8"
      },
      "source": [
        "#若 F(x)、Loss(x,y)的 return 沒有設定數學公式,此格訓練時會出錯\n",
        "for epoch in range(100000):\n",
        "    #利用梯度下降更新迴歸係數\n",
        "    b=#?加程式碼\n",
        "    w1=#?加程式碼\n",
        "    w2=#?加程式碼\n",
        "    if epoch%100==99:\n",
        "        current_loss = #?加程式碼\n",
        "        Step_Loss.append(current_loss)\n",
        "        print(\"訓練次數:\",epoch+1,\"\\nb:\",b,\"\\nw1:\",w1,\n",
        "              \"\\nw2:\",w2,\"\\n損失函數:\",current_loss)\n",
        "        display.clear_output(wait=True)"
      ],
      "execution_count": null,
      "outputs": []
    },
    {
      "cell_type": "markdown",
      "metadata": {
        "id": "YYJFkuTVriu_"
      },
      "source": [
        "### (n9)畫圖檢查模型訓練結果"
      ]
    },
    {
      "cell_type": "code",
      "metadata": {
        "id": "NYdlImZFrivA"
      },
      "source": [
        "plt.figure(figsize=(12,6))\n",
        "plt.title(\"訓練模型和數據關係圖\",fontproperties=twfont1,fontsize=20)\n",
        "plt.xlabel(\"x資料\",fontproperties=twfont1,fontsize=20)\n",
        "plt.ylabel(\"y資料\",fontproperties=twfont1,fontsize=20)\n",
        "x = #?加程式碼\n",
        "plt.plot(#?加程式碼,label=\"模型函數\")\n",
        "plt.plot(#?加程式碼, 'go',label=\"訓練資料集\")\n",
        "plt.plot(#?加程式碼, 'ro',label=\"驗證資料集\")\n",
        "plt.legend(prop=twfont1)\n",
        "plt.show()"
      ],
      "execution_count": null,
      "outputs": []
    },
    {
      "cell_type": "markdown",
      "metadata": {
        "id": "5CXrLkZWrivF"
      },
      "source": [
        "### (n10)觀察Loss值隨訓練次數的變化"
      ]
    },
    {
      "cell_type": "code",
      "metadata": {
        "id": "EFnvR8gwrivG"
      },
      "source": [
        "plt.figure(figsize=(8,5))\n",
        "plt.title(\"Loss隨訓練次數的變化\",fontproperties=twfont1,fontsize=20)\n",
        "plt.xlabel(\"訓練次數(x100)\",fontproperties=twfont1,fontsize=20)\n",
        "plt.ylabel(\"Loss值\",fontproperties=twfont1,fontsize=20)\n",
        "plt.#?加程式碼\n",
        "plt.show()"
      ],
      "execution_count": null,
      "outputs": []
    },
    {
      "cell_type": "markdown",
      "metadata": {
        "id": "Q0db305-rivN"
      },
      "source": [
        "### (n11)比較訓練好的迴歸模型函數在訓練資料集和驗證資料集的每筆平均Loss值"
      ]
    },
    {
      "cell_type": "code",
      "metadata": {
        "id": "4MO0TZ_DrivO"
      },
      "source": [
        "print(\"訓練資料集對回歸模型的每筆平均Loss值\",\n",
        "      #?加程式碼\n",
        "print(\"驗證資料集對回歸模型的每筆平均Loss值\",\n",
        "      #?加程式碼"
      ],
      "execution_count": null,
      "outputs": []
    }
  ]
}