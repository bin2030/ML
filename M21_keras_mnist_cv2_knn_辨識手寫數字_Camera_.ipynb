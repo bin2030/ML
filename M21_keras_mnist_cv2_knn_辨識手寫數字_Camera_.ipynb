{
  "nbformat": 4,
  "nbformat_minor": 0,
  "metadata": {
    "colab": {
      "provenance": [],
      "gpuType": "T4",
      "toc_visible": true
    },
    "kernelspec": {
      "name": "python3",
      "display_name": "Python 3"
    },
    "language_info": {
      "name": "python"
    },
    "accelerator": "GPU"
  },
  "cells": [
    {
      "cell_type": "markdown",
      "source": [
        "# 注意事項\n",
        "\n",
        "**記得啟動筆記本硬體加速**\n",
        "\n",
        "編輯 > 筆記本設定 > 硬體加速器 >GPU >儲存\n",
        "### Edit > Notebook Settings > T4 GPU > Save"
      ],
      "metadata": {
        "id": "a7g8zYfpzYY6"
      }
    },
    {
      "cell_type": "code",
      "source": [
        "#?加程式碼 #OpenCV\n",
        "#?加程式碼\n",
        "#?加程式碼\n",
        "#?加程式碼\n",
        "#?加程式碼"
      ],
      "metadata": {
        "id": "JSxQ-zv4z3tj"
      },
      "execution_count": null,
      "outputs": []
    },
    {
      "cell_type": "code",
      "source": [
        "#pip install opencv-contrib-python"
      ],
      "metadata": {
        "id": "grgNiDeuBd1V"
      },
      "execution_count": null,
      "outputs": []
    },
    {
      "cell_type": "code",
      "source": [
        "#?加程式碼\n",
        "# 載入訓練集"
      ],
      "metadata": {
        "id": "_Ua-ntC2z7JQ"
      },
      "execution_count": null,
      "outputs": []
    },
    {
      "cell_type": "code",
      "source": [
        "#?加程式碼"
      ],
      "metadata": {
        "colab": {
          "base_uri": "https://localhost:8080/"
        },
        "id": "MIqFcrK80A_a",
        "outputId": "68cc55ad-642f-4ca9-e74d-779cb53db3a9"
      },
      "execution_count": null,
      "outputs": [
        {
          "output_type": "execute_result",
          "data": {
            "text/plain": [
              "(60000, 28, 28)"
            ]
          },
          "metadata": {},
          "execution_count": 4
        }
      ]
    },
    {
      "cell_type": "code",
      "source": [
        "#?加程式碼"
      ],
      "metadata": {
        "id": "rQ4TbSAc0FHP"
      },
      "execution_count": null,
      "outputs": []
    },
    {
      "cell_type": "code",
      "source": [
        "y_train[0]"
      ],
      "metadata": {
        "colab": {
          "base_uri": "https://localhost:8080/"
        },
        "id": "5Eci1U-F0In-",
        "outputId": "a4659229-a963-4abf-d0ac-6d579acefd01"
      },
      "execution_count": null,
      "outputs": [
        {
          "output_type": "execute_result",
          "data": {
            "text/plain": [
              "5"
            ]
          },
          "metadata": {},
          "execution_count": 6
        }
      ]
    },
    {
      "cell_type": "code",
      "source": [
        "#?加程式碼"
      ],
      "metadata": {
        "id": "vz133HY80O3F"
      },
      "execution_count": null,
      "outputs": []
    },
    {
      "cell_type": "code",
      "source": [
        "# 建立 plot_image 函數顯示數字影像\n",
        "def plot_image(image,n):\n",
        "    fig = plt.gcf()\n",
        "    fig.set_size_inches(2,2)\n",
        "    #?加程式碼\n",
        "    # cmap='binary' 參數設定以黑白灰階顯示.\n",
        "    #?加程式碼\n",
        "    plt.show()"
      ],
      "metadata": {
        "id": "VI8xnuJHjggp"
      },
      "execution_count": null,
      "outputs": []
    },
    {
      "cell_type": "code",
      "source": [
        "x_test[0]"
      ],
      "metadata": {
        "id": "V1kufEtGjzxC"
      },
      "execution_count": null,
      "outputs": []
    },
    {
      "cell_type": "code",
      "source": [
        "#?加程式碼"
      ],
      "metadata": {
        "id": "4RcSCj-qjQiH"
      },
      "execution_count": null,
      "outputs": []
    },
    {
      "cell_type": "code",
      "source": [
        "#?加程式碼"
      ],
      "metadata": {
        "id": "puxInJzgkxzw"
      },
      "execution_count": null,
      "outputs": []
    },
    {
      "cell_type": "code",
      "source": [
        "plot_image(x_test[2],13)"
      ],
      "metadata": {
        "id": "cCYyvuvUk2ZB"
      },
      "execution_count": null,
      "outputs": []
    },
    {
      "cell_type": "code",
      "source": [
        "plot_image(x_test[3],14)"
      ],
      "metadata": {
        "id": "Fg6hQn5uygDm"
      },
      "execution_count": null,
      "outputs": []
    },
    {
      "cell_type": "code",
      "source": [
        "#?加程式碼"
      ],
      "metadata": {
        "colab": {
          "base_uri": "https://localhost:8080/",
          "height": 68
        },
        "id": "1OCjuxJYykN6",
        "outputId": "4e270726-fffa-4acf-d664-4b0fd9137083"
      },
      "execution_count": null,
      "outputs": [
        {
          "output_type": "execute_result",
          "data": {
            "text/plain": [
              "array([[  0,   0,   0,   0,   0,   0,   0,   0,   0,   0,   0,   0,   0,\n",
              "          0,   0,   0,   0,   0,   0,   0,   0,   0,   0,   0,   0,   0,\n",
              "          0,   0],\n",
              "       [  0,   0,   0,   0,   0,   0,   0,   0,   0,   0,   0,   0,   0,\n",
              "          0,   0,   0,   0,   0,   0,   0,   0,   0,   0,   0,   0,   0,\n",
              "          0,   0],\n",
              "       [  0,   0,   0,   0,   0,   0,   0,   0,   0,   0,   0,   0,   0,\n",
              "          0,   0,   0,   0,   0,   0,   0,   0,   0,   0,   0,   0,   0,\n",
              "          0,   0],\n",
              "       [  0,   0,   0,   0,   0,   0,   0,   0,   0,   0,   0,   0,   0,\n",
              "          0,   0,   0,   0,   0,   0,   0,   0,   0,   0,   0,   0,   0,\n",
              "          0,   0],\n",
              "       [  0,   0,   0,   0,   0,   0,   0,   0,   0,   0,   0,   0,   0,\n",
              "          0,   0,   0,   0,   0,   0,   0,   0,   0,   0,   0,   0,   0,\n",
              "          0,   0],\n",
              "       [  0,   0,   0,   0,   0,   0,   0,   0,   0,   0,   0,   0,   0,\n",
              "          0,   0,   0,   0,   0,   0,   0,   0,   0,   0,   0,   0,   0,\n",
              "          0,   0],\n",
              "       [  0,   0,   0,   0,   0,   0,   0,   0,   0,   0,   0,   0,   0,\n",
              "          0,   0,   0,   0,   0,   0,   0,   0,   0,   0,   0,   0,   0,\n",
              "          0,   0],\n",
              "       [  0,   0,   0,   0,   0,   0,   0,   0,   0,   0,   0,   0,   0,\n",
              "         36,  56, 137, 201, 199,  95,  37,   0,   0,   0,   0,   0,   0,\n",
              "          0,   0],\n",
              "       [  0,   0,   0,   0,   0,   0,   0,   0,   0,   0,   0,  45, 152,\n",
              "        234, 254, 254, 254, 254, 254, 250, 211, 151,   6,   0,   0,   0,\n",
              "          0,   0],\n",
              "       [  0,   0,   0,   0,   0,   0,   0,   0,   0,  46, 153, 240, 254,\n",
              "        254, 227, 166, 133, 251, 200, 254, 229, 225, 104,   0,   0,   0,\n",
              "          0,   0],\n",
              "       [  0,   0,   0,   0,   0,   0,   0,   0, 153, 234, 254, 254, 187,\n",
              "        142,   8,   0,   0, 191,  40, 198, 246, 223, 253,  21,   0,   0,\n",
              "          0,   0],\n",
              "       [  0,   0,   0,   0,   0,   0,   8, 126, 253, 254, 233, 128,  11,\n",
              "          0,   0,   0,   0, 210,  43,  70, 254, 254, 254,  21,   0,   0,\n",
              "          0,   0],\n",
              "       [  0,   0,   0,   0,   0,   0,  72, 243, 254, 228,  54,   0,   0,\n",
              "          0,   0,   3,  32, 116, 225, 242, 254, 255, 162,   5,   0,   0,\n",
              "          0,   0],\n",
              "       [  0,   0,   0,   0,   0,   0,  75, 240, 254, 223, 109, 138, 178,\n",
              "        178, 169, 210, 251, 231, 254, 254, 254, 232,  38,   0,   0,   0,\n",
              "          0,   0],\n",
              "       [  0,   0,   0,   0,   0,   0,   9, 175, 244, 253, 255, 254, 254,\n",
              "        251, 254, 254, 254, 254, 254, 252, 171,  25,   0,   0,   0,   0,\n",
              "          0,   0],\n",
              "       [  0,   0,   0,   0,   0,   0,   0,   0,  16, 136, 195, 176, 146,\n",
              "        153, 200, 254, 254, 254, 254, 150,  16,   0,   0,   0,   0,   0,\n",
              "          0,   0],\n",
              "       [  0,   0,   0,   0,   0,   0,   0,   0,   0,   0,   0,   0,   0,\n",
              "          0, 162, 254, 254, 241,  99,   3,   0,   0,   0,   0,   0,   0,\n",
              "          0,   0],\n",
              "       [  0,   0,   0,   0,   0,   0,   0,   0,   0,   0,   0,   0,   0,\n",
              "        118, 250, 254, 254,  90,   0,   0,   0,   0,   0,   0,   0,   0,\n",
              "          0,   0],\n",
              "       [  0,   0,   0,   0,   0,   0,   0,   0,   0,   0,   0,   0, 100,\n",
              "        242, 254, 254, 211,   7,   0,   0,   0,   0,   0,   0,   0,   0,\n",
              "          0,   0],\n",
              "       [  0,   0,   0,   0,   0,   0,   0,   0,   0,   0,   0,  54, 241,\n",
              "        254, 254, 242,  59,   0,   0,   0,   0,   0,   0,   0,   0,   0,\n",
              "          0,   0],\n",
              "       [  0,   0,   0,   0,   0,   0,   0,   0,   0,   0,   0, 131, 254,\n",
              "        254, 244,  64,   0,   0,   0,   0,   0,   0,   0,   0,   0,   0,\n",
              "          0,   0],\n",
              "       [  0,   0,   0,   0,   0,   0,   0,   0,   0,   0,  13, 249, 254,\n",
              "        254, 152,   0,   0,   0,   0,   0,   0,   0,   0,   0,   0,   0,\n",
              "          0,   0],\n",
              "       [  0,   0,   0,   0,   0,   0,   0,   0,   0,  12, 228, 254, 254,\n",
              "        208,   8,   0,   0,   0,   0,   0,   0,   0,   0,   0,   0,   0,\n",
              "          0,   0],\n",
              "       [  0,   0,   0,   0,   0,   0,   0,   0,   0,  78, 255, 254, 254,\n",
              "         66,   0,   0,   0,   0,   0,   0,   0,   0,   0,   0,   0,   0,\n",
              "          0,   0],\n",
              "       [  0,   0,   0,   0,   0,   0,   0,   0,   0, 209, 254, 254, 137,\n",
              "          0,   0,   0,   0,   0,   0,   0,   0,   0,   0,   0,   0,   0,\n",
              "          0,   0],\n",
              "       [  0,   0,   0,   0,   0,   0,   0,   0,   0, 227, 255, 233,  25,\n",
              "          0,   0,   0,   0,   0,   0,   0,   0,   0,   0,   0,   0,   0,\n",
              "          0,   0],\n",
              "       [  0,   0,   0,   0,   0,   0,   0,   0,   0, 113, 255, 108,   0,\n",
              "          0,   0,   0,   0,   0,   0,   0,   0,   0,   0,   0,   0,   0,\n",
              "          0,   0],\n",
              "       [  0,   0,   0,   0,   0,   0,   0,   0,   0,   0,   0,   0,   0,\n",
              "          0,   0,   0,   0,   0,   0,   0,   0,   0,   0,   0,   0,   0,\n",
              "          0,   0]], dtype=uint8)"
            ],
            "text/html": [
              "<style>\n",
              "      .ndarray_repr .ndarray_raw_data {\n",
              "        display: none;\n",
              "      }\n",
              "      .ndarray_repr.show_array .ndarray_raw_data {\n",
              "        display: block;\n",
              "      }\n",
              "      .ndarray_repr.show_array .ndarray_image_preview {\n",
              "        display: none;\n",
              "      }\n",
              "      </style>\n",
              "      <div id=\"id-717785d5-2608-4bf2-b03b-b498d8693169\" class=\"ndarray_repr\"><pre>ndarray (28, 28) <button style=\"padding: 0 2px;\">show data</button></pre><img src=\"data:image/png;base64,iVBORw0KGgoAAAANSUhEUgAAABwAAAAcCAAAAABXZoBIAAABBElEQVR4nN3QsS8DcRjG8UcOPUFiINLNYGgj2M7QpTGISSIxWRkMFomIGESCwWJ1XTtYDP4Ag60xoqNBqjW0IWlPQ/Tc9wyWa/P7/QOe7c3nfYb3lf5N+rqm6fHVPH7pybA46zcA6JQvBntortCE6uVpeMdrZavbCg24OXel20zp8zmaSJB7GFE/Gpakx5klIInLH9Q8SXKmdisBcXFAkvr/0IkULqxl9JXNvk1K9ZMw0Ry6bkcxhAD8XKV77hzbz72/pOY9Sf5B0/iTIrQ2HCNprwPrZtJmAOWU2bwWBDlL8RjaeYuNfoNvsZEa3LsWXIlh0WJ6gDObqRrX01bcibetZsovhERycinB3ycAAAAASUVORK5CYII=\" class=\"ndarray_image_preview\" /><pre class=\"ndarray_raw_data\">array([[  0,   0,   0,   0,   0,   0,   0,   0,   0,   0,   0,   0,   0,\n",
              "          0,   0,   0,   0,   0,   0,   0,   0,   0,   0,   0,   0,   0,\n",
              "          0,   0],\n",
              "       [  0,   0,   0,   0,   0,   0,   0,   0,   0,   0,   0,   0,   0,\n",
              "          0,   0,   0,   0,   0,   0,   0,   0,   0,   0,   0,   0,   0,\n",
              "          0,   0],\n",
              "       [  0,   0,   0,   0,   0,   0,   0,   0,   0,   0,   0,   0,   0,\n",
              "          0,   0,   0,   0,   0,   0,   0,   0,   0,   0,   0,   0,   0,\n",
              "          0,   0],\n",
              "       [  0,   0,   0,   0,   0,   0,   0,   0,   0,   0,   0,   0,   0,\n",
              "          0,   0,   0,   0,   0,   0,   0,   0,   0,   0,   0,   0,   0,\n",
              "          0,   0],\n",
              "       [  0,   0,   0,   0,   0,   0,   0,   0,   0,   0,   0,   0,   0,\n",
              "          0,   0,   0,   0,   0,   0,   0,   0,   0,   0,   0,   0,   0,\n",
              "          0,   0],\n",
              "       [  0,   0,   0,   0,   0,   0,   0,   0,   0,   0,   0,   0,   0,\n",
              "          0,   0,   0,   0,   0,   0,   0,   0,   0,   0,   0,   0,   0,\n",
              "          0,   0],\n",
              "       [  0,   0,   0,   0,   0,   0,   0,   0,   0,   0,   0,   0,   0,\n",
              "          0,   0,   0,   0,   0,   0,   0,   0,   0,   0,   0,   0,   0,\n",
              "          0,   0],\n",
              "       [  0,   0,   0,   0,   0,   0,   0,   0,   0,   0,   0,   0,   0,\n",
              "         36,  56, 137, 201, 199,  95,  37,   0,   0,   0,   0,   0,   0,\n",
              "          0,   0],\n",
              "       [  0,   0,   0,   0,   0,   0,   0,   0,   0,   0,   0,  45, 152,\n",
              "        234, 254, 254, 254, 254, 254, 250, 211, 151,   6,   0,   0,   0,\n",
              "          0,   0],\n",
              "       [  0,   0,   0,   0,   0,   0,   0,   0,   0,  46, 153, 240, 254,\n",
              "        254, 227, 166, 133, 251, 200, 254, 229, 225, 104,   0,   0,   0,\n",
              "          0,   0],\n",
              "       [  0,   0,   0,   0,   0,   0,   0,   0, 153, 234, 254, 254, 187,\n",
              "        142,   8,   0,   0, 191,  40, 198, 246, 223, 253,  21,   0,   0,\n",
              "          0,   0],\n",
              "       [  0,   0,   0,   0,   0,   0,   8, 126, 253, 254, 233, 128,  11,\n",
              "          0,   0,   0,   0, 210,  43,  70, 254, 254, 254,  21,   0,   0,\n",
              "          0,   0],\n",
              "       [  0,   0,   0,   0,   0,   0,  72, 243, 254, 228,  54,   0,   0,\n",
              "          0,   0,   3,  32, 116, 225, 242, 254, 255, 162,   5,   0,   0,\n",
              "          0,   0],\n",
              "       [  0,   0,   0,   0,   0,   0,  75, 240, 254, 223, 109, 138, 178,\n",
              "        178, 169, 210, 251, 231, 254, 254, 254, 232,  38,   0,   0,   0,\n",
              "          0,   0],\n",
              "       [  0,   0,   0,   0,   0,   0,   9, 175, 244, 253, 255, 254, 254,\n",
              "        251, 254, 254, 254, 254, 254, 252, 171,  25,   0,   0,   0,   0,\n",
              "          0,   0],\n",
              "       [  0,   0,   0,   0,   0,   0,   0,   0,  16, 136, 195, 176, 146,\n",
              "        153, 200, 254, 254, 254, 254, 150,  16,   0,   0,   0,   0,   0,\n",
              "          0,   0],\n",
              "       [  0,   0,   0,   0,   0,   0,   0,   0,   0,   0,   0,   0,   0,\n",
              "          0, 162, 254, 254, 241,  99,   3,   0,   0,   0,   0,   0,   0,\n",
              "          0,   0],\n",
              "       [  0,   0,   0,   0,   0,   0,   0,   0,   0,   0,   0,   0,   0,\n",
              "        118, 250, 254, 254,  90,   0,   0,   0,   0,   0,   0,   0,   0,\n",
              "          0,   0],\n",
              "       [  0,   0,   0,   0,   0,   0,   0,   0,   0,   0,   0,   0, 100,\n",
              "        242, 254, 254, 211,   7,   0,   0,   0,   0,   0,   0,   0,   0,\n",
              "          0,   0],\n",
              "       [  0,   0,   0,   0,   0,   0,   0,   0,   0,   0,   0,  54, 241,\n",
              "        254, 254, 242,  59,   0,   0,   0,   0,   0,   0,   0,   0,   0,\n",
              "          0,   0],\n",
              "       [  0,   0,   0,   0,   0,   0,   0,   0,   0,   0,   0, 131, 254,\n",
              "        254, 244,  64,   0,   0,   0,   0,   0,   0,   0,   0,   0,   0,\n",
              "          0,   0],\n",
              "       [  0,   0,   0,   0,   0,   0,   0,   0,   0,   0,  13, 249, 254,\n",
              "        254, 152,   0,   0,   0,   0,   0,   0,   0,   0,   0,   0,   0,\n",
              "          0,   0],\n",
              "       [  0,   0,   0,   0,   0,   0,   0,   0,   0,  12, 228, 254, 254,\n",
              "        208,   8,   0,   0,   0,   0,   0,   0,   0,   0,   0,   0,   0,\n",
              "          0,   0],\n",
              "       [  0,   0,   0,   0,   0,   0,   0,   0,   0,  78, 255, 254, 254,\n",
              "         66,   0,   0,   0,   0,   0,   0,   0,   0,   0,   0,   0,   0,\n",
              "          0,   0],\n",
              "       [  0,   0,   0,   0,   0,   0,   0,   0,   0, 209, 254, 254, 137,\n",
              "          0,   0,   0,   0,   0,   0,   0,   0,   0,   0,   0,   0,   0,\n",
              "          0,   0],\n",
              "       [  0,   0,   0,   0,   0,   0,   0,   0,   0, 227, 255, 233,  25,\n",
              "          0,   0,   0,   0,   0,   0,   0,   0,   0,   0,   0,   0,   0,\n",
              "          0,   0],\n",
              "       [  0,   0,   0,   0,   0,   0,   0,   0,   0, 113, 255, 108,   0,\n",
              "          0,   0,   0,   0,   0,   0,   0,   0,   0,   0,   0,   0,   0,\n",
              "          0,   0],\n",
              "       [  0,   0,   0,   0,   0,   0,   0,   0,   0,   0,   0,   0,   0,\n",
              "          0,   0,   0,   0,   0,   0,   0,   0,   0,   0,   0,   0,   0,\n",
              "          0,   0]], dtype=uint8)</pre></div><script>\n",
              "      (() => {\n",
              "      const titles = ['show data', 'hide data'];\n",
              "      let index = 0\n",
              "      document.querySelector('#id-717785d5-2608-4bf2-b03b-b498d8693169 button').onclick = (e) => {\n",
              "        document.querySelector('#id-717785d5-2608-4bf2-b03b-b498d8693169').classList.toggle('show_array');\n",
              "        index = (++index) % 2;\n",
              "        document.querySelector('#id-717785d5-2608-4bf2-b03b-b498d8693169 button').textContent = titles[index];\n",
              "        e.preventDefault();\n",
              "        e.stopPropagation();\n",
              "      }\n",
              "      })();\n",
              "    </script>"
            ]
          },
          "metadata": {},
          "execution_count": 14
        }
      ]
    },
    {
      "cell_type": "code",
      "source": [
        "#?加程式碼"
      ],
      "metadata": {
        "id": "AqGIbKWT0vWU"
      },
      "execution_count": null,
      "outputs": []
    },
    {
      "cell_type": "code",
      "source": [
        "x_test[23]"
      ],
      "metadata": {
        "id": "0WzNmFxO19kE"
      },
      "execution_count": null,
      "outputs": []
    },
    {
      "cell_type": "code",
      "source": [
        "plot_image(x_test[23],16)"
      ],
      "metadata": {
        "id": "Dvtf3IeH2FMc"
      },
      "execution_count": null,
      "outputs": []
    },
    {
      "cell_type": "code",
      "source": [
        "x_test[11]"
      ],
      "metadata": {
        "id": "tAJsq1-s2LQC"
      },
      "execution_count": null,
      "outputs": []
    },
    {
      "cell_type": "code",
      "source": [
        "plot_image(x_test[11],17)"
      ],
      "metadata": {
        "id": "mKC5-ieE2LQI"
      },
      "execution_count": null,
      "outputs": []
    },
    {
      "cell_type": "code",
      "source": [
        "x_test[30]"
      ],
      "metadata": {
        "id": "sDtcjvrn2Yp8"
      },
      "execution_count": null,
      "outputs": []
    },
    {
      "cell_type": "code",
      "source": [
        "plot_image(x_test[30],18)"
      ],
      "metadata": {
        "id": "RG2LNLY72YqB"
      },
      "execution_count": null,
      "outputs": []
    },
    {
      "cell_type": "code",
      "source": [
        "x_test[56]"
      ],
      "metadata": {
        "id": "Z_GqChNc2Y5N"
      },
      "execution_count": null,
      "outputs": []
    },
    {
      "cell_type": "code",
      "source": [
        "plot_image(x_test[56],18)"
      ],
      "metadata": {
        "id": "_-Hc-_Le2Y5N"
      },
      "execution_count": null,
      "outputs": []
    },
    {
      "cell_type": "code",
      "source": [
        "#?加程式碼"
      ],
      "metadata": {
        "id": "9NCxSEVKNoR_"
      },
      "execution_count": null,
      "outputs": []
    },
    {
      "cell_type": "code",
      "source": [
        "num_classes = 10\n",
        "f, ax = plt.subplots(1, num_classes, figsize=(20,20))\n",
        "for i in range(0, num_classes):\n",
        "  sample = #?加程式碼\n",
        "  #?加程式碼\n",
        "  ax[i].set_title(f\"Label: {i}\", fontsize=16)\n",
        "  #ax[i].set_title(\"Label: {}\".format(i), fontsize=16)"
      ],
      "metadata": {
        "id": "rOA_ZMcEW_lm"
      },
      "execution_count": null,
      "outputs": []
    },
    {
      "cell_type": "code",
      "source": [
        "# 訓練集資料,把28x28 pixel 展平成一行784 pixel\n",
        "x_train = #?加程式碼\n",
        "# 轉換資料形狀\n",
        "x_train = #?加程式碼\n",
        "# 轉換資料型別\n",
        "y_train = y_train.astype(np.float32)"
      ],
      "metadata": {
        "id": "HQZnXpxC0X4n"
      },
      "execution_count": null,
      "outputs": []
    },
    {
      "cell_type": "code",
      "source": [
        "x_train.shape"
      ],
      "metadata": {
        "id": "qo8mk7Ln0o6c"
      },
      "execution_count": null,
      "outputs": []
    },
    {
      "cell_type": "code",
      "source": [
        "x_train[0].shape"
      ],
      "metadata": {
        "id": "Nn8NqmaWP8G6"
      },
      "execution_count": null,
      "outputs": []
    },
    {
      "cell_type": "code",
      "source": [
        "x_train[0]"
      ],
      "metadata": {
        "id": "wSB9o-040cer"
      },
      "execution_count": null,
      "outputs": []
    },
    {
      "cell_type": "code",
      "source": [
        "# 測試集資料,把28x28 pixel 展平成一行784 pixel\n",
        "x_test = x_test.reshape(x_test.shape[0],-1)\n",
        "# 轉換資料形狀\n",
        "x_test = x_test.astype('float32')/255\n",
        "# 轉換資料型別\n",
        "y_test = y_test.astype(np.float32)"
      ],
      "metadata": {
        "id": "vqqDWcde07oW"
      },
      "execution_count": null,
      "outputs": []
    },
    {
      "cell_type": "code",
      "source": [
        "x_test.shape"
      ],
      "metadata": {
        "id": "bA9khkT3mx6w"
      },
      "execution_count": null,
      "outputs": []
    },
    {
      "cell_type": "code",
      "source": [
        "x_test[0].shape"
      ],
      "metadata": {
        "id": "yINdiPMNQzAc"
      },
      "execution_count": null,
      "outputs": []
    },
    {
      "cell_type": "code",
      "source": [
        "x_test[0]"
      ],
      "metadata": {
        "id": "o4c_KjFLm3WB"
      },
      "execution_count": null,
      "outputs": []
    },
    {
      "cell_type": "code",
      "source": [
        "#?加程式碼 # 建立 KNN 訓練方法\n",
        "#?加程式碼 #訓練資料集中尋找 k 個相近的資料點\n",
        "#K近鄰(K Nearest Neighbors)，KNN，一種監督式學習的分類演算法\n",
        "#?加程式碼 #分類\n",
        "print('training...') # 開始訓練\n",
        "#?加程式碼\n",
        "knn.save('mnist_knn.xml')       # 儲存訓練模型\n",
        "print('ok')"
      ],
      "metadata": {
        "id": "22Ygj_4j1G4n"
      },
      "execution_count": null,
      "outputs": []
    },
    {
      "cell_type": "code",
      "execution_count": null,
      "metadata": {
        "id": "lPH4s_os0tgQ"
      },
      "outputs": [],
      "source": [
        "#若要加快執行時間,本格可不執行,用'''註解\n",
        "#執行本格要3分鐘以上。\n",
        "'''\n",
        "print('testing...')# 讀取測試集並進行辨識\n",
        "test_pre = knn.predict(x_test)\n",
        "test_ret = test_pre[1]\n",
        "test_ret = test_ret.reshape(-1,)\n",
        "test_sum = (test_ret == y_test)\n",
        "acc = test_sum.mean()# 得到準確率\n",
        "print(f'準確率= {acc}')\n",
        "'''\n",
        "#中間的程式被註解\n"
      ]
    },
    {
      "cell_type": "code",
      "source": [
        "#pip install opencv-python"
      ],
      "metadata": {
        "id": "Up8bdwcVGQM6"
      },
      "execution_count": null,
      "outputs": []
    },
    {
      "cell_type": "code",
      "source": [
        "#?加程式碼\n",
        "cap = #?加程式碼\n",
        "if not cap.isOpened():\n",
        "    print(\"Cannot open camera\")\n",
        "    exit()\n",
        "#若本機有安裝及使用Jupyter Notebook ,cv2才可以使用本機攝影機。\n",
        "#Colab Notebook是雲端的應用平台,無法用cv2操作本機攝影機。"
      ],
      "metadata": {
        "colab": {
          "base_uri": "https://localhost:8080/"
        },
        "id": "44prX8gfEjzn",
        "outputId": "d4431a46-686f-42fd-bb4d-541b1eaf84ea"
      },
      "execution_count": null,
      "outputs": [
        {
          "output_type": "stream",
          "name": "stdout",
          "text": [
            "Cannot open camera\n"
          ]
        }
      ]
    },
    {
      "cell_type": "markdown",
      "source": [
        "##Camera Capture\n",
        "###注意:重新辨識手寫在紙上數字的操作,由此 Runtime->Run after\n",
        "###開啟webcam,將手寫數字放在鏡頭前面..."
      ],
      "metadata": {
        "id": "5XOlsFyF66qH"
      }
    },
    {
      "cell_type": "code",
      "source": [
        "print('開啟webcam,將手寫數字放在鏡頭前面...')"
      ],
      "metadata": {
        "id": "uiG_PdbZAgLt",
        "colab": {
          "base_uri": "https://localhost:8080/"
        },
        "outputId": "da2bb6dc-366c-45f9-99f1-772a8670ab02"
      },
      "execution_count": null,
      "outputs": [
        {
          "output_type": "stream",
          "name": "stdout",
          "text": [
            "開啟webcam,將手寫數字放在鏡頭前面...\n"
          ]
        }
      ]
    },
    {
      "cell_type": "markdown",
      "source": [
        "###按程式片段<> code snippets ,選Camera Capture,按Insert,再選Notebook回到程式。"
      ],
      "metadata": {
        "id": "YAO2NKwh2Tw4"
      }
    },
    {
      "cell_type": "code",
      "source": [
        "#按程式片段<> code snippets ,選Camera Capture,按Insert,再選Notebook回到程式。\n",
        "#會增加二格的程式: (1) from IPython.display import display, Javascript及相關程式\n",
        "#                (2) from IPython.display import Image及相關程式"
      ],
      "metadata": {
        "id": "C_fCxOrW0mo4"
      },
      "execution_count": null,
      "outputs": []
    },
    {
      "cell_type": "markdown",
      "source": [
        "#若已訓練模型,並存檔mnist_knn.xml,重做辨識可由此格 Run after 。"
      ],
      "metadata": {
        "id": "kMvHNUM10neg"
      }
    },
    {
      "cell_type": "code",
      "source": [
        "#?加程式碼 #若出現錯誤 NameError: name 'cv2' is not defined\n",
        "import numpy as np #重新執行,由此格 Run after\n",
        "import matplotlib.pyplot as plt"
      ],
      "metadata": {
        "id": "ZUVuCroMGXXa"
      },
      "execution_count": null,
      "outputs": []
    },
    {
      "cell_type": "code",
      "source": [
        "# 2.建立 plot_image 函數顯示數字影像\n",
        "def plot_image(image,n):\n",
        "    fig = plt.gcf()\n",
        "    fig.set_size_inches(2,2)\n",
        "    plt.imshow(image, cmap='binary')\n",
        "    # cmap='binary' 參數設定以黑白灰階顯示.\n",
        "    plt.savefig(f'photo{n}.jpg')\n",
        "    plt.show()"
      ],
      "metadata": {
        "id": "ifpK5uC5CPxZ"
      },
      "execution_count": null,
      "outputs": []
    },
    {
      "cell_type": "code",
      "source": [
        "print('載入訓練的模型,loading ...')\n",
        "knn = #?加程式碼   # 載入模型"
      ],
      "metadata": {
        "id": "fv231Up3_7M6"
      },
      "execution_count": null,
      "outputs": []
    },
    {
      "cell_type": "markdown",
      "source": [
        "##第一次手寫數字辨識,讀取測試集的圖片"
      ],
      "metadata": {
        "id": "HpAkvjKEtSg_"
      }
    },
    {
      "cell_type": "code",
      "source": [
        " #?加程式碼"
      ],
      "metadata": {
        "id": "TLiqWF1mHeew"
      },
      "execution_count": null,
      "outputs": []
    },
    {
      "cell_type": "code",
      "source": [
        "# 讀取暫存檔案圖片\n",
        "img = #?加程式碼('/content/photo15.jpg')\n",
        "#?加程式碼"
      ],
      "metadata": {
        "id": "3gFvkBL9Glha"
      },
      "execution_count": null,
      "outputs": []
    },
    {
      "cell_type": "code",
      "source": [
        "img = #?加程式碼(img,(540,300))   # 改變影像尺寸，加快處理效率\n",
        "x, y, w, h = 0, 0, 540, 300       # 定義擷取數字的區域位置和大小\n",
        "#x, y, w, h = 400, 200, 60, 60    # 定義擷取數字的區域位置和大小\n",
        "img_n = img.copy()                # 複製一個影像作為辨識使用\n",
        "img_n = img_n[#?加程式碼]       # 擷取辨識的區域,左上角(x,y)=(0,0)\n",
        "img_n = #?加程式碼(img_n, cv2.COLOR_BGR2GRAY) # 顏色轉成灰階\n",
        "    # 針對白色文字，做二值化黑白轉換，轉成黑底白字\n",
        "ret, img_n = #?加程式碼(img_n, 127, 255, cv2.THRESH_BINARY_INV)\n",
        "output = cv2.#?加程式碼(img_n, cv2.COLOR_GRAY2BGR)  # 顏色轉成彩色\n",
        "#img[0:60, 480:540] = output        # 將轉換後的影像顯示在畫面右上角\n",
        "img_n = cv2.resize(img_n,(28,28))   # 縮小成 28x28，和訓練模型對照\n",
        "img_n = img_n.astype(np.float32)    # 轉換格式\n",
        "img_n = img_n.reshape(-1,)  # 打散成一維陣列資料，轉換成辨識使用的格式\n",
        "img_n = img_n.reshape(1,-1)\n",
        "img_n = img_n/255\n",
        "img_pre = #?加程式碼     # 進行辨識\n",
        "num = str(int(img_pre[1][0][0])) # 取得辨識結果\n",
        "text = num                            # 印出的文字內容\n",
        "org = (x,y-20)                        # 印出的文字位置\n",
        "fontFace = cv2.FONT_HERSHEY_SIMPLEX   # 印出的文字字體\n",
        "fontScale = 2                         # 印出的文字大小\n",
        "color = (0,0,255)                     # 印出的文字顏色\n",
        "thickness = 2                         # 印出的文字邊框粗細\n",
        "lineType = cv2.LINE_AA                # 印出的文字邊框樣式\n",
        "cv2.putText(img, text, org, fontFace, fontScale,\n",
        "            color, thickness, lineType) # 印出文字\n",
        "\n",
        "cv2.rectangle(img,(x,y),(x+w,y+h),(0,0,255),3) # 標記辨識的區域\n",
        "print('辨識結果:',num)\n",
        "cv2_imshow(img)"
      ],
      "metadata": {
        "id": "EfVqjGhzcUwc"
      },
      "execution_count": null,
      "outputs": []
    },
    {
      "cell_type": "markdown",
      "source": [
        "##先測試自己的拍照手寫數字辨識"
      ],
      "metadata": {
        "id": "jH3tMGeUv83A"
      }
    },
    {
      "cell_type": "markdown",
      "source": [
        "##第二次手寫數字辨識,讀取拍攝的圖片。\n",
        "###下面程式先使用拍攝影像,放在Colab的暫存區Disk的photo.jpg。\n",
        "###若失敗再上傳教材雲端資料夾的photo.jpg到左側的Files資料夾。\n",
        "\n"
      ],
      "metadata": {
        "id": "1dXY1SlIsLdP"
      }
    },
    {
      "cell_type": "code",
      "source": [
        "# 讀取拍攝的圖片\n",
        "img = #?加程式碼('/content/photo.jpg')\n",
        "#?加程式碼\n"
      ],
      "metadata": {
        "id": "rHdDbgbeztHM"
      },
      "execution_count": null,
      "outputs": []
    },
    {
      "cell_type": "code",
      "source": [
        "img = cv2.resize(#?加程式碼) # 改變影像尺寸，加快處理效率\n",
        "x, y, w, h = #?加程式碼     #設定截圖的起點x,y,大小w,h\n",
        "#x, y, w, h = 60, 0, 180, 180   # 定義擷取數字的區域位置和大小\n",
        "#x, y, w, h = 400, 200, 60, 60  # 定義擷取數字的區域位置和大小\n",
        "img_n = img.copy()              # 複製一個影像作為辨識使用\n",
        "img_n = img_n[y:y+h, x:x+w]     # 擷取辨識的區域,左上角(x,y)=(0,0)"
      ],
      "metadata": {
        "id": "AM82eZXsbyin"
      },
      "execution_count": null,
      "outputs": []
    },
    {
      "cell_type": "code",
      "source": [
        "img_n = cv2.cvtColor(img_n, #?加程式碼)# 顏色轉成灰階\n",
        "    # 針對白色文字，做二值化黑白轉換，轉成黑底白字\n",
        "ret, img_n = cv2.threshold(img_n, 140, 255,\n",
        "                           cv2.THRESH_BINARY_INV)\n",
        "output = cv2.cvtColor(img_n, cv2.COLOR_GRAY2BGR)# 顏色轉成彩色\n",
        "#img[0:60, 480:540] = output        # 將轉換後的影像顯示在畫面右上角"
      ],
      "metadata": {
        "id": "atJdHLzTcz-z"
      },
      "execution_count": null,
      "outputs": []
    },
    {
      "cell_type": "code",
      "source": [
        "img_n = cv2.resize(img_n,(28,28))   # 縮小成 28x28，和訓練模型對照\n",
        "img_n = img_n.astype(np.float32)    # 轉換格式\n",
        "img_n = img_n.reshape(-1,)  # 打散成一維陣列資料，轉換成辨識使用的格式\n",
        "img_n = img_n.reshape(1,-1)\n",
        "img_n = img_n/255\n",
        "img_pre = knn.predict(img_n)     # 進行辨識\n",
        "num = str(int(img_pre[1][0][0])) # 取得辨識結果"
      ],
      "metadata": {
        "id": "8wJRvqQ5c5dt"
      },
      "execution_count": null,
      "outputs": []
    },
    {
      "cell_type": "code",
      "source": [
        "text = num                              # 印出的文字內容\n",
        "org = (x,y-20)                          # 印出的文字位置\n",
        "fontFace = cv2.FONT_HERSHEY_SIMPLEX     # 印出的文字字體\n",
        "fontScale = 2                           # 印出的文字大小\n",
        "color = (0,0,255)                       # 印出的文字顏色\n",
        "thickness = 2                           # 印出的文字邊框粗細\n",
        "lineType = cv2.LINE_AA                  # 印出的文字邊框樣式\n",
        "cv2.putText(img, text, org, fontFace, fontScale,\n",
        "            color, thickness, lineType) # 印出文字\n",
        "\n",
        "cv2.rectangle(img,(x,y),(x+w,y+h),(0,0,255),3)# 標記辨識的區域\n",
        "print('辨識結果:',num)#這是錯誤的辨識\n",
        "cv2_imshow(img)"
      ],
      "metadata": {
        "id": "Gs_93av48MkG"
      },
      "execution_count": null,
      "outputs": []
    },
    {
      "cell_type": "markdown",
      "source": [
        "##第三次手寫數字辨識,上傳教材雲端資料夾的photo.jpg到左側的Files資料夾。\n",
        "###讀取放在Colab的暫存區Disk的photo.jpg。\n"
      ],
      "metadata": {
        "id": "JvXqCsikQoiw"
      }
    },
    {
      "cell_type": "markdown",
      "source": [
        "##上傳教材雲端資料夾的photo.jpg到左側的Files資料夾。\n",
        "###然後第三次辨識由此格 Run after"
      ],
      "metadata": {
        "id": "DgqKaENp1lVT"
      }
    },
    {
      "cell_type": "code",
      "source": [
        "# 若要使用老師提供的照片,可下載再上傳,雲端教材的photo.jpg拖拉至左側檔案區\n",
        "img = cv2.imread('/content/photo.jpg') #上傳到Colab的暫存Disk,讀取圖檔\n",
        "cv2_imshow(img)"
      ],
      "metadata": {
        "id": "tnj909whEus_"
      },
      "execution_count": null,
      "outputs": []
    },
    {
      "cell_type": "code",
      "source": [
        "img = cv2#?加程式碼   # 改變影像尺寸，加快處理效率\n",
        "x, y, w, h = #?加程式碼\n",
        "#x, y, w, h =60, 0, 180, 180       # 定義擷取數字的區域位置和大小\n",
        "#x, y, w, h = 400, 200, 60, 60     # 定義擷取數字的區域位置和大小\n",
        "img_a = img.copy()                 # 複製一個影像作為辨識使用\n",
        "img_a = img_a#?加程式碼        # 擷取辨識的區域,左上角(x,y)=(0,0)\n",
        "\n",
        "img_gray = cv2.#?加程式碼(img_a, #?加程式碼)  # RGB影像轉灰階\n",
        "    # 針對白色文字，做二值化黑白轉換，轉成黑底白字 # RGB顏色轉成灰階\n",
        "cv2_imshow(img_gray)"
      ],
      "metadata": {
        "id": "F0UAEXyz_4ji"
      },
      "execution_count": null,
      "outputs": []
    },
    {
      "cell_type": "code",
      "source": [
        "#如果大於 140 就等於 255，反之等於 0。\n",
        "#ret, output = cv2.threshold(img_gray, 140, 255, cv2.THRESH_BINARY)\n",
        "#ret, output = cv2.threshold(img_gray, 140, 255, cv2.THRESH_TOZERO)\n",
        "#ret, output = cv2.threshold(img_gray, 140, 255, cv2.THRESH_BINARY_INV)\n",
        "ret, output = cv2.#?加程式碼(img_gray, #?加程式碼, cv2.THRESH_TOZERO)\n",
        "output"
      ],
      "metadata": {
        "id": "OgVx5DX6sF6V"
      },
      "execution_count": null,
      "outputs": []
    },
    {
      "cell_type": "code",
      "source": [
        "#如果大於 140 就等於 255，反之等於 0。\n",
        "ret, output = cv2.threshold(img_gray, #?加程式碼)\n",
        "#ret, output = cv2.threshold(img_gray, 140, 255, cv2.THRESH_BINARY)\n",
        "#ret, output = cv2.threshold(img_gray, 140, 255, cv2.THRESH_TOZERO)\n",
        "output"
      ],
      "metadata": {
        "id": "hJ4cGHtbseYb"
      },
      "execution_count": null,
      "outputs": []
    },
    {
      "cell_type": "code",
      "source": [
        "output[25]"
      ],
      "metadata": {
        "id": "XKiNXRvSOtSr"
      },
      "execution_count": null,
      "outputs": []
    },
    {
      "cell_type": "code",
      "source": [
        "img_o = #?加程式碼 # 使用 255 減去陣列中所有數值\n",
        "img_o"
      ],
      "metadata": {
        "id": "DOzHf_c7uBBJ"
      },
      "execution_count": null,
      "outputs": []
    },
    {
      "cell_type": "code",
      "source": [
        "img_o[25]"
      ],
      "metadata": {
        "id": "lHawm8TTOQb1"
      },
      "execution_count": null,
      "outputs": []
    },
    {
      "cell_type": "code",
      "source": [
        "ret, output = cv2.#?加程式碼(img_gray, #?加程式碼, cv2.THRESH_BINARY_INV)\n",
        "#ret, output = cv2.threshold(img_gray, 140, 255, cv2.THRESH_BINARY_INV)\n",
        "output"
      ],
      "metadata": {
        "id": "Tl26Y3EKFMfS"
      },
      "execution_count": null,
      "outputs": []
    },
    {
      "cell_type": "code",
      "source": [
        "img_n = cv2.resize(img_o,#?加程式碼)   # 縮小成 28x28，和訓練模型對照\n",
        "cv2_imshow(img_n)"
      ],
      "metadata": {
        "id": "oXK0qtX7CN2q"
      },
      "execution_count": null,
      "outputs": []
    },
    {
      "cell_type": "code",
      "source": [
        "#img_n = cv2.resize(output,(28,28))   # 縮小成 28x28，和訓練模型對照\n",
        "#cv2_imshow(img_n)"
      ],
      "metadata": {
        "id": "Qc5KLGfuLRuI"
      },
      "execution_count": null,
      "outputs": []
    },
    {
      "cell_type": "code",
      "source": [
        "img_n.shape"
      ],
      "metadata": {
        "id": "Ne_X0XQUh-MY"
      },
      "execution_count": null,
      "outputs": []
    },
    {
      "cell_type": "code",
      "source": [
        "img_n"
      ],
      "metadata": {
        "id": "VJxdRKTJoSAS"
      },
      "execution_count": null,
      "outputs": []
    },
    {
      "cell_type": "markdown",
      "source": [
        "###[blur() 平均模糊](https://steam.oxxostudio.tw/category/python/ai/opencv-blur.html)"
      ],
      "metadata": {
        "id": "gVDZ6XqzUIGm"
      }
    },
    {
      "cell_type": "code",
      "source": [
        "output2 = #?加程式碼\n",
        "output2 #也可試不同參數cv2.blur(img_n, (4, 4))"
      ],
      "metadata": {
        "id": "YMy99HWlSaFH"
      },
      "execution_count": null,
      "outputs": []
    },
    {
      "cell_type": "code",
      "source": [
        "plot_image(output2,2)"
      ],
      "metadata": {
        "id": "a-YjdR57T0Jc"
      },
      "execution_count": null,
      "outputs": []
    },
    {
      "cell_type": "code",
      "source": [
        "img_n = output2"
      ],
      "metadata": {
        "id": "iPvKP1gtS_JQ"
      },
      "execution_count": null,
      "outputs": []
    },
    {
      "cell_type": "code",
      "source": [
        "img_n = img_n.#?加程式碼\n",
        "img_n"
      ],
      "metadata": {
        "id": "bZ8DUosOTLXf"
      },
      "execution_count": null,
      "outputs": []
    },
    {
      "cell_type": "code",
      "source": [
        "img_n = img_n/255"
      ],
      "metadata": {
        "id": "ZCRnVDW3cBXH"
      },
      "execution_count": null,
      "outputs": []
    },
    {
      "cell_type": "code",
      "source": [
        "img_n = img_n.reshape(-1,) # 打散成一維陣列資料，轉換成辨識使用的格式\n",
        "img_n = img_n.#?加程式碼"
      ],
      "metadata": {
        "id": "NCH7mljzYZWY"
      },
      "execution_count": null,
      "outputs": []
    },
    {
      "cell_type": "code",
      "source": [
        "img_n.shape"
      ],
      "metadata": {
        "id": "1uYn4_AVbW9i"
      },
      "execution_count": null,
      "outputs": []
    },
    {
      "cell_type": "code",
      "source": [
        "img_n"
      ],
      "metadata": {
        "id": "XuAbi7pmn5Rp"
      },
      "execution_count": null,
      "outputs": []
    },
    {
      "cell_type": "code",
      "source": [
        "#img_n = img_n/255\n",
        "img_pre = #?加程式碼  # 進行辨識\n",
        "img_pre"
      ],
      "metadata": {
        "id": "vK1vVSC6D_3Q"
      },
      "execution_count": null,
      "outputs": []
    },
    {
      "cell_type": "code",
      "source": [
        "type(img_pre)"
      ],
      "metadata": {
        "colab": {
          "base_uri": "https://localhost:8080/"
        },
        "id": "zsi0MmD_ALfS",
        "outputId": "f6c13f0f-3a39-4c19-9e7c-19d34ae1848a"
      },
      "execution_count": null,
      "outputs": [
        {
          "output_type": "execute_result",
          "data": {
            "text/plain": [
              "tuple"
            ]
          },
          "metadata": {},
          "execution_count": 40
        }
      ]
    },
    {
      "cell_type": "code",
      "source": [
        "img_pre#?加程式碼"
      ],
      "metadata": {
        "id": "QsmcshXVABF9"
      },
      "execution_count": null,
      "outputs": []
    },
    {
      "cell_type": "code",
      "source": [
        "img_pre#?加程式碼"
      ],
      "metadata": {
        "id": "bthkum5pAFkV"
      },
      "execution_count": null,
      "outputs": []
    },
    {
      "cell_type": "code",
      "source": [
        "img_pre#?加程式碼"
      ],
      "metadata": {
        "id": "eT-Hg2WiAyGb"
      },
      "execution_count": null,
      "outputs": []
    },
    {
      "cell_type": "code",
      "source": [
        "num = #?加程式碼# 取得辨識結果\n",
        "num"
      ],
      "metadata": {
        "id": "g_U9ERgxDQvi"
      },
      "execution_count": null,
      "outputs": []
    },
    {
      "cell_type": "code",
      "source": [
        "num = #?加程式碼# 取得辨識結果\n",
        "num"
      ],
      "metadata": {
        "id": "U8ue_L5Rx6kd"
      },
      "execution_count": null,
      "outputs": []
    },
    {
      "cell_type": "code",
      "source": [],
      "metadata": {
        "id": "i-H_OAwAANNU"
      },
      "execution_count": null,
      "outputs": []
    }
  ]
}