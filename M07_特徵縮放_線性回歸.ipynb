{
  "nbformat": 4,
  "nbformat_minor": 0,
  "metadata": {
    "colab": {
      "provenance": []
    },
    "kernelspec": {
      "name": "python3",
      "display_name": "Python 3"
    },
    "language_info": {
      "name": "python"
    }
  },
  "cells": [
    {
      "cell_type": "code",
      "execution_count": null,
      "metadata": {
        "id": "quhk-GTCcoZn"
      },
      "outputs": [],
      "source": [
        "# 改用 M07+08 特徵縮放_線性+非線性回歸"
      ]
    }
  ]
}