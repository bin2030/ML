{
  "nbformat": 4,
  "nbformat_minor": 0,
  "metadata": {
    "kernelspec": {
      "display_name": "Python 3",
      "language": "python",
      "name": "python3"
    },
    "language_info": {
      "codemirror_mode": {
        "name": "ipython",
        "version": 3
      },
      "file_extension": ".py",
      "mimetype": "text/x-python",
      "name": "python",
      "nbconvert_exporter": "python",
      "pygments_lexer": "ipython3",
      "version": "3.6.9"
    },
    "colab": {
      "provenance": []
    }
  },
  "cells": [
    {
      "cell_type": "markdown",
      "metadata": {
        "id": "h7bTgQY4oJg6"
      },
      "source": [
        "# 實作07：簡單線性回歸-有特徵縮放"
      ]
    },
    {
      "cell_type": "markdown",
      "metadata": {
        "id": "zAZnXjVSoLul"
      },
      "source": [
        "### (0)掛載雲端硬碟"
      ]
    },
    {
      "cell_type": "code",
      "metadata": {
        "id": "4JkeIQfuocWp",
        "colab": {
          "base_uri": "https://localhost:8080/"
        },
        "outputId": "f5248dad-6b75-401f-c7d3-5b12eaa418aa"
      },
      "source": [
        "from google.colab import drive\n",
        "drive.mount('/content/drive')"
      ],
      "execution_count": null,
      "outputs": [
        {
          "output_type": "stream",
          "name": "stdout",
          "text": [
            "Drive already mounted at /content/drive; to attempt to forcibly remount, call drive.mount(\"/content/drive\", force_remount=True).\n"
          ]
        }
      ]
    },
    {
      "cell_type": "markdown",
      "metadata": {
        "id": "Gd3LTUDdoJg7"
      },
      "source": [
        "### (1)import必要的套件"
      ]
    },
    {
      "cell_type": "code",
      "metadata": {
        "id": "qJDVZR28oJg8"
      },
      "source": [
        "import numpy as np\n",
        "from IPython import display\n",
        "import matplotlib.pyplot as plt\n",
        "import matplotlib.font_manager as plt_font\n",
        "#要記得改為自己的自行檔案路徑\n",
        "twfont1 = plt_font.FontProperties(fname=\n",
        "            \"#?加程式碼\")"
      ],
      "execution_count": null,
      "outputs": []
    },
    {
      "cell_type": "code",
      "metadata": {
        "id": "1XSZ9bhZnEBy"
      },
      "source": [
        "#?加程式碼"
      ],
      "execution_count": null,
      "outputs": []
    },
    {
      "cell_type": "markdown",
      "metadata": {
        "id": "nkL6Xp5qLnYH"
      },
      "source": [
        "### (2)定義特徵縮放的函數"
      ]
    },
    {
      "cell_type": "code",
      "metadata": {
        "id": "ir8yXQK_Lx2C"
      },
      "source": [
        "#參數kind預設為0，做標準化；kind設為1，做歸一化\n",
        "def FeatureScaling(data,kind=0):\n",
        "  if kind==1:\n",
        "    return #?加程式碼\n",
        "  else:\n",
        "    return #?加程式碼"
      ],
      "execution_count": null,
      "outputs": []
    },
    {
      "cell_type": "markdown",
      "metadata": {
        "id": "8h8xmwzVoJhB"
      },
      "source": [
        "### (3)將原始資料分為訓練資料集和驗證資料集"
      ]
    },
    {
      "cell_type": "code",
      "source": [
        "#由SalesVolume.csv檔案載入資料集\n",
        "data= np.loadtxt(#?加程式碼,\n",
        "                 #?加程式碼)"
      ],
      "metadata": {
        "id": "WCnqfwXBbEJ0"
      },
      "execution_count": null,
      "outputs": []
    },
    {
      "cell_type": "code",
      "metadata": {
        "id": "PfxTxTagWdON"
      },
      "source": [
        "df0 = #?加程式碼\n",
        "df0"
      ],
      "execution_count": null,
      "outputs": []
    },
    {
      "cell_type": "markdown",
      "metadata": {
        "id": "12c3DFrhyykf"
      },
      "source": [
        "### 重新訓練若由此開始 Run After\n",
        "### 用不同順序的資料集,隨機取得訓練及驗證的資料"
      ]
    },
    {
      "cell_type": "code",
      "metadata": {
        "id": "gNzSe3gTY6qf"
      },
      "source": [
        "#DataFrame隨機排序 frac=1傳回全部的項目,\n",
        "#reset_index() 方法來重置 DataFrame 索引\n",
        "#drop=True 選項防止將 index 新增為新的行(column)。\n",
        "df = #?加程式碼\n",
        "df"
      ],
      "execution_count": null,
      "outputs": []
    },
    {
      "cell_type": "code",
      "metadata": {
        "id": "jhzqHHQHVfdK"
      },
      "source": [
        "data = np.array(df)"
      ],
      "execution_count": null,
      "outputs": []
    },
    {
      "cell_type": "code",
      "metadata": {
        "id": "uVekABf0VGve"
      },
      "source": [
        "data"
      ],
      "execution_count": null,
      "outputs": []
    },
    {
      "cell_type": "code",
      "metadata": {
        "id": "HIkocy6zoJhG"
      },
      "source": [
        "data_x=#?加程式碼 #第0列為廣告推播次數，\n",
        "#並做特徵縮放，第2參數設為0是標準化，設為1是歸一化\n",
        "data_y=#?加程式碼 #第2列為商品銷售數量\n",
        "#訓練資料集12筆\n",
        "#?加程式碼\n",
        "#?加程式碼\n",
        "#驗證資料集8筆\n",
        "#?加程式碼\n",
        "#?加程式碼"
      ],
      "execution_count": null,
      "outputs": []
    },
    {
      "cell_type": "code",
      "source": [
        "data[0] #第0列為廣告推播次數"
      ],
      "metadata": {
        "id": "0ik7PP9QFhgZ"
      },
      "execution_count": null,
      "outputs": []
    },
    {
      "cell_type": "code",
      "source": [
        "data_x #做特徵縮放，標準化"
      ],
      "metadata": {
        "id": "eDkdNIIIFotY"
      },
      "execution_count": null,
      "outputs": []
    },
    {
      "cell_type": "markdown",
      "metadata": {
        "id": "0B8QFclgoJhR"
      },
      "source": [
        "### (4)隨機初始化偏值b，權重w"
      ]
    },
    {
      "cell_type": "code",
      "metadata": {
        "id": "B9v5uKi-oJhT"
      },
      "source": [
        "#?加程式碼\n",
        "#?加程式碼\n",
        "print(b,w)"
      ],
      "execution_count": null,
      "outputs": []
    },
    {
      "cell_type": "markdown",
      "metadata": {
        "id": "elaKkyU6oJhY"
      },
      "source": [
        "## (5)定義迴歸模型的線性函數"
      ]
    },
    {
      "cell_type": "code",
      "metadata": {
        "id": "waOWei-BoJhZ"
      },
      "source": [
        "def F(x):\n",
        "    return #?加程式碼"
      ],
      "execution_count": null,
      "outputs": []
    },
    {
      "cell_type": "markdown",
      "metadata": {
        "id": "YOC_ejxsoJhe"
      },
      "source": [
        "## (6)定義損失函數LOSS Funcation"
      ]
    },
    {
      "cell_type": "code",
      "metadata": {
        "id": "--4uolr7oJhf"
      },
      "source": [
        "def Loss(x,y):\n",
        "    return #?加程式碼"
      ],
      "execution_count": null,
      "outputs": []
    },
    {
      "cell_type": "markdown",
      "metadata": {
        "id": "sXFWFxxZoJhn"
      },
      "source": [
        "## (7)設定學習率和權重更新次數"
      ]
    },
    {
      "cell_type": "code",
      "metadata": {
        "id": "_SjbmsWCoJho"
      },
      "source": [
        "#學習率，不同特徵縮放方式，學習率需要調整\n",
        "#?加程式碼\n",
        "Step_Loss=[]\n",
        "Step_b=[]\n",
        "Step_w=[]"
      ],
      "execution_count": null,
      "outputs": []
    },
    {
      "cell_type": "markdown",
      "metadata": {
        "id": "mSosLrF1oJhr"
      },
      "source": [
        "## (8)開始訓練模型"
      ]
    },
    {
      "cell_type": "code",
      "metadata": {
        "id": "7__Uk4EEoJhs"
      },
      "source": [
        "for epoch in range(10000):\n",
        "    b=#?加程式碼\n",
        "    w=#?加程式碼\n",
        "    if epoch%100==99:\n",
        "        current_loss=#?加程式碼\n",
        "        print(\"訓練次數:\",epoch+1,\"\\nb:\",b,\n",
        "              \"\\nw:\",w,\"\\n損失函數:\",current_loss)\n",
        "        #?加程式碼\n",
        "        Step_b.append(b)\n",
        "        Step_w.append(w)\n",
        "        display.clear_output(wait=True)"
      ],
      "execution_count": null,
      "outputs": []
    },
    {
      "cell_type": "markdown",
      "metadata": {
        "id": "D7dPtjfloJhw"
      },
      "source": [
        "### (9)畫圖檢查模型訓練結果"
      ]
    },
    {
      "cell_type": "code",
      "metadata": {
        "id": "Bqm9ymtZoJhw"
      },
      "source": [
        "plt.figure(figsize=(12,6))\n",
        "plt.title(\"訓練模型和數據關係圖\",fontproperties=twfont1,fontsize=20)\n",
        "plt.xlabel(\"x資料\",fontproperties=twfont1,fontsize=20)\n",
        "plt.ylabel(\"y資料\",fontproperties=twfont1,fontsize=20)\n",
        "#x軸刻度範圍，不同特徵縮放方式需要調整\n",
        "x = #?加程式碼\n",
        "plt.plot(#?加程式碼,label=\"模型函數\")\n",
        "plt.plot(#?加程式碼, 'go',label=\"訓練資料集\")\n",
        "plt.plot(#?加程式碼, 'ro',label=\"驗證資料集\")\n",
        "plt.legend(prop=twfont1)\n",
        "plt.show()"
      ],
      "execution_count": null,
      "outputs": []
    },
    {
      "cell_type": "markdown",
      "metadata": {
        "id": "yrfMwe4XoJh1"
      },
      "source": [
        "### (10)觀察Loss值隨訓練次數的變化"
      ]
    },
    {
      "cell_type": "code",
      "metadata": {
        "id": "5R9oF5XVoJh2"
      },
      "source": [
        "plt.figure(figsize=(12,6))\n",
        "plt.title(\"Loss隨訓練次數的變化\",fontproperties=twfont1,fontsize=20)\n",
        "plt.xlabel(\"訓練次數(x100)\",fontproperties=twfont1,fontsize=20)\n",
        "plt.ylabel(\"Loss值\",fontproperties=twfont1,fontsize=20)\n",
        "plt.plot(#?加程式碼)\n",
        "plt.show()"
      ],
      "execution_count": null,
      "outputs": []
    },
    {
      "cell_type": "markdown",
      "metadata": {
        "id": "mQUQC5adoJh8"
      },
      "source": [
        "### (11)比較訓練好的迴歸模型函數在訓練資料集和驗證資料集的每筆平均Loss值"
      ]
    },
    {
      "cell_type": "code",
      "metadata": {
        "id": "IoiJ9gp-oJh8",
        "colab": {
          "base_uri": "https://localhost:8080/"
        },
        "outputId": "10150b01-e283-457e-ce4b-6b395f1c1b5b"
      },
      "source": [
        "print(\"訓練資料集對回歸模型的每筆平均Loss值\",\n",
        "      #?加程式碼)\n",
        "print(\"驗證資料集對回歸模型的每筆平均Loss值\",\n",
        "      #?加程式碼)"
      ],
      "execution_count": null,
      "outputs": [
        {
          "output_type": "stream",
          "name": "stdout",
          "text": [
            "訓練資料集對回歸模型的每筆平均Loss值 436.6690545773933\n",
            "驗證資料集對回歸模型的每筆平均Loss值 452.9945222184011\n"
          ]
        }
      ]
    },
    {
      "cell_type": "code",
      "source": [
        "import time"
      ],
      "metadata": {
        "id": "ocC5jM25bHdt"
      },
      "execution_count": null,
      "outputs": []
    },
    {
      "cell_type": "code",
      "metadata": {
        "id": "i6lfD72UioGP"
      },
      "source": [
        "time.sleep(3)\n",
        "#執行 Run All 會在這暫停3秒"
      ],
      "execution_count": null,
      "outputs": []
    },
    {
      "cell_type": "markdown",
      "metadata": {
        "id": "JKaZNAwAoJiA"
      },
      "source": [
        "### 動畫顯示迴歸係數的移動路徑"
      ]
    },
    {
      "cell_type": "code",
      "metadata": {
        "id": "BoPEo2WsoJiA"
      },
      "source": [
        "for i in range(0,len(Step_b),2):\n",
        "    plt.figure(figsize=(12,6))\n",
        "    plt.title(\"動畫顯示迴歸係數的移動路徑\",\n",
        "              fontproperties=twfont1,fontsize=20)\n",
        "    plt.xlim(#?加程式碼,\n",
        "             np.max(np.array([Step_b,Step_w])))\n",
        "    plt.ylim(np.min(np.array([Step_b,Step_w])),\n",
        "             #?加程式碼)\n",
        "    plt.xlabel(\"b\",fontproperties=twfont1,fontsize=20)\n",
        "    plt.ylabel(\"w\",fontproperties=twfont1,fontsize=20)\n",
        "    plt.#?加程式碼\n",
        "    plt.pause(0.1)\n",
        "    print(i)\n",
        "    display.clear_output(wait=True)"
      ],
      "execution_count": null,
      "outputs": []
    },
    {
      "cell_type": "markdown",
      "metadata": {
        "id": "51TzItZwu2Y_"
      },
      "source": [
        "### (12)顯示迴歸係數(權重和偏值)在損失函數等高線分布圖的移動路徑"
      ]
    },
    {
      "cell_type": "code",
      "metadata": {
        "id": "SoLsrn3pzTxU"
      },
      "source": [
        "#取b和w的網格範圍，不同的特徵縮放，網格範圍要調整\n",
        "b=np.linspace(0,450,200)\n",
        "w=np.linspace(0,450,200)\n",
        "#計算每一個網格點對應的損失函數值\n",
        "L=#?加程式碼\n",
        "for i in range(200):\n",
        "  for j in range(200):\n",
        "    L[j][i]=#?加程式碼\n",
        "#鋪設網格\n",
        "b,w=#?加程式碼\n",
        "# 開啟繪圖區域\n",
        "plt.figure(figsize=(10,10))\n",
        "CS=#?加程式碼\n",
        "plt.clabel(CS,inline=1,fontsize=10)\n",
        "plt.#?加程式碼\n",
        "plt.title('等高線圖',fontproperties=twfont1)\n",
        "plt.show()"
      ],
      "execution_count": null,
      "outputs": []
    }
  ]
}