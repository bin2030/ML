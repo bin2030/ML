{
  "nbformat": 4,
  "nbformat_minor": 0,
  "metadata": {
    "kernelspec": {
      "display_name": "Python 3",
      "language": "python",
      "name": "python3"
    },
    "language_info": {
      "codemirror_mode": {
        "name": "ipython",
        "version": 3
      },
      "file_extension": ".py",
      "mimetype": "text/x-python",
      "name": "python",
      "nbconvert_exporter": "python",
      "pygments_lexer": "ipython3",
      "version": "3.6.9"
    },
    "colab": {
      "provenance": []
    }
  },
  "cells": [
    {
      "cell_type": "markdown",
      "metadata": {
        "id": "Q-rJ2jZMiZTy"
      },
      "source": [
        "# 實作01：劃出多項式函數及其導函數的函數圖"
      ]
    },
    {
      "cell_type": "markdown",
      "metadata": {
        "id": "ZoOjpEQaiiR6"
      },
      "source": [
        "##(0)掛載雲端硬碟"
      ]
    },
    {
      "cell_type": "code",
      "metadata": {
        "id": "kUU3RNwViof3",
        "colab": {
          "base_uri": "https://localhost:8080/"
        },
        "outputId": "4165208a-99fd-46bc-8a28-f77b0913bb39"
      },
      "source": [
        "#?加程式碼"
      ],
      "execution_count": null,
      "outputs": [
        {
          "output_type": "stream",
          "name": "stdout",
          "text": [
            "Mounted at /content/drive\n"
          ]
        }
      ]
    },
    {
      "cell_type": "markdown",
      "metadata": {
        "id": "Glzx2v9YiZT0"
      },
      "source": [
        "### (1)import必要的套件"
      ]
    },
    {
      "cell_type": "code",
      "metadata": {
        "id": "cNDeUN4-iZT2"
      },
      "source": [
        "#數據、矩陣處理套件numpy\n",
        "#?加程式碼\n",
        "#繪圖處理套件matplotlib\n",
        "#?加程式碼\n",
        "#繪圖處理套件顯示中文matplotlib.font_manager\n",
        "#?加程式碼\n",
        "#設定中文字體物件和字型檔案路徑/content/drive/MyDrive/Colab Notebooks/kaiu.ttf\n",
        "#?加程式碼"
      ],
      "execution_count": null,
      "outputs": []
    },
    {
      "cell_type": "markdown",
      "metadata": {
        "id": "sVmjYu04iZT9"
      },
      "source": [
        "### (2)定義多項式函數f(x)=x<sup>4</sup>-38x<sup>2</sup>-48x+24"
      ]
    },
    {
      "cell_type": "code",
      "metadata": {
        "id": "6CdrtVH5iZT-"
      },
      "source": [
        "#?加程式碼\n"
      ],
      "execution_count": null,
      "outputs": []
    },
    {
      "cell_type": "markdown",
      "metadata": {
        "id": "AND5FKMviZUD"
      },
      "source": [
        "### (3)定義原函數的導函數f'(x)=4x<sup>3</sup>-76x-48"
      ]
    },
    {
      "cell_type": "code",
      "metadata": {
        "id": "8bi_HActiZUE"
      },
      "source": [
        "#?加程式碼\n"
      ],
      "execution_count": null,
      "outputs": []
    },
    {
      "cell_type": "markdown",
      "metadata": {
        "id": "xjA5uN4hiZUI"
      },
      "source": [
        "### (4)畫出原函數F(x)和F<sub>1</sub>(x)的導函數，y軸為零的水平線"
      ]
    },
    {
      "cell_type": "code",
      "metadata": {
        "id": "EHPPcXiIiZUI"
      },
      "source": [
        "#設定繪圖區大小\n",
        "plt.figure(figsize=(12,6))\n",
        "#繪圖區的標題，設定用中文字體twfont1，字體大小20\n",
        "plt.title(\"利用導函數找函數的極值\",\n",
        "          fontproperties=twfont1,fontsize=20)\n",
        "#設定橫軸和縱軸的標題\n",
        "plt.xlabel(\"x\",fontsize=20)\n",
        "plt.ylabel(\"y\",fontsize=20)\n",
        "#產生橫軸座標的數據點矩陣\n",
        "#(在-7和7之間取1000個點的數據，含-7含和7)\n",
        "#?加程式碼\n",
        "#畫圖plot(橫軸數據點矩陣，對應橫軸的含數值矩陣\n",
        "##，繪圖線的label)\n",
        "#劃出原函數的關係圖 function\n",
        "#?加程式碼\n",
        "#劃出導函數的關係圖 derivative of function\n",
        "#?加程式碼\n",
        "#劃出縱軸為零的橫線\n",
        "#?加程式碼\n",
        "#顯示繪圖線的label圖示\n",
        "plt.legend(prop=twfont1)\n",
        "#?加程式碼\n",
        "plt.savefig('F01.jpg')\n",
        "plt.savefig(#?加程式碼)"
      ],
      "execution_count": null,
      "outputs": []
    },
    {
      "cell_type": "markdown",
      "metadata": {
        "id": "BLPL2FQfiZUN"
      },
      "source": [
        "#### 觀察上圖中導函數的曲線：\n",
        "#### (1)導函數為零的位置有幾個？是否為原函數有極值的位置？\n",
        "#### (2)函數的全域最小值，出現在X為多少時？"
      ]
    }
  ]
}