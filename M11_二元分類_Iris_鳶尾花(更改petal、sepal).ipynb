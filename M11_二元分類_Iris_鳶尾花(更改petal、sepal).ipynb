{
  "nbformat": 4,
  "nbformat_minor": 0,
  "metadata": {
    "colab": {
      "provenance": []
    },
    "kernelspec": {
      "name": "python3",
      "display_name": "Python 3"
    },
    "language_info": {
      "name": "python"
    }
  },
  "cells": [
    {
      "cell_type": "code",
      "metadata": {
        "colab": {
          "base_uri": "https://localhost:8080/"
        },
        "id": "XQVsxZYVHBAx",
        "outputId": "c74bc319-b2a0-43ef-c846-2698ae05cf6e"
      },
      "source": [
        "from google.colab import drive\n",
        "drive.mount('/content/drive')"
      ],
      "execution_count": null,
      "outputs": [
        {
          "output_type": "stream",
          "name": "stdout",
          "text": [
            "Mounted at /content/drive\n"
          ]
        }
      ]
    },
    {
      "cell_type": "code",
      "metadata": {
        "id": "SZu6LXGDJwJB"
      },
      "source": [
        "import numpy as np\n",
        "import pandas as pd\n",
        "import matplotlib.pyplot as plt"
      ],
      "execution_count": null,
      "outputs": []
    },
    {
      "cell_type": "code",
      "metadata": {
        "id": "AI8YTcXXZ1_V"
      },
      "source": [
        "import matplotlib.font_manager as plt_font\n",
        "twfont1=plt_font.FontProperties(fname=\n",
        "        \"/content/drive/MyDrive/Colab Notebooks/kaiu.ttf\")"
      ],
      "execution_count": null,
      "outputs": []
    },
    {
      "cell_type": "code",
      "metadata": {
        "id": "_WOT-lozXA-B"
      },
      "source": [
        "plt.figure(figsize=(6,3))\n",
        "plt.title(\"標題說明文字\",fontproperties=twfont1,fontsize=20)"
      ],
      "execution_count": null,
      "outputs": []
    },
    {
      "cell_type": "code",
      "metadata": {
        "id": "K2LhV6X0Vy5o"
      },
      "source": [
        "df = #?加程式碼\n",
        "df"
      ],
      "execution_count": null,
      "outputs": []
    },
    {
      "cell_type": "code",
      "source": [
        "df = #?加程式碼\n",
        "df"
      ],
      "metadata": {
        "id": "LJhJGkIOa-lc"
      },
      "execution_count": null,
      "outputs": []
    },
    {
      "cell_type": "code",
      "source": [
        "#?加程式碼"
      ],
      "metadata": {
        "id": "LdKI_0mYGjAR"
      },
      "execution_count": null,
      "outputs": []
    },
    {
      "cell_type": "code",
      "source": [
        "df.columns = #?加程式碼"
      ],
      "metadata": {
        "id": "VCSq4oSmW2fj"
      },
      "execution_count": null,
      "outputs": []
    },
    {
      "cell_type": "code",
      "source": [
        "df"
      ],
      "metadata": {
        "id": "AuVOdS1xXXxC"
      },
      "execution_count": null,
      "outputs": []
    },
    {
      "cell_type": "code",
      "source": [
        "df = #?加程式碼"
      ],
      "metadata": {
        "id": "N-2keqMueEnJ"
      },
      "execution_count": null,
      "outputs": []
    },
    {
      "cell_type": "code",
      "source": [
        "df"
      ],
      "metadata": {
        "id": "uRm5IhRD66ES"
      },
      "execution_count": null,
      "outputs": []
    },
    {
      "cell_type": "code",
      "source": [
        "n = #?加程式碼"
      ],
      "metadata": {
        "id": "WTA_Oa-dhvLg"
      },
      "execution_count": null,
      "outputs": []
    },
    {
      "cell_type": "code",
      "source": [
        "#?加程式碼"
      ],
      "metadata": {
        "id": "awkxnubVhvPJ"
      },
      "execution_count": null,
      "outputs": []
    },
    {
      "cell_type": "code",
      "source": [
        "df"
      ],
      "metadata": {
        "id": "iDL753KAhvWr"
      },
      "execution_count": null,
      "outputs": []
    },
    {
      "cell_type": "code",
      "source": [
        "c = #?加程式碼\n",
        "#?加程式碼\n",
        "df"
      ],
      "metadata": {
        "id": "jIxTKrY7hvZ3"
      },
      "execution_count": null,
      "outputs": []
    },
    {
      "cell_type": "code",
      "source": [
        "df.#?加程式碼"
      ],
      "metadata": {
        "id": "D64UHsx3l_IZ"
      },
      "execution_count": null,
      "outputs": []
    },
    {
      "cell_type": "code",
      "source": [
        "#?加程式碼"
      ],
      "metadata": {
        "id": "su9GnSGGmKo4"
      },
      "execution_count": null,
      "outputs": []
    },
    {
      "cell_type": "code",
      "source": [
        "#?加程式碼"
      ],
      "metadata": {
        "id": "qSpIPwEFhvdw"
      },
      "execution_count": null,
      "outputs": []
    },
    {
      "cell_type": "code",
      "source": [
        "data = #?加程式碼\n",
        "data"
      ],
      "metadata": {
        "id": "40aGq1kxE5ql"
      },
      "execution_count": null,
      "outputs": []
    },
    {
      "cell_type": "code",
      "source": [
        "data = #?加程式碼\n",
        "data"
      ],
      "metadata": {
        "id": "r__QwB7VP04e"
      },
      "execution_count": null,
      "outputs": []
    },
    {
      "cell_type": "code",
      "source": [
        "n = #?加程式碼\n",
        "n"
      ],
      "metadata": {
        "id": "kxvHQ9uQPf5V"
      },
      "execution_count": null,
      "outputs": []
    },
    {
      "cell_type": "code",
      "source": [
        "data = #?加程式碼\n",
        "data"
      ],
      "metadata": {
        "id": "jFJmgjAFRI1o"
      },
      "execution_count": null,
      "outputs": []
    },
    {
      "cell_type": "code",
      "source": [
        "#?加程式碼"
      ],
      "metadata": {
        "id": "TfAMidcBnFf2"
      },
      "execution_count": null,
      "outputs": []
    },
    {
      "cell_type": "code",
      "source": [
        "data = #?加程式碼\n",
        "data.shape"
      ],
      "metadata": {
        "id": "xgChIQktF4fV"
      },
      "execution_count": null,
      "outputs": []
    },
    {
      "cell_type": "code",
      "source": [
        "data"
      ],
      "metadata": {
        "id": "B8bf6fdHndE_"
      },
      "execution_count": null,
      "outputs": []
    },
    {
      "cell_type": "code",
      "source": [
        "data = #?加程式碼\n",
        "data"
      ],
      "metadata": {
        "id": "GQ67NV8HWv8d"
      },
      "execution_count": null,
      "outputs": []
    },
    {
      "cell_type": "code",
      "source": [
        "for #?加程式碼\n",
        "    if #?加程式碼\n",
        "        #?加程式碼\n",
        "    else:\n",
        "        #?加程式碼\n",
        "data"
      ],
      "metadata": {
        "id": "E0wNg_tSqB-d"
      },
      "execution_count": null,
      "outputs": []
    },
    {
      "cell_type": "code",
      "source": [
        "df2 = #?加程式碼\n",
        "df2"
      ],
      "metadata": {
        "id": "3xk5d6gJaNbF"
      },
      "execution_count": null,
      "outputs": []
    },
    {
      "cell_type": "code",
      "metadata": {
        "id": "gNzSe3gTY6qf"
      },
      "source": [
        "#DataFrame隨機排序 frac=1傳回全部的項目,\n",
        "#reset_index() 方法來重置 DataFrame 索引\n",
        "#drop=True 選項防止將 index 新增為新的行(column)。\n",
        "df2 = #?加程式碼\n",
        "df2"
      ],
      "execution_count": null,
      "outputs": []
    },
    {
      "cell_type": "code",
      "source": [
        "data = #?加程式碼\n",
        "data"
      ],
      "metadata": {
        "id": "Q1SZhcw6afLn"
      },
      "execution_count": null,
      "outputs": []
    },
    {
      "cell_type": "code",
      "source": [
        "data_x1 = #?加程式碼\n",
        "data_x1"
      ],
      "metadata": {
        "id": "lW5WA1YLFWMG"
      },
      "execution_count": null,
      "outputs": []
    },
    {
      "cell_type": "code",
      "source": [
        "data_x2 = #?加程式碼\n",
        "data_x2"
      ],
      "metadata": {
        "id": "KQBTznKsFWQj"
      },
      "execution_count": null,
      "outputs": []
    },
    {
      "cell_type": "code",
      "source": [
        "data_y = #?加程式碼\n",
        "data_y #標示+1為山鳶尾(setosa)、標示-1為雜色鳶尾(versicolor)"
      ],
      "metadata": {
        "id": "gotaFkfTIXUF"
      },
      "execution_count": null,
      "outputs": []
    },
    {
      "cell_type": "markdown",
      "metadata": {
        "id": "ZZIvx5plLJP1"
      },
      "source": [
        "### (5)將數據做特徵縮放處理-標準化"
      ]
    },
    {
      "cell_type": "code",
      "metadata": {
        "id": "GzDddxukLJP3"
      },
      "source": [
        "def standardize(data):\n",
        "    return #?加程式碼\n",
        "std_data_x1 = standardize(#?加程式碼)\n",
        "std_data_x2 = standardize(#?加程式碼)"
      ],
      "execution_count": null,
      "outputs": []
    },
    {
      "cell_type": "markdown",
      "metadata": {
        "id": "ckDpNAWjLJP7"
      },
      "source": [
        "### (6)劃出特徵標準化後的分類分布圖"
      ]
    },
    {
      "cell_type": "code",
      "metadata": {
        "id": "DSwRAidKlrsV"
      },
      "source": [
        "plt.figure(figsize=(9,5))\n",
        "classes=[\"山鳶尾\",\"變色鳶尾\"]\n",
        "plt.title(\"鳶尾花品種分佈圖\",\n",
        "          fontproperties=twfont1,fontsize=20)\n",
        "plt.xlabel(\"花萼長度(標準化)\",\n",
        "           fontproperties=twfont1,fontsize=20)\n",
        "plt.ylabel(\"花萼寬度(標準化)\",\n",
        "           fontproperties=twfont1,fontsize=20)\n",
        "plt.scatter(#?加程式碼\n",
        "            c=\"b\",s=40,label=\"山鳶尾(setosa)\")\n",
        "plt.scatter(#?加程式碼\n",
        "            c=\"r\",s=40,label=\"雜色鳶尾(versicolor)\")\n",
        "plt.legend(prop=twfont1)\n",
        "plt.show() #散佈圖,先畫第0筆取得圖例"
      ],
      "execution_count": null,
      "outputs": []
    },
    {
      "cell_type": "code",
      "metadata": {
        "id": "JZs4VVj8LJP8"
      },
      "source": [
        "plt.figure(figsize=(9,5))\n",
        "classes=[\"山鳶尾\",\"變色鳶尾\"]\n",
        "plt.title(\"鳶尾花品種分佈圖\",\n",
        "          fontproperties=twfont1,fontsize=20)\n",
        "plt.xlabel(\"花萼長度(標準化)\",\n",
        "           fontproperties=twfont1,fontsize=20)\n",
        "plt.ylabel(\"花萼寬度(標準化)\",\n",
        "           fontproperties=twfont1,fontsize=20)\n",
        "plt.scatter(#?加程式碼\n",
        "            c=\"b\",s=40,label=\"山鳶尾(setosa)\")\n",
        "plt.scatter(#?加程式碼\n",
        "            c=\"r\",s=40,label=\"雜色鳶尾(versicolor)\")\n",
        "plt.scatter(#?加程式碼\n",
        "            c=#?加程式碼)\n",
        "plt.legend(prop=twfont1)\n",
        "plt.show()"
      ],
      "execution_count": null,
      "outputs": []
    },
    {
      "cell_type": "markdown",
      "metadata": {
        "id": "zci5-Ij6QfGu"
      },
      "source": [
        "# 實作03：利用感知器以鳶尾花的兩種特徵做二元分類"
      ]
    },
    {
      "cell_type": "markdown",
      "metadata": {
        "id": "rSdstjfIQfHa"
      },
      "source": [
        "### (b4)定義將數據做特徵縮放處理-標準化的函數"
      ]
    },
    {
      "cell_type": "code",
      "metadata": {
        "id": "6qfG910_QfHb"
      },
      "source": [
        "def FeatureScaling(data):\n",
        "    return #?加程式碼"
      ],
      "execution_count": null,
      "outputs": []
    },
    {
      "cell_type": "markdown",
      "metadata": {
        "id": "Xh1-SIw5QfHU"
      },
      "source": [
        "### (b5)將原始資料分為訓練資料集和驗證資料集"
      ]
    },
    {
      "cell_type": "code",
      "metadata": {
        "id": "omASjX3zQfHV"
      },
      "source": [
        "#訓練資料集70筆\n",
        "train_x1=FeatureScaling#?加程式碼\n",
        "train_x2=FeatureScaling#?加程式碼\n",
        "train_y=#?加程式碼\n",
        "#驗證資料集28筆\n",
        "valid_x1=FeatureScaling#?加程式碼\n",
        "valid_x2=FeatureScaling#?加程式碼\n",
        "valid_y=#?加程式碼"
      ],
      "execution_count": null,
      "outputs": []
    },
    {
      "cell_type": "markdown",
      "metadata": {
        "id": "3Q_RG0-9QfHv"
      },
      "source": [
        "### (b6)隨機初始化權重矩陣"
      ]
    },
    {
      "cell_type": "code",
      "metadata": {
        "id": "S1t-pEgVQfHw"
      },
      "source": [
        "#亂數初始化權重係數為[2列1行]矩陣\n",
        "W=#?加程式碼\n",
        "B=#?加程式碼"
      ],
      "execution_count": null,
      "outputs": []
    },
    {
      "cell_type": "code",
      "source": [
        "W"
      ],
      "metadata": {
        "colab": {
          "base_uri": "https://localhost:8080/"
        },
        "id": "xfIuod9Hsn85",
        "outputId": "d17294b7-3e0c-4ef7-9cca-a67524f0d547"
      },
      "execution_count": null,
      "outputs": [
        {
          "output_type": "execute_result",
          "data": {
            "text/plain": [
              "array([[0.20653944],\n",
              "       [0.57393128]])"
            ]
          },
          "metadata": {},
          "execution_count": 39
        }
      ]
    },
    {
      "cell_type": "code",
      "source": [
        "B"
      ],
      "metadata": {
        "colab": {
          "base_uri": "https://localhost:8080/"
        },
        "id": "8u0R5zjTsp-U",
        "outputId": "72c7c3f1-b41c-4561-e86e-b98b4bf47e28"
      },
      "execution_count": null,
      "outputs": [
        {
          "output_type": "execute_result",
          "data": {
            "text/plain": [
              "array([[0.45712315]])"
            ]
          },
          "metadata": {},
          "execution_count": 40
        }
      ]
    },
    {
      "cell_type": "markdown",
      "metadata": {
        "id": "Qg-2rQ-zQfH0"
      },
      "source": [
        "### (b7)定義線性累加函數"
      ]
    },
    {
      "cell_type": "code",
      "metadata": {
        "id": "hDTfr5MEQfH0"
      },
      "source": [
        "def Sumfun(x):\n",
        "  return #?加程式碼"
      ],
      "execution_count": null,
      "outputs": []
    },
    {
      "cell_type": "markdown",
      "metadata": {
        "id": "aelBdUogQfH6"
      },
      "source": [
        "### (b8)定義激活函數與分類"
      ]
    },
    {
      "cell_type": "code",
      "metadata": {
        "id": "DgXubX-dQfH9"
      },
      "source": [
        "def Actfun(z):\n",
        "  if z >= 0 :\n",
        "    return #?加程式碼\n",
        "  else:\n",
        "    return #?加程式碼"
      ],
      "execution_count": null,
      "outputs": []
    },
    {
      "cell_type": "markdown",
      "metadata": {
        "id": "0-v9FujCTz4q"
      },
      "source": [
        "### (b9)設定訓練的參數"
      ]
    },
    {
      "cell_type": "code",
      "metadata": {
        "id": "xcLgrwxPUM1G"
      },
      "source": [
        "ETA=#?加程式碼\n",
        "Step_W=[]\n",
        "Step_B=[]"
      ],
      "execution_count": null,
      "outputs": []
    },
    {
      "cell_type": "code",
      "source": [
        "a = np.array([1, 3, 5, 7])\n",
        "b = np.array([2, 4, 6, 8])\n",
        "for #?加程式碼\n",
        "    print(i,j)\n",
        "c = np.array(list(zip(a, b)))\n",
        "c"
      ],
      "metadata": {
        "id": "R2L1rgCiz934",
        "collapsed": true
      },
      "execution_count": null,
      "outputs": []
    },
    {
      "cell_type": "code",
      "source": [
        "#?加程式碼"
      ],
      "metadata": {
        "id": "AykRzkzh0SlO"
      },
      "execution_count": null,
      "outputs": []
    },
    {
      "cell_type": "markdown",
      "metadata": {
        "id": "2k0AE7ZQQfID"
      },
      "source": [
        "### (b10)開始訓練模型"
      ]
    },
    {
      "cell_type": "code",
      "source": [
        "from IPython.display import clear_output"
      ],
      "metadata": {
        "id": "wuQZ893rblWl"
      },
      "execution_count": null,
      "outputs": []
    },
    {
      "cell_type": "code",
      "metadata": {
        "id": "8Lix5utzQfIE"
      },
      "source": [
        "for epoch in range(20):\n",
        "  for x1,x2,y in #?加程式碼:\n",
        "    X=#?加程式碼\n",
        "    z=#?加程式碼\n",
        "    y_hat=#?加程式碼\n",
        "    W=#?加程式碼\n",
        "    B=#?加程式碼\n",
        "    if y != y_hat:\n",
        "      print(\"訓練次數:\",epoch+1,\"偏值:\",B[0],\n",
        "            \"權重w1:\",W[0],\"權重w2:\",W[1])\n",
        "      Step_W.append(W)\n",
        "      Step_B.append(B)\n",
        "      clear_output(wait=True)\n",
        "      #display.clear_output(wait=True)"
      ],
      "execution_count": null,
      "outputs": []
    },
    {
      "cell_type": "markdown",
      "metadata": {
        "id": "MByuveSBQfIM"
      },
      "source": [
        "### (b11)顯示分類模型學習成果"
      ]
    },
    {
      "cell_type": "code",
      "metadata": {
        "id": "MCqSTCSBQfIN"
      },
      "source": [
        "x1 = #?加程式碼\n",
        "plt.figure(figsize=(9,5))\n",
        "plt.title(\"鳶尾花品種分佈圖-訓練後的模型\",\n",
        "          fontproperties=twfont1,fontsize=20)\n",
        "plt.xlabel(\"花萼長度\",\n",
        "           fontproperties=twfont1,fontsize=20)\n",
        "plt.ylabel(\"花萼寬度\",\n",
        "           fontproperties=twfont1,fontsize=20)\n",
        "plt.scatter(#?加程式碼\n",
        "            c=\"b\",s=40,label=\"山鳶尾(setosa)\")\n",
        "plt.scatter(#?加程式碼\n",
        "            c=\"r\",s=40,label=\"雜色鳶尾(versicolor)\")\n",
        "plt.scatter(#?加程式碼\n",
        "            c=[\"b\" if i==1 else \"r\" for i in train_y ], s=40)\n",
        "plt.plot(#?加程式碼\n",
        "         linestyle='dashed',label=\"決策邊界\")\n",
        "plt.legend(prop=twfont1)\n",
        "plt.show()"
      ],
      "execution_count": null,
      "outputs": []
    },
    {
      "cell_type": "markdown",
      "metadata": {
        "id": "oKLXOJlTQfIW"
      },
      "source": [
        "### (b13)對於驗證集資料的分類效果"
      ]
    },
    {
      "cell_type": "code",
      "metadata": {
        "id": "aPVsvwNHQfIX"
      },
      "source": [
        "x1 = np.linspace(-2, 2, 100)\n",
        "plt.figure(figsize=(9,5))\n",
        "plt.title(\"鳶尾花品種分佈圖-驗證集分類\",fontproperties=twfont1,fontsize=20)\n",
        "plt.xlabel(\"花萼長度\",fontproperties=twfont1,fontsize=20)\n",
        "plt.ylabel(\"花萼寬度\",fontproperties=twfont1,fontsize=20)\n",
        "plt.scatter(#?加程式碼\n",
        "            c=\"b\",s=40,label=\"山鳶尾(setosa)\")\n",
        "plt.scatter(#?加程式碼\n",
        "            c=\"r\",s=40,label=\"雜色鳶尾(versicolor)\")\n",
        "plt.scatter(#?加程式碼\n",
        "            c=[\"b\" if i==1 else \"r\" for i in valid_y ], s=40)\n",
        "plt.plot(#?加程式碼\n",
        "         linestyle='dashed',label=\"決策邊界\")\n",
        "plt.legend(prop=twfont1)"
      ],
      "execution_count": null,
      "outputs": []
    },
    {
      "cell_type": "markdown",
      "metadata": {
        "id": "T_ZMaB1_QfIa"
      },
      "source": [
        "### (b14)計算對驗證集資料的分類準確度"
      ]
    },
    {
      "cell_type": "code",
      "metadata": {
        "id": "DeVdNF5DQfIa",
        "colab": {
          "base_uri": "https://localhost:8080/"
        },
        "outputId": "ee5e9550-c470-4fa8-c50a-ca2f3d7482dd"
      },
      "source": [
        "Right=0\n",
        "for x1,x2,y in #?加程式碼:\n",
        "    X=#?加程式碼\n",
        "    z=#?加程式碼\n",
        "    y_hat=#?加程式碼\n",
        "    if #?加程式碼\n",
        "        Right+=1\n",
        "print(\"分類準確度:\",(#?加程式碼,\"%\")\n"
      ],
      "execution_count": null,
      "outputs": [
        {
          "output_type": "stream",
          "name": "stdout",
          "text": [
            "分類準確度: 96.42857142857143 %\n"
          ]
        }
      ]
    },
    {
      "cell_type": "code",
      "metadata": {
        "id": "tAwDNVH38Io7"
      },
      "source": [
        "import time\n",
        "time.sleep(3)\n",
        "#執行 Run All 會在這暫停3秒"
      ],
      "execution_count": null,
      "outputs": []
    },
    {
      "cell_type": "markdown",
      "metadata": {
        "id": "7HBUr-ZMQfIR"
      },
      "source": [
        "### (b12)動畫顯示決策邊界學習效果"
      ]
    },
    {
      "cell_type": "code",
      "metadata": {
        "id": "gJMF-qdZQfIT"
      },
      "source": [
        "x1 = np.linspace(-2, 2, 100)\n",
        "for #?加程式碼\n",
        "    print(\"偏值:\",Step_B[i][0],\"權重w1:\",Step_W[i][0],\n",
        "          \"權重w2:\",Step_W[i][1])\n",
        "    plt.figure(figsize=(9,5))\n",
        "    plt.title(\"鳶尾花品種分佈圖\",\n",
        "              fontproperties=twfont1,fontsize=20)\n",
        "    plt.xlabel(\"花萼長度\",fontproperties=twfont1,fontsize=20)\n",
        "    plt.ylabel(\"花萼寬度\",fontproperties=twfont1,fontsize=20)\n",
        "    plt.scatter(#?加程式碼\n",
        "                c=\"b\",s=40,label=\"山鳶尾(setosa)\")\n",
        "    plt.scatter(train_x1[0],train_x2[0],\n",
        "                c=\"r\",s=40,label=\"雜色鳶尾(versicolor)\")\n",
        "    plt.scatter(train_x1,train_x2,\n",
        "                c=#?加程式碼)\n",
        "    plt.plot(x1,#?加程式碼,\n",
        "             linestyle='dashed',label=\"決策邊界\")\n",
        "    plt.legend(prop=twfont1)\n",
        "    plt.pause(2)\n",
        "    clear_output(wait=True)"
      ],
      "execution_count": null,
      "outputs": []
    },
    {
      "cell_type": "code",
      "metadata": {
        "id": "Yly5_2KaCd7g"
      },
      "source": [
        "plt.figure(figsize=(12,6))\n",
        "plt.title('Iris: Petal花瓣、Sepal萼片',\n",
        "          fontproperties=twfont1,fontsize=22)\n",
        "plt.xlabel(\"Length Cm\", fontproperties=twfont1,fontsize=22)\n",
        "plt.ylabel(\"Width Cm\", fontproperties=twfont1,fontsize=22)\n",
        "plt.scatter(#?加程式碼\n",
        "            marker=\"x\",color='r',label=\"Petal\")\n",
        "plt.scatter(#?加程式碼\n",
        "            marker=\"o\",color='b',label=\"Sepal\")\n",
        "plt.xticks(np.arange(1,8.5,0.5),rotation=45,fontsize=16)\n",
        "plt.yticks(np.arange(0,4.6,0.2),rotation=15,fontsize=14)\n",
        "plt.grid('k-', alpha=0.8)\n",
        "plt.legend([\"Petal\",\"Sepal\"],\n",
        "           fontsize=22,loc =\"upper left\")\n",
        "plt.show()\n",
        "plt.savefig('Iris Petal花瓣、Sepal萼片.jpg')\n",
        "plt.savefig('/content/drive/MyDrive/Colab Notebooks/Iris Petal花瓣、Sepal萼片.jpg')"
      ],
      "execution_count": null,
      "outputs": []
    },
    {
      "cell_type": "code",
      "metadata": {
        "id": "rBIl_b6TYBdj"
      },
      "source": [
        "plt.figure(figsize=(14,8))\n",
        "plt.title('Iris: Petal花瓣',\n",
        "          fontproperties=twfont1,fontsize=22)\n",
        "plt.xlabel(\"Length Cm\", fontproperties=twfont1,fontsize=22)\n",
        "plt.ylabel(\"Width Cm\", fontproperties=twfont1,fontsize=22)\n",
        "plt.scatter(#?加程式碼\n",
        "            #?加程式碼\n",
        "            marker=\"o\",color='r')\n",
        "plt.scatter(df.loc['Iris-versicolor','PetalLengthCm'],\n",
        "            df.loc['Iris-versicolor','PetalWidthCm'],\n",
        "            marker=\"^\",color='c')\n",
        "plt.scatter(df.loc['Iris-virginica','PetalLengthCm'],\n",
        "            df.loc['Iris-virginica','PetalWidthCm'],\n",
        "            marker=\"x\",color='m')\n",
        "plt.xticks(np.arange(df['PetalLengthCm'].min(),\n",
        "                     df['PetalLengthCm'].max()+0.5,0.5),\n",
        "           rotation=15,fontsize=16)\n",
        "plt.yticks(np.arange(df['PetalWidthCm'].min(),\n",
        "                     df['PetalWidthCm'].#?加程式碼),\n",
        "           rotation=15,fontsize=14)\n",
        "plt.grid('k-', alpha=0.8)\n",
        "plt.legend([\"Iris-setosa\",'Iris-versicolor',\"Iris-virginica\"],\n",
        "           fontsize=22,loc =\"upper right\")\n",
        "plt.show()\n",
        "plt.savefig('Iris改正 Petal花瓣.jpg')\n",
        "plt.savefig('/content/drive/MyDrive/Colab Notebooks/Iris改正 Petal花瓣.jpg')"
      ],
      "execution_count": null,
      "outputs": []
    },
    {
      "cell_type": "code",
      "metadata": {
        "id": "VKeLRHKTxVhq"
      },
      "source": [
        "plt.figure(figsize=(14,8))\n",
        "plt.title('Iris: Sepal 萼片',\n",
        "          fontproperties=twfont1,fontsize=22)\n",
        "plt.xlabel(\"Length Cm\", fontproperties=twfont1,fontsize=22)\n",
        "plt.ylabel(\"Width Cm\", fontproperties=twfont1,fontsize=22)\n",
        "plt.scatter(#?加程式碼\n",
        "            df.loc['Iris-setosa','SepalWidthCm'],\n",
        "            marker=\"o\",color='r')\n",
        "plt.scatter(df.loc['Iris-versicolor','SepalLengthCm'],\n",
        "            df.loc['Iris-versicolor','SepalWidthCm'],\n",
        "            marker=\"D\",color='c')\n",
        "plt.scatter(df.loc['Iris-virginica','SepalLengthCm'],\n",
        "            #?加程式碼\n",
        "            marker=\"x\",color='m')\n",
        "\n",
        "plt.xticks(np.arange(df['SepalLengthCm'].#?加程式碼\n",
        "                     df['SepalLengthCm'].max()+0.5,0.5),\n",
        "           rotation=15,fontsize=16)\n",
        "plt.yticks(np.arange(df['SepalWidthCm'].min(),\n",
        "                     df['SepalWidthCm'].max()+0.2,0.2),\n",
        "           rotation=15,fontsize=14)\n",
        "plt.grid('k-', alpha=0.8)\n",
        "plt.legend([\"Iris-setosa\",'Iris-versicolor',\"Iris-virginica\"],\n",
        "           fontsize=22,loc =\"upper left\")\n",
        "plt.show()\n",
        "plt.savefig('Iris改正 Sepal萼片.jpg')\n",
        "plt.savefig('/content/drive/MyDrive/Colab Notebooks/Iris改正 Sepal萼片.jpg')"
      ],
      "execution_count": null,
      "outputs": []
    }
  ]
}