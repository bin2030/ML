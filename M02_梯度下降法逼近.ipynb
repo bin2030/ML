{
  "nbformat": 4,
  "nbformat_minor": 0,
  "metadata": {
    "kernelspec": {
      "display_name": "Python 3",
      "language": "python",
      "name": "python3"
    },
    "language_info": {
      "codemirror_mode": {
        "name": "ipython",
        "version": 3
      },
      "file_extension": ".py",
      "mimetype": "text/x-python",
      "name": "python",
      "nbconvert_exporter": "python",
      "pygments_lexer": "ipython3",
      "version": "3.6.9"
    },
    "colab": {
      "provenance": []
    }
  },
  "cells": [
    {
      "cell_type": "markdown",
      "metadata": {
        "id": "lEOn8uiKi_1U"
      },
      "source": [
        "# 實作02：利用梯度下降法逼近多項式函數最小值"
      ]
    },
    {
      "cell_type": "markdown",
      "metadata": {
        "id": "bV3mbcT7jBpE"
      },
      "source": [
        "### (0)掛載雲端硬碟"
      ]
    },
    {
      "cell_type": "code",
      "metadata": {
        "id": "UUuh_3LCjOWX",
        "colab": {
          "base_uri": "https://localhost:8080/"
        },
        "outputId": "97acb7c2-9dce-47fd-e90d-e767d9d24f2d"
      },
      "source": [
        "from google.colab import drive\n",
        "drive.mount('/content/drive')"
      ],
      "execution_count": null,
      "outputs": [
        {
          "output_type": "stream",
          "name": "stdout",
          "text": [
            "Drive already mounted at /content/drive; to attempt to forcibly remount, call drive.mount(\"/content/drive\", force_remount=True).\n"
          ]
        }
      ]
    },
    {
      "cell_type": "markdown",
      "metadata": {
        "id": "XK15rXCJi_1W"
      },
      "source": [
        "### (1)import必要的套件"
      ]
    },
    {
      "cell_type": "code",
      "metadata": {
        "id": "q5UQvol4i_1Y"
      },
      "source": [
        "import numpy as np\n",
        "import matplotlib.pyplot as plt\n",
        "import matplotlib.font_manager as plt_font\n",
        "#?加程式碼\n",
        "#動態顯示套件\n",
        "#?加程式碼"
      ],
      "execution_count": null,
      "outputs": []
    },
    {
      "cell_type": "markdown",
      "metadata": {
        "id": "Z0Lw6MRii_1d"
      },
      "source": [
        "### (2)定義多項式函數f(x)=x<sup>4</sup>-38x<sup>2</sup>-48x+24"
      ]
    },
    {
      "cell_type": "code",
      "metadata": {
        "id": "7547fM-Vi_1e"
      },
      "source": [
        "#?加程式碼"
      ],
      "execution_count": null,
      "outputs": []
    },
    {
      "cell_type": "markdown",
      "metadata": {
        "id": "S82FyEeVi_1i"
      },
      "source": [
        "### (3)定義原函數的導函數f'(x)=4x<sup>3</sup>-76x-48"
      ]
    },
    {
      "cell_type": "code",
      "metadata": {
        "id": "_DANlOdAi_1k"
      },
      "source": [
        "#?加程式碼"
      ],
      "execution_count": null,
      "outputs": []
    },
    {
      "cell_type": "markdown",
      "metadata": {
        "id": "LehbAEOFi_12"
      },
      "source": [
        "### 進行下列實驗操作：\n",
        "#### (1)逐漸增加學習率ETA的值，觀察梯度下降法尋找最小值會有什麼變化？\n",
        "#### (2)逐漸減少學習率ETA的值，觀察梯度下降法尋找最小值會有什麼變化？\n",
        "#### (3)修改梯度下降x座標的起點x_point=-6，觀察梯度下降法尋找最小值會有什麼變化？"
      ]
    },
    {
      "cell_type": "markdown",
      "metadata": {
        "id": "SML5hrBei_1p"
      },
      "source": [
        "### (4)利用梯度下降找函數的極小值"
      ]
    },
    {
      "cell_type": "code",
      "metadata": {
        "id": "hi0s01WVi_1u"
      },
      "source": [
        "#設定step_x、step_y用來儲存梯度下降每一步的座標\n",
        "step_x=[]  #list 列表資料\n",
        "step_y=[]  #list 列表資料\n",
        "#設定學習率，可以調大或調小，觀察梯度下降情況\n",
        "#學習率若設太大,0.01會震盪,若收斂有解但浪費時間,(若發散無解)\n",
        "#學習率若設太小,0.001,接近谷底後,原地踏步。\n",
        "#?加程式碼"
      ],
      "execution_count": null,
      "outputs": []
    },
    {
      "cell_type": "code",
      "source": [
        "#設定梯度下降的起點，可以改變不同位置，觀察梯度下降情況\n",
        "for i in range(30):\n",
        "    #?加程式碼"
      ],
      "metadata": {
        "id": "i9ztHIwQChLQ"
      },
      "execution_count": null,
      "outputs": []
    },
    {
      "cell_type": "code",
      "source": [
        "#設定梯度下降的起點，可以改變不同位置，觀察梯度下降情況\n",
        "#?加程式碼"
      ],
      "metadata": {
        "id": "ERRRLkPpChLV"
      },
      "execution_count": null,
      "outputs": []
    },
    {
      "cell_type": "code",
      "metadata": {
        "id": "Aosq9RpNui2s"
      },
      "source": [
        "#開始梯度下降 ,固定跑100次,可自行加入斜率<0.001 的條件跳出\n",
        "#可以用while廻圈改寫程式,作業。\n",
        "#可以跳過執行,改用while廻圈執行。\n",
        "for i in range(100):\n",
        "  #?加程式碼\n",
        "  #?加程式碼\n",
        "  #利用梯度下降更新下一個x_point\n",
        "  #?加程式碼"
      ],
      "execution_count": null,
      "outputs": []
    },
    {
      "cell_type": "markdown",
      "metadata": {
        "id": "p6Eft2rwOui1"
      },
      "source": [
        "###上面的 for 迴圈 或 下面的 while 迴圈 可只選一種執行"
      ]
    },
    {
      "cell_type": "code",
      "metadata": {
        "id": "zVV8KMQ5tGWA"
      },
      "source": [
        "#可以選for廻圈 或 while廻圈, 其中一種執行。\n",
        "while #?加程式碼\n",
        "  #?加程式碼\n",
        "  #?加程式碼\n",
        "  #利用梯度下降更新下一個x_point\n",
        "  #?加程式碼"
      ],
      "execution_count": null,
      "outputs": []
    },
    {
      "cell_type": "code",
      "metadata": {
        "id": "i6lfD72UioGP"
      },
      "source": [
        "time.#?加程式碼\n",
        "#執行 Run All 會在這暫停3秒"
      ],
      "execution_count": null,
      "outputs": []
    },
    {
      "cell_type": "markdown",
      "metadata": {
        "id": "pxNxJ6_4i_1y"
      },
      "source": [
        "### (5)用動畫一步一步展示梯度下降的更新情況"
      ]
    },
    {
      "cell_type": "code",
      "metadata": {
        "id": "Guigxe7Si_1y"
      },
      "source": [
        "for i in range(20):\n",
        "  plt.figure(figsize=(16,4))\n",
        "  plt.title(\"動畫顯示梯度下降的移動路徑\",\n",
        "            fontproperties=twfont1,fontsize=20)\n",
        "  #?加程式碼\n",
        "  #?加程式碼\n",
        "  #畫出梯度下降的修正路徑點\n",
        "  #?加程式碼\n",
        "  #暫停0.5秒\n",
        "  plt.pause(0.5)\n",
        "  #清除目前的顯示\n",
        "  display.clear_output(wait=True)"
      ],
      "execution_count": null,
      "outputs": []
    },
    {
      "cell_type": "code",
      "metadata": {
        "id": "tAwDNVH38Io7"
      },
      "source": [
        "time.sleep(3)\n",
        "#執行 Run All 會在這暫停3秒"
      ],
      "execution_count": null,
      "outputs": []
    },
    {
      "cell_type": "code",
      "metadata": {
        "id": "Of9vweNyj4TO"
      },
      "source": [
        "for #?加程式碼\n",
        "  plt.figure(figsize=(16,4))\n",
        "  plt.title(\"動畫顯示梯度下降的移動路徑\",\n",
        "            fontproperties=twfont1,fontsize=20)\n",
        "  #?加程式碼\n",
        "  #?加程式碼\n",
        "  #畫出梯度下降的修正路徑點\n",
        "  #?加程式碼\n",
        "  #暫停0.5秒\n",
        "  plt.pause(0.5)\n",
        "  #清除目前的顯示\n",
        "  display.clear_output(wait=True)"
      ],
      "execution_count": null,
      "outputs": []
    },
    {
      "cell_type": "code",
      "metadata": {
        "id": "jVSgRO_-vjEZ"
      },
      "source": [
        "step_x#?加程式碼"
      ],
      "execution_count": null,
      "outputs": []
    },
    {
      "cell_type": "code",
      "source": [
        "step_y#?加程式碼"
      ],
      "metadata": {
        "id": "1Kp5zT3I7F74"
      },
      "execution_count": null,
      "outputs": []
    },
    {
      "cell_type": "code",
      "source": [
        "#以下程式複製上面的指令"
      ],
      "metadata": {
        "id": "_Fuc2ya7-pRW"
      },
      "execution_count": null,
      "outputs": []
    },
    {
      "cell_type": "code",
      "metadata": {
        "id": "OzPXf3MJ-psv"
      },
      "source": [
        "#設定step_x、step_y用來儲存梯度下降每一步的座標\n",
        "step_x=[]  #list 列表資料\n",
        "step_y=[]  #list 列表資料\n",
        "#設定學習率，可以調大或調小，觀察梯度下降情況\n",
        "#學習率若設太大,0.01會震盪,若收斂有解但浪費時間,(若發散無解)\n",
        "#學習率若設太小,0.001,接近谷底後,原地踏步。\n",
        "#?加程式碼"
      ],
      "execution_count": null,
      "outputs": []
    },
    {
      "cell_type": "code",
      "source": [
        "#設定梯度下降的起點，可以改變不同位置，觀察梯度下降情況\n",
        "for i in range(30):\n",
        "    x_point= #?加程式碼\n",
        "    print#?加程式碼"
      ],
      "metadata": {
        "id": "V7XCHHtN_imI"
      },
      "execution_count": null,
      "outputs": []
    },
    {
      "cell_type": "code",
      "source": [
        "#?加程式碼"
      ],
      "metadata": {
        "id": "FAg6n0xpBmoE"
      },
      "execution_count": null,
      "outputs": []
    },
    {
      "cell_type": "code",
      "metadata": {
        "id": "rRiHVhVk-psw"
      },
      "source": [
        "#開始梯度下降 ,固定跑100次,可自行加入斜率<0.001 的條件跳出\n",
        "#可以用while廻圈改寫程式,作業。\n",
        "#可以跳過執行,改用while廻圈執行。\n",
        "for i in range(100):\n",
        "  #?加程式碼\n",
        "  #?加程式碼\n",
        "  #利用梯度下降更新下一個x_point\n",
        "  #?加程式碼"
      ],
      "execution_count": null,
      "outputs": []
    },
    {
      "cell_type": "markdown",
      "metadata": {
        "id": "LutyaJbN-psw"
      },
      "source": [
        "###上面的 for 迴圈 或 下面的 while 迴圈 可只選一種執行"
      ]
    },
    {
      "cell_type": "code",
      "metadata": {
        "id": "q0JX_J6c-psw"
      },
      "source": [
        "#可以選for廻圈 或 while廻圈, 其中一種執行。\n",
        "while #?加程式碼\n",
        "  #?加程式碼\n",
        "  #?加程式碼\n",
        "  #利用梯度下降更新下一個x_point\n",
        "  #?加程式碼"
      ],
      "execution_count": null,
      "outputs": []
    },
    {
      "cell_type": "code",
      "source": [
        "print#?加程式碼"
      ],
      "metadata": {
        "id": "za7mcYZ4LzPG"
      },
      "execution_count": null,
      "outputs": []
    },
    {
      "cell_type": "code",
      "metadata": {
        "id": "VHoN91vJ-psw"
      },
      "source": [
        "time.sleep(5)\n",
        "#執行 Run All 會在這暫停5秒"
      ],
      "execution_count": null,
      "outputs": []
    },
    {
      "cell_type": "markdown",
      "metadata": {
        "id": "a5ducRBT-psw"
      },
      "source": [
        "### (5)用動畫一步一步展示梯度下降的更新情況"
      ]
    },
    {
      "cell_type": "code",
      "metadata": {
        "id": "PkfZdnKo-psw"
      },
      "source": [
        "for i in range(3,len(step_x)):\n",
        "  plt.figure(figsize=(12,4))\n",
        "  plt.title(\"動畫顯示梯度下降的移動路徑\",\n",
        "            fontproperties=twfont1,fontsize=20)\n",
        "  #?加程式碼\n",
        "  #?加程式碼\n",
        "  #畫出梯度下降的修正路徑點\n",
        "  #?加程式碼\n",
        "  #暫停0.5秒\n",
        "  plt.pause(0.5)\n",
        "  #清除目前的顯示\n",
        "  display.clear_output(wait=True)"
      ],
      "execution_count": null,
      "outputs": []
    }
  ]
}