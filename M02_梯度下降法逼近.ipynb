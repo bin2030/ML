{
  "nbformat": 4,
  "nbformat_minor": 0,
  "metadata": {
    "kernelspec": {
      "display_name": "Python 3",
      "language": "python",
      "name": "python3"
    },
    "language_info": {
      "codemirror_mode": {
        "name": "ipython",
        "version": 3
      },
      "file_extension": ".py",
      "mimetype": "text/x-python",
      "name": "python",
      "nbconvert_exporter": "python",
      "pygments_lexer": "ipython3",
      "version": "3.6.9"
    },
    "colab": {
      "provenance": []
    }
  },
  "cells": [
    {
      "cell_type": "markdown",
      "metadata": {
        "id": "lEOn8uiKi_1U"
      },
      "source": [
        "# 實作02：利用梯度下降法逼近多項式函數最小值"
      ]
    },
    {
      "cell_type": "markdown",
      "metadata": {
        "id": "bV3mbcT7jBpE"
      },
      "source": [
        "### (0)掛載雲端硬碟"
      ]
    },
    {
      "cell_type": "code",
      "metadata": {
        "id": "UUuh_3LCjOWX",
        "colab": {
          "base_uri": "https://localhost:8080/"
        },
        "outputId": "f917b24e-bec9-4762-9880-10804fc8f878"
      },
      "source": [
        "#?加程式碼"
      ],
      "execution_count": null,
      "outputs": [
        {
          "output_type": "stream",
          "name": "stdout",
          "text": [
            "Mounted at /content/drive\n"
          ]
        }
      ]
    },
    {
      "cell_type": "markdown",
      "metadata": {
        "id": "XK15rXCJi_1W"
      },
      "source": [
        "### (1)import必要的套件"
      ]
    },
    {
      "cell_type": "code",
      "metadata": {
        "id": "q5UQvol4i_1Y"
      },
      "source": [
        "#?加程式碼\n",
        "#?加程式碼\n",
        "#?加程式碼\n",
        "#?加程式碼\n",
        "#動態顯示套件\n",
        "#?加程式碼"
      ],
      "execution_count": null,
      "outputs": []
    },
    {
      "cell_type": "markdown",
      "metadata": {
        "id": "Z0Lw6MRii_1d"
      },
      "source": [
        "### (2)定義多項式函數f(x)=x<sup>4</sup>-38x<sup>2</sup>-48x+24"
      ]
    },
    {
      "cell_type": "code",
      "metadata": {
        "id": "7547fM-Vi_1e"
      },
      "source": [
        "#?加程式碼"
      ],
      "execution_count": null,
      "outputs": []
    },
    {
      "cell_type": "markdown",
      "metadata": {
        "id": "S82FyEeVi_1i"
      },
      "source": [
        "### (3)定義原函數的導函數f'(x)=4x<sup>3</sup>-76x-48"
      ]
    },
    {
      "cell_type": "code",
      "metadata": {
        "id": "_DANlOdAi_1k"
      },
      "source": [
        "#?加程式碼"
      ],
      "execution_count": null,
      "outputs": []
    },
    {
      "cell_type": "markdown",
      "metadata": {
        "id": "SML5hrBei_1p"
      },
      "source": [
        "### (4)利用梯度下降找函數的極小值"
      ]
    },
    {
      "cell_type": "code",
      "metadata": {
        "id": "hi0s01WVi_1u"
      },
      "source": [
        "#設定step_x、step_y用來儲存梯度下降每一步的座標\n",
        "step_x=[]  #list 列表資料\n",
        "step_y=[]  #list 列表資料\n",
        "#設定學習率，可以調大或調小，觀察梯度下降情況\n",
        "#學習率若設太大,0.01會震盪,若收斂有解但浪費時間,(若發散無解)\n",
        "#學習率若設太小,0.001,接近谷底後,原地踏步。\n",
        "#?加程式碼\n",
        "#設定梯度下降的起點，可以改變不同位置，觀察梯度下降情況\n",
        "x_point=6\n"
      ],
      "execution_count": null,
      "outputs": []
    },
    {
      "cell_type": "code",
      "metadata": {
        "id": "Aosq9RpNui2s"
      },
      "source": [
        "#開始梯度下降 ,固定跑100次,可自行加入斜率<0.001 的條件跳出\n",
        "#可以用while廻圈改寫程式,作業。\n",
        "#可以跳過執行,改用while廻圈執行。\n",
        "'''\n",
        "for i in range(100):\n",
        "  step_x.append(x_point)\n",
        "  step_y.append(F(x_point))\n",
        "  #利用梯度下降更新下一個x_point\n",
        "  x_point=x_point-ETA*F1(x_point)\n",
        "'''"
      ],
      "execution_count": null,
      "outputs": []
    },
    {
      "cell_type": "markdown",
      "metadata": {
        "id": "p6Eft2rwOui1"
      },
      "source": [
        "###上面的 for 迴圈 或 下面的 while 迴圈 可只選一種執行"
      ]
    },
    {
      "cell_type": "code",
      "metadata": {
        "id": "zVV8KMQ5tGWA"
      },
      "source": [
        "#可以選for廻圈 或 while廻圈, 其中一種執行。\n",
        "while abs(#?加程式碼) >= 0.001:\n",
        "  step_x.#?加程式碼\n",
        "  step_y.#?加程式碼\n",
        "  #利用梯度下降更新下一個x_point\n",
        "  x_point = #?加程式碼"
      ],
      "execution_count": null,
      "outputs": []
    },
    {
      "cell_type": "code",
      "metadata": {
        "colab": {
          "base_uri": "https://localhost:8080/"
        },
        "id": "jVSgRO_-vjEZ",
        "outputId": "09fa9434-0b37-4fe0-a140-d9b1e51eb164"
      },
      "source": [
        "step_x"
      ],
      "execution_count": null,
      "outputs": [
        {
          "output_type": "execute_result",
          "data": {
            "text/plain": [
              "[6,\n",
              " 3.12,\n",
              " 4.429077504,\n",
              " 4.72566841415236,\n",
              " 4.605807521972987,\n",
              " 4.663574427248865,\n",
              " 4.637340089939159,\n",
              " 4.649622318448251,\n",
              " 4.643948600648377,\n",
              " 4.64658626273649,\n",
              " 4.645363608847435,\n",
              " 4.6459311256455145,\n",
              " 4.645667868342005,\n",
              " 4.6457900227544275,\n",
              " 4.645733349391428,\n",
              " 4.645759644571321,\n",
              " 4.645747444548972,\n",
              " 4.645753104999389,\n",
              " 4.645750478733912,\n",
              " 4.645751697239501,\n",
              " 4.6457511318915286,\n",
              " 4.6457513941952335,\n",
              " 4.6457512724945875,\n",
              " 4.645751328959856,\n",
              " 4.6457513027617505,\n",
              " 4.645751314916847,\n",
              " 4.645751309277265,\n",
              " 4.645751311893854,\n",
              " 4.645751310679838,\n",
              " 4.645751311243104,\n",
              " 4.645751310981766,\n",
              " 4.645751311103019,\n",
              " 4.6457513110467605,\n",
              " 4.645751311072863,\n",
              " 4.645751311060752,\n",
              " 4.6457513110663715,\n",
              " 4.645751311063765,\n",
              " 4.6457513110649735,\n",
              " 4.645751311064413,\n",
              " 4.645751311064672,\n",
              " 4.6457513110645525,\n",
              " 4.6457513110646085,\n",
              " 4.645751311064583,\n",
              " 4.645751311064594,\n",
              " 4.645751311064589,\n",
              " 4.645751311064592,\n",
              " 4.64575131106459,\n",
              " 4.645751311064592,\n",
              " 4.64575131106459,\n",
              " 4.645751311064592,\n",
              " 4.64575131106459,\n",
              " 4.645751311064592,\n",
              " 4.64575131106459,\n",
              " 4.645751311064592,\n",
              " 4.64575131106459,\n",
              " 4.645751311064592,\n",
              " 4.64575131106459,\n",
              " 4.645751311064592,\n",
              " 4.64575131106459,\n",
              " 4.645751311064592,\n",
              " 4.64575131106459,\n",
              " 4.645751311064592,\n",
              " 4.64575131106459,\n",
              " 4.645751311064592,\n",
              " 4.64575131106459,\n",
              " 4.645751311064592,\n",
              " 4.64575131106459,\n",
              " 4.645751311064592,\n",
              " 4.64575131106459,\n",
              " 4.645751311064592,\n",
              " 4.64575131106459,\n",
              " 4.645751311064592,\n",
              " 4.64575131106459,\n",
              " 4.645751311064592,\n",
              " 4.64575131106459,\n",
              " 4.645751311064592,\n",
              " 4.64575131106459,\n",
              " 4.645751311064592,\n",
              " 4.64575131106459,\n",
              " 4.645751311064592,\n",
              " 4.64575131106459,\n",
              " 4.645751311064592,\n",
              " 4.64575131106459,\n",
              " 4.645751311064592,\n",
              " 4.64575131106459,\n",
              " 4.645751311064592,\n",
              " 4.64575131106459,\n",
              " 4.645751311064592,\n",
              " 4.64575131106459,\n",
              " 4.645751311064592,\n",
              " 4.64575131106459,\n",
              " 4.645751311064592,\n",
              " 4.64575131106459,\n",
              " 4.645751311064592,\n",
              " 4.64575131106459,\n",
              " 4.645751311064592,\n",
              " 4.64575131106459,\n",
              " 4.645751311064592,\n",
              " 4.64575131106459,\n",
              " 4.645751311064592]"
            ]
          },
          "metadata": {},
          "execution_count": 9
        }
      ]
    },
    {
      "cell_type": "code",
      "metadata": {
        "colab": {
          "base_uri": "https://localhost:8080/",
          "height": 132
        },
        "id": "i6lfD72UioGP",
        "outputId": "b2af3d09-ae97-4475-db60-0aff9b965dc4"
      },
      "source": [
        "I stop run (執行 Run All 會在這停止,錯誤指令)\n",
        "#從下一格繼續執行 RUN"
      ],
      "execution_count": null,
      "outputs": [
        {
          "output_type": "error",
          "ename": "SyntaxError",
          "evalue": "ignored",
          "traceback": [
            "\u001b[0;36m  File \u001b[0;32m\"<ipython-input-6-a74b44259185>\"\u001b[0;36m, line \u001b[0;32m1\u001b[0m\n\u001b[0;31m    I stop run (執行 Run All 會在這停止,錯誤指令)\u001b[0m\n\u001b[0m         ^\u001b[0m\n\u001b[0;31mSyntaxError\u001b[0m\u001b[0;31m:\u001b[0m invalid syntax\n"
          ]
        }
      ]
    },
    {
      "cell_type": "markdown",
      "metadata": {
        "id": "pxNxJ6_4i_1y"
      },
      "source": [
        "### (5)用動畫一步一步展示梯度下降的更新情況"
      ]
    },
    {
      "cell_type": "code",
      "metadata": {
        "id": "Guigxe7Si_1y",
        "colab": {
          "base_uri": "https://localhost:8080/",
          "height": 395
        },
        "outputId": "9ca0706f-c2a2-4e7e-8cb3-42c068d584e9"
      },
      "source": [
        "for i in range(#?加程式碼):\n",
        "  plt.figure(figsize=(12,6))\n",
        "  plt.title(\"動畫顯示梯度下降的移動路徑\",\n",
        "            fontproperties=twfont1,fontsize=20)\n",
        "  x = #?加程式碼\n",
        "  #?加程式碼\n",
        "  #畫出梯度下降的修正路徑點\n",
        "  #?加程式碼\n",
        "  #暫停1秒\n",
        "  plt.pause(0.02)\n",
        "  #清除目前的顯示\n",
        "  display.clear_output(wait=True)"
      ],
      "execution_count": null,
      "outputs": [
        {
          "output_type": "display_data",
          "data": {
            "image/png": "[encoded data removed]",
            "text/plain": [
              "<Figure size 864x432 with 1 Axes>"
            ]
          },
          "metadata": {
            "needs_background": "light"
          }
        }
      ]
    },
    {
      "cell_type": "code",
      "metadata": {
        "id": "Of9vweNyj4TO",
        "colab": {
          "base_uri": "https://localhost:8080/",
          "height": 612
        },
        "outputId": "a195a256-201b-4f99-de22-189e1c29cfe4"
      },
      "source": [
        "for i in range(#?加程式碼):\n",
        "  plt.figure(figsize=(22,10))\n",
        "  plt.title(\"動畫顯示梯度下降的移動路徑\",\n",
        "            fontproperties=twfont1,fontsize=20)\n",
        "  x = #?加程式碼\n",
        "  #?加程式碼\n",
        "  #畫出梯度下降的修正路徑點\n",
        "  #?加程式碼\n",
        "  #暫停1秒\n",
        "  plt.pause(0.02)\n",
        "  #清除目前的顯示\n",
        "  display.clear_output(wait=True)"
      ],
      "execution_count": null,
      "outputs": [
        {
          "output_type": "display_data",
          "data": {
            "image/png": "[encoded data removed]",
            "text/plain": [
              "<Figure size 1584x720 with 1 Axes>"
            ]
          },
          "metadata": {
            "needs_background": "light"
          }
        }
      ]
    },
    {
      "cell_type": "markdown",
      "metadata": {
        "id": "LehbAEOFi_12"
      },
      "source": [
        "### 進行下列實驗操作：\n",
        "#### (1)逐漸增加學習率ETA的值，觀察梯度下降法尋找最小值會有什麼變化？\n",
        "#### (2)逐漸減少學習率ETA的值，觀察梯度下降法尋找最小值會有什麼變化？\n",
        "#### (3)修改梯度下降x座標的起點x_point=-6，觀察梯度下降法尋找最小值會有什麼變化？"
      ]
    }
  ]
}