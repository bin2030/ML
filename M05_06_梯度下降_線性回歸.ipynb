{
  "nbformat": 4,
  "nbformat_minor": 0,
  "metadata": {
    "kernelspec": {
      "display_name": "Python 3",
      "language": "python",
      "name": "python3"
    },
    "language_info": {
      "codemirror_mode": {
        "name": "ipython",
        "version": 3
      },
      "file_extension": ".py",
      "mimetype": "text/x-python",
      "name": "python",
      "nbconvert_exporter": "python",
      "pygments_lexer": "ipython3",
      "version": "3.6.9"
    },
    "colab": {
      "provenance": [],
      "toc_visible": true
    }
  },
  "cells": [
    {
      "cell_type": "markdown",
      "metadata": {
        "id": "uy536-KFmFmD"
      },
      "source": [
        "# 實作05：資料可視化分析"
      ]
    },
    {
      "cell_type": "markdown",
      "metadata": {
        "id": "MZahKO65mLPA"
      },
      "source": [
        "### (0)掛載雲端硬碟"
      ]
    },
    {
      "cell_type": "code",
      "metadata": {
        "id": "RbMvxfwqmUa5",
        "colab": {
          "base_uri": "https://localhost:8080/"
        },
        "outputId": "698321ec-8a95-4437-d81f-cf6fd022313a"
      },
      "source": [
        "from google.colab import drive\n",
        "drive.mount('/content/drive')"
      ],
      "execution_count": null,
      "outputs": [
        {
          "output_type": "stream",
          "name": "stdout",
          "text": [
            "Drive already mounted at /content/drive; to attempt to forcibly remount, call drive.mount(\"/content/drive\", force_remount=True).\n"
          ]
        }
      ]
    },
    {
      "cell_type": "markdown",
      "metadata": {
        "id": "zzeQe4X7mFmF"
      },
      "source": [
        "### (1)import必要的套件"
      ]
    },
    {
      "cell_type": "code",
      "metadata": {
        "id": "UHu1vIL1AWJM"
      },
      "source": [
        "# /content/drive/MyDrive/Colab Notebooks/kaiu.ttf"
      ],
      "execution_count": null,
      "outputs": []
    },
    {
      "cell_type": "code",
      "metadata": {
        "id": "spmwTL6mmFmF"
      },
      "source": [
        "import numpy as np\n",
        "import matplotlib.pyplot as plt\n",
        "import matplotlib.font_manager as plt_font\n",
        "twfont1 = plt_font.FontProperties(fname=\n",
        "        #?加程式碼)"
      ],
      "execution_count": null,
      "outputs": []
    },
    {
      "cell_type": "markdown",
      "metadata": {
        "id": "UnS-k98wmFmM"
      },
      "source": [
        "### (2)將資料放到numpy ndarray"
      ]
    },
    {
      "cell_type": "code",
      "metadata": {
        "id": "Zg_fdKJbmFmN"
      },
      "source": [
        "#利用np.loadtxt由SalesVolume.csv檔案載入資料集\n",
        "data=np.loadtxt(#?加程式碼,\n",
        "                #?加程式碼)\n",
        "#將第1列資料為廣告推播次數取出為data_x\n",
        "#?加程式碼\n",
        "#將第2列資料為商品銷售數量取出為data_y\n",
        "#?加程式碼"
      ],
      "execution_count": null,
      "outputs": []
    },
    {
      "cell_type": "code",
      "source": [
        "#?加程式碼"
      ],
      "metadata": {
        "id": "59dJ2IZ0jX77"
      },
      "execution_count": null,
      "outputs": []
    },
    {
      "cell_type": "code",
      "source": [
        "#?加程式碼"
      ],
      "metadata": {
        "id": "yK-wEVJTjafp"
      },
      "execution_count": null,
      "outputs": []
    },
    {
      "cell_type": "markdown",
      "metadata": {
        "id": "1g9l-ej7mFmS"
      },
      "source": [
        "### (3)畫出當天產品銷售數量和廣告推播次數的關係分佈圖"
      ]
    },
    {
      "cell_type": "code",
      "metadata": {
        "id": "yS3c4VipmFmT"
      },
      "source": [
        "plt.figure(figsize=(8,4))\n",
        "plt.title(\"產品銷售數量和廣告推播次數\",\n",
        "          fontproperties=twfont1,fontsize=20)\n",
        "plt.xlabel(\"廣告推播次數x\",fontproperties=twfont1,fontsize=20)\n",
        "plt.ylabel(\"產品銷售數量y\",fontproperties=twfont1,fontsize=20)\n",
        "#利用np.plot()畫出data_x和data_y的關係圖\n",
        "#?加程式碼\n",
        "plt.show()"
      ],
      "execution_count": null,
      "outputs": []
    },
    {
      "cell_type": "markdown",
      "metadata": {
        "id": "E8otLpX7mFmZ"
      },
      "source": [
        "### 根據圖形判斷其回歸模型是否有線性的趨勢或者非線性趨勢？\n",
        "###你要如何假設這個迴歸模型函數？(請寫在下方格內)"
      ]
    },
    {
      "cell_type": "markdown",
      "metadata": {
        "id": "rrSODzcdnEBu"
      },
      "source": [
        "# 實作06：利用梯度下降法求簡單線性回歸的係數\n",
        "##Pandas_shuffled"
      ]
    },
    {
      "cell_type": "code",
      "metadata": {
        "id": "1XSZ9bhZnEBy"
      },
      "source": [
        "#?加程式碼\n",
        "#?加程式碼"
      ],
      "execution_count": null,
      "outputs": []
    },
    {
      "cell_type": "markdown",
      "metadata": {
        "id": "TH2OaZ4EnEB6"
      },
      "source": [
        "### (b2)將原始資料分為訓練資料集和驗證資料集"
      ]
    },
    {
      "cell_type": "code",
      "metadata": {
        "id": "oQ8DdAWreigC"
      },
      "source": [
        "# \"/content/drive/MyDrive/Colab Notebooks/SalesVolume.csv\",delimiter=\",\""
      ],
      "execution_count": null,
      "outputs": []
    },
    {
      "cell_type": "code",
      "metadata": {
        "id": "KM8XgY1nnEB6"
      },
      "source": [
        "#由SalesVolume.csv檔案載入資料集\n",
        "data= np.loadtxt(#?加程式碼,\n",
        "                 #?加程式碼)\n"
      ],
      "execution_count": null,
      "outputs": []
    },
    {
      "cell_type": "code",
      "metadata": {
        "id": "jdKYNF7yC4zV"
      },
      "source": [
        "data"
      ],
      "execution_count": null,
      "outputs": []
    },
    {
      "cell_type": "code",
      "metadata": {
        "id": "PfxTxTagWdON"
      },
      "source": [
        "df0 = #?加程式碼\n",
        "df0"
      ],
      "execution_count": null,
      "outputs": []
    },
    {
      "cell_type": "markdown",
      "metadata": {
        "id": "12c3DFrhyykf"
      },
      "source": [
        "### b重新訓練若由此開始 Run After\n",
        "### 用不同順序的資料集,隨機取得訓練及驗證的資料"
      ]
    },
    {
      "cell_type": "code",
      "metadata": {
        "id": "gNzSe3gTY6qf"
      },
      "source": [
        "#DataFrame隨機排序 frac=1傳回全部的項目,\n",
        "#reset_index() 方法來重置 DataFrame 索引\n",
        "#drop=True 選項防止將 index 新增為新的行(column)。\n",
        "df = #?加程式碼\n",
        "df"
      ],
      "execution_count": null,
      "outputs": []
    },
    {
      "cell_type": "code",
      "metadata": {
        "id": "jhzqHHQHVfdK"
      },
      "source": [
        "#?加程式碼"
      ],
      "execution_count": null,
      "outputs": []
    },
    {
      "cell_type": "code",
      "metadata": {
        "id": "uVekABf0VGve"
      },
      "source": [
        "data"
      ],
      "execution_count": null,
      "outputs": []
    },
    {
      "cell_type": "code",
      "metadata": {
        "id": "eJqx_SquezaT"
      },
      "source": [
        "# data_x[:12]   # data_y[:12]\n",
        "# data_x[12:]   # data_y[12:]"
      ],
      "execution_count": null,
      "outputs": []
    },
    {
      "cell_type": "code",
      "metadata": {
        "id": "i4XiZ9kcVFQa"
      },
      "source": [
        "#?加程式碼#第1列為廣告推播次數\n",
        "#?加程式碼#第2列為商品銷售數量\n",
        "#訓練資料集12筆\n",
        "#?加程式碼\n",
        "#?加程式碼\n",
        "#驗證資料集8筆\n",
        "#?加程式碼\n",
        "#?加程式碼\n"
      ],
      "execution_count": null,
      "outputs": []
    },
    {
      "cell_type": "code",
      "metadata": {
        "id": "ynL1i8saWaOv"
      },
      "source": [
        "data_x"
      ],
      "execution_count": null,
      "outputs": []
    },
    {
      "cell_type": "code",
      "metadata": {
        "id": "i4j8N8f8VfZ9"
      },
      "source": [
        "#?加程式碼"
      ],
      "execution_count": null,
      "outputs": []
    },
    {
      "cell_type": "code",
      "metadata": {
        "id": "SdP5POqPVW6N"
      },
      "source": [
        "#?加程式碼"
      ],
      "execution_count": null,
      "outputs": []
    },
    {
      "cell_type": "markdown",
      "metadata": {
        "id": "oM6zP1sgnEB9"
      },
      "source": [
        "### (b3)隨機初始化偏值b，權重w\n",
        "### 重新訓練由此開始 Run After"
      ]
    },
    {
      "cell_type": "code",
      "metadata": {
        "id": "ttygdpd6fJzu"
      },
      "source": [
        "# np.random.rand()  # np.random.rand()"
      ],
      "execution_count": null,
      "outputs": []
    },
    {
      "cell_type": "code",
      "metadata": {
        "id": "v1-lobUpnEB-"
      },
      "source": [
        "#?加程式碼\n",
        "#?加程式碼\n",
        "print(\"b = \",b ,\" w = \",w)"
      ],
      "execution_count": null,
      "outputs": []
    },
    {
      "cell_type": "markdown",
      "metadata": {
        "id": "lSYW93sRnECB"
      },
      "source": [
        "## (b4)定義迴歸模型的線性函數"
      ]
    },
    {
      "cell_type": "code",
      "metadata": {
        "id": "fUoBxc9wfR0e"
      },
      "source": [
        "# b+w*x"
      ],
      "execution_count": null,
      "outputs": []
    },
    {
      "cell_type": "code",
      "metadata": {
        "id": "2c7hLg1GnECC"
      },
      "source": [
        "def F(x):\n",
        "  #?加程式碼\n",
        "#若 return 沒有設定數學公式,此格不會出錯,但是後面訓練時會出錯"
      ],
      "execution_count": null,
      "outputs": []
    },
    {
      "cell_type": "markdown",
      "metadata": {
        "id": "S8pIc51ZnECH"
      },
      "source": [
        "## (b5)定義損失函數LOSS Funcation"
      ]
    },
    {
      "cell_type": "code",
      "metadata": {
        "id": "xumlHVcOfWyx"
      },
      "source": [
        "# 0.5*np.sum((y-F(x))**2)"
      ],
      "execution_count": null,
      "outputs": []
    },
    {
      "cell_type": "code",
      "metadata": {
        "id": "mIkzgMN-nECI"
      },
      "source": [
        "def Loss(x,y):\n",
        "    #?加程式碼\n",
        "#若 return 沒有設定數學公式,此格不會出錯,但是後面訓練時會出錯"
      ],
      "execution_count": null,
      "outputs": []
    },
    {
      "cell_type": "markdown",
      "metadata": {
        "id": "zNLTzUj-nECL"
      },
      "source": [
        "## (b6)設定學習率和權重更新次數"
      ]
    },
    {
      "cell_type": "code",
      "metadata": {
        "id": "1HMaOZEdfa_J"
      },
      "source": [
        "# 0.0001"
      ],
      "execution_count": null,
      "outputs": []
    },
    {
      "cell_type": "code",
      "metadata": {
        "id": "0PnkheXInECL"
      },
      "source": [
        "#?加程式碼    #學習率\n",
        "#儲存學習的狀態\n",
        "Step_Loss=[]\n",
        "Step_b=[]\n",
        "Step_w=[]"
      ],
      "execution_count": null,
      "outputs": []
    },
    {
      "cell_type": "markdown",
      "metadata": {
        "id": "tZCTeD7pnECP"
      },
      "source": [
        "## (b7)開始訓練模型"
      ]
    },
    {
      "cell_type": "code",
      "metadata": {
        "id": "jzCickyCnECQ"
      },
      "source": [
        "# epoch 回合, ETA 學習率\n",
        "#若 F(x)、Loss(x,y)的 return 沒有設定數學公式,此格訓練時會出錯\n",
        "for epoch in range(20000):\n",
        "  b = #?加程式碼\n",
        "  w = #?加程式碼\n",
        "            #跑100次才印一次,epoch從0開始,故+1,印太多會降低效率\n",
        "  if epoch #?加程式碼:\n",
        "    current_loss=#?加程式碼\n",
        "    print(\"訓練次數:\",epoch+1,\"\\nb:\",b,\"\\nw:\",w,\n",
        "          \"\\n損失函數:\",current_loss)\n",
        "    #?加程式碼\n",
        "    Step_b.append(b)\n",
        "    Step_w.append(w)\n",
        "    #display.clear_output(wait=True)"
      ],
      "execution_count": null,
      "outputs": []
    },
    {
      "cell_type": "markdown",
      "metadata": {
        "id": "2jtZtAsenECY"
      },
      "source": [
        "### (b8)畫圖檢查模型訓練結果"
      ]
    },
    {
      "cell_type": "code",
      "metadata": {
        "id": "xhPRvig3nECY"
      },
      "source": [
        "plt.figure(figsize=(9,6))\n",
        "plt.title(\"訓練模型和數據關係圖\",\n",
        "          fontproperties=twfont1,fontsize=20)\n",
        "plt.xlabel(\"x資料\",fontproperties=twfont1,fontsize=20)\n",
        "plt.ylabel(\"y資料\",fontproperties=twfont1,fontsize=20)\n",
        "#?加程式碼\n",
        "plt.plot(#?加程式碼,label=\"模型函數\")\n",
        "plt.plot(#?加程式碼,label=\"訓練資料集\")\n",
        "plt.plot(#?加程式碼,label=\"驗證資料集\")\n",
        "plt.legend(prop=twfont1)\n",
        "plt.show()"
      ],
      "execution_count": null,
      "outputs": []
    },
    {
      "cell_type": "markdown",
      "metadata": {
        "id": "RA7-DrHlnECd"
      },
      "source": [
        "### (b9)觀察Loss值隨訓練次數的變化"
      ]
    },
    {
      "cell_type": "code",
      "metadata": {
        "id": "PPZW3f_i6Jtd"
      },
      "source": [
        "plt.figure(figsize=(10,6))\n",
        "plt.title(\"Loss隨訓練次數的變化\",fontproperties=twfont1,fontsize=20)\n",
        "plt.xlabel(\"訓練次數(x100)\",fontproperties=twfont1,fontsize=20)\n",
        "plt.ylabel(\"Loss值\",fontproperties=twfont1,fontsize=20)\n",
        "#?加程式碼\n",
        "plt.grid('k-', alpha=0.8)\n",
        "plt.show()"
      ],
      "execution_count": null,
      "outputs": []
    },
    {
      "cell_type": "markdown",
      "metadata": {
        "id": "I6ykzCdxnECk"
      },
      "source": [
        "### (b10)比較訓練好的迴歸模型函數在訓練資料集和驗證資料集的每筆平均Loss值"
      ]
    },
    {
      "cell_type": "code",
      "metadata": {
        "id": "AcXfDcIjnECl"
      },
      "source": [
        "print(\"訓練資料集對回歸模型的每筆平均Loss值\",\n",
        "      #?加程式碼\n",
        "print(\"驗證資料集對回歸模型的每筆平均Loss值\",\n",
        "      #?加程式碼"
      ],
      "execution_count": null,
      "outputs": []
    },
    {
      "cell_type": "code",
      "source": [
        "#?加程式碼"
      ],
      "metadata": {
        "id": "ocC5jM25bHdt"
      },
      "execution_count": null,
      "outputs": []
    },
    {
      "cell_type": "code",
      "metadata": {
        "id": "i6lfD72UioGP"
      },
      "source": [
        "time.sleep(3)\n",
        "#執行 Run All 會在這暫停3秒"
      ],
      "execution_count": null,
      "outputs": []
    },
    {
      "cell_type": "markdown",
      "metadata": {
        "id": "rGpc4gownECs"
      },
      "source": [
        "### (b11)動畫顯示偏值b和權重w的移動路徑"
      ]
    },
    {
      "cell_type": "code",
      "metadata": {
        "id": "AaUTQ6pFnECt"
      },
      "source": [
        "for i in range(0,len(Step_b),5):\n",
        "    plt.figure(figsize=(6,6))\n",
        "    plt.title(\"動畫顯示迴歸係數的移動路徑\",\n",
        "              fontproperties=twfont1,fontsize=20)\n",
        "    plt.xlabel(\"b\",fontproperties=twfont1,fontsize=20)\n",
        "    plt.ylabel(\"w\",fontproperties=twfont1,fontsize=20)\n",
        "    plt.xlim(np.min(np.array([Step_b,Step_w])),\n",
        "             np.max(np.array([Step_b,Step_w])))\n",
        "    plt.ylim(#?加程式碼\n",
        "             np.max(np.array([Step_b,Step_w])))\n",
        "    #?加程式碼\n",
        "    plt.pause(0.01)\n",
        "    display.clear_output(wait=True)"
      ],
      "execution_count": null,
      "outputs": []
    },
    {
      "cell_type": "code",
      "metadata": {
        "id": "SzLSzkYidmGb"
      },
      "source": [
        "time.sleep(3)\n",
        "#執行 Run All 會在這暫停3秒"
      ],
      "execution_count": null,
      "outputs": []
    },
    {
      "cell_type": "code",
      "metadata": {
        "id": "TnYiENBsNrfV"
      },
      "source": [
        "for i in range(0,len(Step_b),5):\n",
        "    plt.figure(figsize=(8,8))\n",
        "    plt.title(\"動畫顯示迴歸係數的移動路徑\",\n",
        "              fontproperties=twfont1,fontsize=20)\n",
        "    plt.xlabel(\"b\",fontproperties=twfont1,fontsize=20)\n",
        "    plt.ylabel(\"w\",fontproperties=twfont1,fontsize=20)\n",
        "    # X軸、Y軸刻度取array([Step_b,Step_w])的極值\n",
        "    plt.xlim(#?加程式碼\n",
        "             np.max(np.array(Step_b)))\n",
        "    plt.ylim(np.min(np.array(Step_w)),\n",
        "             np.max(np.array(Step_w)))\n",
        "    #?加程式碼\n",
        "    plt.grid('k-', alpha=0.8)\n",
        "    plt.pause(0.01)\n",
        "    display.clear_output(wait=True)"
      ],
      "execution_count": null,
      "outputs": []
    },
    {
      "cell_type": "markdown",
      "metadata": {
        "id": "h_bYnmyCH_Iu"
      },
      "source": [
        "### (b12)顯示迴歸係數在損失函數等高線分布圖的移動路徑"
      ]
    },
    {
      "cell_type": "code",
      "metadata": {
        "id": "w-Mc8VsK1Rwd"
      },
      "source": [
        "#取b和w的網格範圍\n",
        "b=np.linspace(0,300,200)\n",
        "w=np.linspace(-30,70,200)\n",
        "#計算每一個網格點對應的損失函數值\n",
        "L=np.zeros((200,200))\n",
        "for i in range(200):\n",
        "  for j in range(200):\n",
        "    L[j][i]=#?加程式碼\n",
        "#鋪設網格\n",
        "#?加程式碼\n",
        "# 開啟繪圖區域\n",
        "plt.figure(figsize=(8,8))\n",
        "#?加程式碼\n",
        "plt.clabel(CS,inline=1,fontsize=10)\n",
        "#?加程式碼\n",
        "plt.title('等高線圖',fontproperties=twfont1)\n",
        "plt.show()"
      ],
      "execution_count": null,
      "outputs": []
    }
  ]
}