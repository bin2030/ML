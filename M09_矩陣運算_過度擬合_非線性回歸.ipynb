{
  "nbformat": 4,
  "nbformat_minor": 0,
  "metadata": {
    "kernelspec": {
      "display_name": "Python 3",
      "language": "python",
      "name": "python3"
    },
    "language_info": {
      "codemirror_mode": {
        "name": "ipython",
        "version": 3
      },
      "file_extension": ".py",
      "mimetype": "text/x-python",
      "name": "python",
      "nbconvert_exporter": "python",
      "pygments_lexer": "ipython3",
      "version": "3.6.9"
    },
    "colab": {
      "provenance": []
    }
  },
  "cells": [
    {
      "cell_type": "markdown",
      "metadata": {
        "id": "e7TYvfSrsfCp"
      },
      "source": [
        "# 實作09：非線性回歸-利用矩陣運算\n",
        "##自變數x的3次方的非線性迴歸"
      ]
    },
    {
      "cell_type": "markdown",
      "metadata": {
        "id": "52kgrwu1shG3"
      },
      "source": [
        "### (0)掛載雲端硬碟"
      ]
    },
    {
      "cell_type": "code",
      "metadata": {
        "id": "LWaoHwrHsrYA",
        "colab": {
          "base_uri": "https://localhost:8080/"
        },
        "outputId": "a4b1965d-b8b4-4e9a-c525-98710c8661e5"
      },
      "source": [
        "from google.colab import drive\n",
        "drive.mount('/content/drive')"
      ],
      "execution_count": null,
      "outputs": [
        {
          "output_type": "stream",
          "name": "stdout",
          "text": [
            "Drive already mounted at /content/drive; to attempt to forcibly remount, call drive.mount(\"/content/drive\", force_remount=True).\n"
          ]
        }
      ]
    },
    {
      "cell_type": "markdown",
      "metadata": {
        "id": "2NOEbnN8sfCr"
      },
      "source": [
        "### (1)import必要的套件"
      ]
    },
    {
      "cell_type": "code",
      "metadata": {
        "id": "p-nVGunlsfCs"
      },
      "source": [
        "import numpy as np\n",
        "from IPython import display\n",
        "import matplotlib.pyplot as plt\n",
        "import matplotlib.font_manager as plt_font\n",
        "#要記得改為自己的字形檔案路徑\n",
        "twfont1 = plt_font.FontProperties(\n",
        "    fname=\"/content/drive/MyDrive/Colab Notebooks/kaiu.ttf\")\n",
        "#若 fname 沒有設定路徑檔案,此格不會出錯,但是後面繪圖用中文字形會出錯"
      ],
      "execution_count": null,
      "outputs": []
    },
    {
      "cell_type": "code",
      "metadata": {
        "id": "1XSZ9bhZnEBy"
      },
      "source": [
        "import pandas as pd"
      ],
      "execution_count": null,
      "outputs": []
    },
    {
      "cell_type": "markdown",
      "metadata": {
        "id": "tOoOWi93qPgf"
      },
      "source": [
        "### (2)定義特徵縮放的函數"
      ]
    },
    {
      "cell_type": "code",
      "metadata": {
        "id": "oDtjfYUIqQwU"
      },
      "source": [
        "#參數kind預設為0，做標準化；kind設為1，做歸一化\n",
        "def FeatureScaling(data,kind=0):\n",
        "  if kind==1:\n",
        "    return (data-data.min())/(data.max()-data.min())\n",
        "  else:\n",
        "    return (data-data.mean())/data.std()\n",
        "#若 return 沒有設定數學公式,此格不會出錯,但是後面訓練時會出錯"
      ],
      "execution_count": null,
      "outputs": []
    },
    {
      "cell_type": "markdown",
      "metadata": {
        "id": "OVOf8tNGsfCz"
      },
      "source": [
        "### (3)將原始資料分為訓練資料集和驗證資料集"
      ]
    },
    {
      "cell_type": "code",
      "metadata": {
        "id": "XYHCBxhisfCz"
      },
      "source": [
        "#由自己的雲端SalesVolume.csv檔案載入資料集\n",
        "data= np.loadtxt(\n",
        "    \"/content/drive/MyDrive/Colab Notebooks/SalesVolume.csv\",\n",
        "    delimiter=\",\")"
      ],
      "execution_count": null,
      "outputs": []
    },
    {
      "cell_type": "code",
      "metadata": {
        "id": "PfxTxTagWdON"
      },
      "source": [
        "df0 = pd.DataFrame(data)\n",
        "df0"
      ],
      "execution_count": null,
      "outputs": []
    },
    {
      "cell_type": "markdown",
      "metadata": {
        "id": "12c3DFrhyykf"
      },
      "source": [
        "### 重新訓練若由此開始 Run After\n",
        "### 用不同順序的資料集,隨機取得訓練及驗證的資料"
      ]
    },
    {
      "cell_type": "code",
      "metadata": {
        "id": "gNzSe3gTY6qf"
      },
      "source": [
        "#DataFrame隨機排序 frac=1傳回全部的項目,\n",
        "#reset_index() 方法來重置 DataFrame 索引\n",
        "#drop=True 選項防止將 index 新增為新的行(column)。\n",
        "df = df0.sample(frac=1,axis=1).reset_index(drop=True)\n",
        "df"
      ],
      "execution_count": null,
      "outputs": []
    },
    {
      "cell_type": "code",
      "metadata": {
        "id": "jhzqHHQHVfdK"
      },
      "source": [
        "data = np.array(df)"
      ],
      "execution_count": null,
      "outputs": []
    },
    {
      "cell_type": "code",
      "metadata": {
        "id": "uVekABf0VGve"
      },
      "source": [
        "data"
      ],
      "execution_count": null,
      "outputs": []
    },
    {
      "cell_type": "code",
      "source": [
        "#第0列為廣告推播次數，並做特徵縮放，\n",
        "#第2參數設為0是標準化，設為1是歸一化\n",
        "data_x=FeatureScaling(data[0],0)\n",
        "data_y=data[1] #第1列為商品銷售數量\n",
        "#訓練資料集14筆\n",
        "#?加程式碼\n",
        "train_y=data_y[:14]\n",
        "#驗證資料集8筆\n",
        "valid_x=data_x[14:]\n",
        "#?加程式碼"
      ],
      "metadata": {
        "id": "yWkDX5faAftF"
      },
      "execution_count": null,
      "outputs": []
    },
    {
      "cell_type": "code",
      "source": [
        "#?加程式碼"
      ],
      "metadata": {
        "id": "6sL2GnANAkkG"
      },
      "execution_count": null,
      "outputs": []
    },
    {
      "cell_type": "code",
      "source": [
        "valid_x"
      ],
      "metadata": {
        "id": "EBY438ZOAnW3"
      },
      "execution_count": null,
      "outputs": []
    },
    {
      "cell_type": "markdown",
      "metadata": {
        "id": "euup-ZgasfC9"
      },
      "source": [
        "### (4)產生自變數資料和依變數資料的矩陣"
      ]
    },
    {
      "cell_type": "code",
      "source": [
        "#?加程式碼\n",
        "a"
      ],
      "metadata": {
        "id": "yDnF9hoWIf1s"
      },
      "execution_count": null,
      "outputs": []
    },
    {
      "cell_type": "code",
      "source": [
        "#?加程式碼\n",
        "b"
      ],
      "metadata": {
        "id": "hjnK2ujPQcrn"
      },
      "execution_count": null,
      "outputs": []
    },
    {
      "cell_type": "code",
      "source": [
        "#?加程式碼"
      ],
      "metadata": {
        "id": "LGx-MJFjImlC"
      },
      "execution_count": null,
      "outputs": []
    },
    {
      "cell_type": "code",
      "source": [
        "#?加程式碼"
      ],
      "metadata": {
        "id": "3EWeSwy8Tigw"
      },
      "execution_count": null,
      "outputs": []
    },
    {
      "cell_type": "code",
      "source": [
        "#?加程式碼"
      ],
      "metadata": {
        "id": "oZXNJhNVQdF2"
      },
      "execution_count": null,
      "outputs": []
    },
    {
      "cell_type": "code",
      "source": [
        "def Xmatrix(x):\n",
        "  #?加程式碼"
      ],
      "metadata": {
        "id": "8Ig5f9KbA8Jn"
      },
      "execution_count": null,
      "outputs": []
    },
    {
      "cell_type": "code",
      "source": [
        "#?加程式碼"
      ],
      "metadata": {
        "id": "phWP99Y3A-P3"
      },
      "execution_count": null,
      "outputs": []
    },
    {
      "cell_type": "code",
      "source": [
        "mtx_train_x"
      ],
      "metadata": {
        "id": "DKUAJS2pBCw-"
      },
      "execution_count": null,
      "outputs": []
    },
    {
      "cell_type": "code",
      "source": [
        "#?加程式碼"
      ],
      "metadata": {
        "id": "Ljre_O-eBJ_Y"
      },
      "execution_count": null,
      "outputs": []
    },
    {
      "cell_type": "code",
      "metadata": {
        "id": "F_rlB_uxsfC9"
      },
      "source": [
        "#自變數x的3次方的非線性迴歸\n",
        "#垂直堆疊x,x**2,x**3，再轉置組成X矩陣\n",
        "def Xmatrix(x):\n",
        "  #?加程式碼\n",
        "#若 return 沒有設定數學公式,此格不會出錯,但是後面訓練時會出錯\n",
        "#將訓練集資料和驗證集資料的自變數x轉成[K列m+1行]矩陣\n",
        "mtx_train_x=#?加程式碼\n",
        "mtx_valid_x=#?加程式碼\n",
        "#將訓練集資料和驗證集資料的依變數y轉成[K列1行]矩陣\n",
        "mtx_train_y=#?加程式碼\n",
        "mtx_valid_y=#?加程式碼"
      ],
      "execution_count": null,
      "outputs": []
    },
    {
      "cell_type": "code",
      "source": [
        "#?加程式碼"
      ],
      "metadata": {
        "id": "hrBL-bH36IvK"
      },
      "execution_count": null,
      "outputs": []
    },
    {
      "cell_type": "code",
      "source": [
        "mtx_train_x"
      ],
      "metadata": {
        "id": "mabfMOjF48A1"
      },
      "execution_count": null,
      "outputs": []
    },
    {
      "cell_type": "code",
      "source": [
        "mtx_train_y.shape"
      ],
      "metadata": {
        "id": "dPRIRs3q6bB4"
      },
      "execution_count": null,
      "outputs": []
    },
    {
      "cell_type": "code",
      "source": [
        "mtx_train_y"
      ],
      "metadata": {
        "id": "J0NSQIPk49SJ"
      },
      "execution_count": null,
      "outputs": []
    },
    {
      "cell_type": "markdown",
      "metadata": {
        "id": "NgSE-hQIsfDC"
      },
      "source": [
        "### (5)隨機初始化迴歸係數矩陣"
      ]
    },
    {
      "cell_type": "code",
      "metadata": {
        "id": "ZvRtY7tUsfDD"
      },
      "source": [
        "#亂數初始化迴歸係數為[m列1行]矩陣\n",
        "#?加程式碼\n",
        "#?加程式碼\n",
        "b"
      ],
      "execution_count": null,
      "outputs": []
    },
    {
      "cell_type": "code",
      "source": [
        "W"
      ],
      "metadata": {
        "id": "XhxkN0_N1lxD"
      },
      "execution_count": null,
      "outputs": []
    },
    {
      "cell_type": "code",
      "source": [
        "#?加程式碼"
      ],
      "metadata": {
        "id": "5R9206ZI8fe7"
      },
      "execution_count": null,
      "outputs": []
    },
    {
      "cell_type": "markdown",
      "metadata": {
        "id": "iRzulqTosfDI"
      },
      "source": [
        "### (6)計算迴歸模型函數的預測結果矩陣"
      ]
    },
    {
      "cell_type": "code",
      "metadata": {
        "id": "GJxfb387sfDK"
      },
      "source": [
        "def F(x):\n",
        "  #?加程式碼\n",
        "#若 return 沒有設定數學公式,此格不會出錯,但是後面訓練時會出錯"
      ],
      "execution_count": null,
      "outputs": []
    },
    {
      "cell_type": "markdown",
      "metadata": {
        "id": "KOaMV1OnsfDP"
      },
      "source": [
        "### (7)定義損失函數LOSS Funcation"
      ]
    },
    {
      "cell_type": "code",
      "metadata": {
        "id": "XTyW225OsfDQ"
      },
      "source": [
        "def Loss(x, y):\n",
        "    #?加程式碼\n",
        "#若 return 沒有設定數學公式,此格不會出錯,但是後面訓練時會出錯"
      ],
      "execution_count": null,
      "outputs": []
    },
    {
      "cell_type": "markdown",
      "metadata": {
        "id": "Zf29pTtksfDU"
      },
      "source": [
        "### (8)設定學習率和權重更新次數"
      ]
    },
    {
      "cell_type": "code",
      "metadata": {
        "id": "z46vTH5msfDU"
      },
      "source": [
        "ETA = #?加程式碼\n",
        "Step_Loss=[]"
      ],
      "execution_count": null,
      "outputs": []
    },
    {
      "cell_type": "markdown",
      "metadata": {
        "id": "EMoO8EUJsfDZ"
      },
      "source": [
        "### (9)開始訓練模型"
      ]
    },
    {
      "cell_type": "code",
      "metadata": {
        "id": "oQFf0n35sfDa"
      },
      "source": [
        "for epoch in range(10000):\n",
        "    #利用梯度下降更新迴歸係數\n",
        "    b=#?加程式碼\n",
        "    W=#?加程式碼\n",
        "    if epoch%100==99:\n",
        "        current_loss = #?加程式碼\n",
        "        Step_Loss.append(current_loss)\n",
        "        print(\"訓練次數:\",epoch+1,\"\\n偏值:\",b,\n",
        "              \"\\n權重:\",W,\"\\n損失函數:\",current_loss)\n",
        "        display.clear_output(wait=True)"
      ],
      "execution_count": null,
      "outputs": []
    },
    {
      "cell_type": "markdown",
      "metadata": {
        "id": "-QsPx2hysfDe"
      },
      "source": [
        "### (10)畫圖檢查模型訓練結果"
      ]
    },
    {
      "cell_type": "code",
      "metadata": {
        "id": "_QCteZTKsfDf"
      },
      "source": [
        "plt.figure(figsize=(8,5))\n",
        "plt.title(\"訓練模型和數據關係圖\",\n",
        "          fontproperties=twfont1,fontsize=20)\n",
        "plt.xlabel(\"x資料\",fontproperties=twfont1,fontsize=20)\n",
        "plt.ylabel(\"y資料\",fontproperties=twfont1,fontsize=20)\n",
        "x = #?加程式碼\n",
        "plt.plot(#?加程式碼,label=\"模型函數\")\n",
        "plt.plot(#?加程式碼, 'go',label=\"訓練資料集\")\n",
        "plt.plot(#?加程式碼, 'ro',label=\"驗證資料集\")\n",
        "plt.legend(prop=twfont1)\n",
        "plt.show()"
      ],
      "execution_count": null,
      "outputs": []
    },
    {
      "cell_type": "markdown",
      "metadata": {
        "id": "8Z7i_PousfDm"
      },
      "source": [
        "### (11)觀察Loss值隨訓練次數的變化"
      ]
    },
    {
      "cell_type": "code",
      "metadata": {
        "id": "OnNGm2nCsfDn"
      },
      "source": [
        "plt.figure(figsize=(8,5))\n",
        "plt.title(\"Loss隨訓練次數的變化\",\n",
        "          fontproperties=twfont1,fontsize=20)\n",
        "plt.xlabel(\"訓練次數(x100)\",\n",
        "           fontproperties=twfont1,fontsize=20)\n",
        "plt.ylabel(\"Loss值\",\n",
        "           fontproperties=twfont1,fontsize=20)\n",
        "plt.plot(#?加程式碼,\":o\")\n",
        "plt.show()"
      ],
      "execution_count": null,
      "outputs": []
    },
    {
      "cell_type": "markdown",
      "metadata": {
        "id": "x58XUG56sfDr"
      },
      "source": [
        "### (12)比較訓練好的迴歸模型函數在訓練資料集和驗證資料集的每筆平均Loss值"
      ]
    },
    {
      "cell_type": "code",
      "metadata": {
        "id": "yz9NDLGDsfDt"
      },
      "source": [
        "print(\"訓練資料集對回歸模型的每筆平均Loss值\",\n",
        "      #?加程式碼\n",
        "print(\"驗證資料集對回歸模型的每筆平均Loss值\",\n",
        "      #?加程式碼"
      ],
      "execution_count": null,
      "outputs": []
    },
    {
      "cell_type": "markdown",
      "metadata": {
        "id": "foJ91Mzde-_3"
      },
      "source": [
        "# 實作09：過度擬合_非線性回歸-利用矩陣運算\n",
        "##自變數x的6次方的非線性迴歸"
      ]
    },
    {
      "cell_type": "code",
      "metadata": {
        "id": "RSLt5ZnkgSQs"
      },
      "source": [
        "#DataFrame隨機排序 frac=1傳回全部的項目,\n",
        "#reset_index() 方法來重置 DataFrame 索引\n",
        "#drop=True 選項防止將 index 新增為新的行(column)。\n",
        "df = df0.sample(frac=1,axis=1).reset_index(drop=True)\n",
        "df"
      ],
      "execution_count": null,
      "outputs": []
    },
    {
      "cell_type": "code",
      "metadata": {
        "id": "rkpu0HGTgSQt"
      },
      "source": [
        "data = np.array(df)"
      ],
      "execution_count": null,
      "outputs": []
    },
    {
      "cell_type": "code",
      "metadata": {
        "id": "mAzzGEfZgSQt"
      },
      "source": [
        "data"
      ],
      "execution_count": null,
      "outputs": []
    },
    {
      "cell_type": "code",
      "source": [
        "#第0列為廣告推播次數，並做特徵縮放，\n",
        "#第2參數設為0是標準化，設為1是歸一化\n",
        "data_x=FeatureScaling(data[0],0)\n",
        "data_y=data[1] #第1列為商品銷售數量\n",
        "#訓練資料集12筆\n",
        "train_x=data_x[:14]\n",
        "train_y=data_y[:14]\n",
        "#驗證資料集8筆\n",
        "valid_x=data_x[14:]\n",
        "valid_y=data_y[14:]"
      ],
      "metadata": {
        "id": "nYAAp_LbgSQt"
      },
      "execution_count": null,
      "outputs": []
    },
    {
      "cell_type": "markdown",
      "metadata": {
        "id": "EMEL-C5Pe3BO"
      },
      "source": [
        "### (4)產生自變數資料和依變數資料的矩陣"
      ]
    },
    {
      "cell_type": "code",
      "metadata": {
        "id": "CqBudU7se3BT"
      },
      "source": [
        "#自變數x的4次方的非線性迴歸\n",
        "#垂直堆疊x,x**2,x**3,x**4,x**5,x**6，再轉置組成X矩陣\n",
        "def Xmatrix(x):\n",
        "  return #?加程式碼\n",
        "#若 return 沒有設定數學公式,此格不會出錯,但是後面訓練時會出錯\n",
        "#將訓練集資料和驗證集資料的自變數x轉成[K列m+1行]矩陣\n",
        "mtx_train_x=Xmatrix(train_x)\n",
        "mtx_valid_x=Xmatrix(valid_x)\n",
        "#將訓練集資料和驗證集資料的依變數y轉成[K列1行]矩陣\n",
        "mtx_train_y=train_y.reshape((-1,1))\n",
        "mtx_valid_y=valid_y.reshape((-1,1))"
      ],
      "execution_count": null,
      "outputs": []
    },
    {
      "cell_type": "code",
      "source": [
        "mtx_train_x.shape"
      ],
      "metadata": {
        "id": "2y6XAzh9e3BT"
      },
      "execution_count": null,
      "outputs": []
    },
    {
      "cell_type": "code",
      "source": [
        "mtx_train_x"
      ],
      "metadata": {
        "id": "r1oX4yJle3BT"
      },
      "execution_count": null,
      "outputs": []
    },
    {
      "cell_type": "code",
      "source": [
        "mtx_train_y.shape"
      ],
      "metadata": {
        "id": "nhxBJHvye3BT"
      },
      "execution_count": null,
      "outputs": []
    },
    {
      "cell_type": "code",
      "source": [
        "mtx_train_y"
      ],
      "metadata": {
        "id": "1ZpQdrMie3BU"
      },
      "execution_count": null,
      "outputs": []
    },
    {
      "cell_type": "markdown",
      "metadata": {
        "id": "kIWhscfTe3BU"
      },
      "source": [
        "### (5)隨機初始化迴歸係數矩陣"
      ]
    },
    {
      "cell_type": "code",
      "metadata": {
        "id": "j2VChFJ9e3BU"
      },
      "source": [
        "#亂數初始化迴歸係數為[m列1行]矩陣\n",
        "b=#?加程式碼\n",
        "W=#?加程式碼\n",
        "b"
      ],
      "execution_count": null,
      "outputs": []
    },
    {
      "cell_type": "code",
      "source": [
        "W"
      ],
      "metadata": {
        "id": "v2ULG6QJe3BU"
      },
      "execution_count": null,
      "outputs": []
    },
    {
      "cell_type": "code",
      "source": [
        "W.shape"
      ],
      "metadata": {
        "id": "YJmHVKXqe3BU"
      },
      "execution_count": null,
      "outputs": []
    },
    {
      "cell_type": "markdown",
      "metadata": {
        "id": "T6G-X5nOe3BU"
      },
      "source": [
        "### (6)計算迴歸模型函數的預測結果矩陣"
      ]
    },
    {
      "cell_type": "code",
      "metadata": {
        "id": "hM1oTt5ne3BU"
      },
      "source": [
        "def F(x):\n",
        "  return np.dot(x,W)+b\n",
        "#若 return 沒有設定數學公式,此格不會出錯,但是後面訓練時會出錯"
      ],
      "execution_count": null,
      "outputs": []
    },
    {
      "cell_type": "markdown",
      "metadata": {
        "id": "s84vzzY-e3BU"
      },
      "source": [
        "### (7)定義損失函數LOSS Funcation"
      ]
    },
    {
      "cell_type": "code",
      "metadata": {
        "id": "8gWLbZp_e3BV"
      },
      "source": [
        "def Loss(x, y):\n",
        "    return 0.5*np.sum((y-F(x))**2)\n",
        "#若 return 沒有設定數學公式,此格不會出錯,但是後面訓練時會出錯"
      ],
      "execution_count": null,
      "outputs": []
    },
    {
      "cell_type": "markdown",
      "metadata": {
        "id": "tohiMpT1e3BV"
      },
      "source": [
        "### (8)設定學習率和權重更新次數"
      ]
    },
    {
      "cell_type": "code",
      "metadata": {
        "id": "4ty42YSme3BV"
      },
      "source": [
        "ETA = 0.0001\n",
        "Step_Loss=[]"
      ],
      "execution_count": null,
      "outputs": []
    },
    {
      "cell_type": "markdown",
      "metadata": {
        "id": "fCQrUOIRe3BV"
      },
      "source": [
        "### (9)開始訓練模型"
      ]
    },
    {
      "cell_type": "code",
      "metadata": {
        "id": "e2-e4YLGe3BV"
      },
      "source": [
        "for epoch in range(20000):\n",
        "    #利用梯度下降更新迴歸係數\n",
        "    b=#?加程式碼\n",
        "    W=#?加程式碼\n",
        "    if epoch%100==99:\n",
        "        current_loss = Loss(mtx_train_x, mtx_train_y)\n",
        "        Step_Loss.append(current_loss)\n",
        "        print(\"訓練次數:\",epoch+1,\"\\n偏值:\",b,\n",
        "              \"\\n權重:\",W,\"\\n損失函數:\",current_loss)\n",
        "        display.clear_output(wait=True)"
      ],
      "execution_count": null,
      "outputs": []
    },
    {
      "cell_type": "markdown",
      "metadata": {
        "id": "Ejmc5l9le3BV"
      },
      "source": [
        "### (10)畫圖檢查模型訓練結果"
      ]
    },
    {
      "cell_type": "code",
      "metadata": {
        "id": "ErtIZVr3e3BV"
      },
      "source": [
        "plt.figure(figsize=(8,5))\n",
        "plt.title(\"訓練模型和數據關係圖\",\n",
        "          fontproperties=twfont1,fontsize=20)\n",
        "plt.xlabel(\"x資料\",fontproperties=twfont1,fontsize=20)\n",
        "plt.ylabel(\"y資料\",fontproperties=twfont1,fontsize=20)\n",
        "x = np.linspace(-1.7,2, 2000)\n",
        "plt.plot(x, F(Xmatrix(x)),label=\"模型函數\")\n",
        "plt.plot(train_x, train_y, 'go',label=\"訓練資料集\")\n",
        "plt.plot(valid_x, valid_y, 'ro',label=\"驗證資料集\")\n",
        "plt.legend(prop=twfont1)\n",
        "plt.show()"
      ],
      "execution_count": null,
      "outputs": []
    },
    {
      "cell_type": "markdown",
      "metadata": {
        "id": "DxMEgBGee3BV"
      },
      "source": [
        "### (11)觀察Loss值隨訓練次數的變化"
      ]
    },
    {
      "cell_type": "code",
      "metadata": {
        "id": "3ZPlvKCXe3BW"
      },
      "source": [
        "plt.figure(figsize=(8,5))\n",
        "plt.title(\"Loss隨訓練次數的變化\",\n",
        "          fontproperties=twfont1,fontsize=20)\n",
        "plt.xlabel(\"訓練次數(x100)\",\n",
        "           fontproperties=twfont1,fontsize=20)\n",
        "plt.ylabel(\"Loss值\",\n",
        "           fontproperties=twfont1,fontsize=20)\n",
        "plt.plot(Step_Loss,\":o\")\n",
        "plt.show()"
      ],
      "execution_count": null,
      "outputs": []
    },
    {
      "cell_type": "markdown",
      "metadata": {
        "id": "LFRMUA1He3BW"
      },
      "source": [
        "### (12)比較訓練好的迴歸模型函數在訓練資料集和驗證資料集的每筆平均Loss值"
      ]
    },
    {
      "cell_type": "code",
      "metadata": {
        "id": "4aZT--0ge3BW"
      },
      "source": [
        "print(\"訓練資料集對回歸模型的每筆平均Loss值\",\n",
        "      Loss(mtx_train_x, mtx_train_y)/np.size(train_x))\n",
        "print(\"驗證資料集對回歸模型的每筆平均Loss值\",\n",
        "      Loss(mtx_valid_x, mtx_valid_y)/np.size(valid_x))"
      ],
      "execution_count": null,
      "outputs": []
    }
  ]
}